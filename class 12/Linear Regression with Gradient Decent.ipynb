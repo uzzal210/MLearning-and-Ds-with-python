{
 "cells": [
  {
   "cell_type": "code",
   "execution_count": 1,
   "id": "15ae1137",
   "metadata": {},
   "outputs": [],
   "source": [
    "import pandas as pd\n",
    "import numpy as np"
   ]
  },
  {
   "cell_type": "code",
   "execution_count": 2,
   "id": "cf3258f4",
   "metadata": {},
   "outputs": [
    {
     "data": {
      "text/html": [
       "<div>\n",
       "<style scoped>\n",
       "    .dataframe tbody tr th:only-of-type {\n",
       "        vertical-align: middle;\n",
       "    }\n",
       "\n",
       "    .dataframe tbody tr th {\n",
       "        vertical-align: top;\n",
       "    }\n",
       "\n",
       "    .dataframe thead th {\n",
       "        text-align: right;\n",
       "    }\n",
       "</style>\n",
       "<table border=\"1\" class=\"dataframe\">\n",
       "  <thead>\n",
       "    <tr style=\"text-align: right;\">\n",
       "      <th></th>\n",
       "      <th>x</th>\n",
       "      <th>y</th>\n",
       "    </tr>\n",
       "  </thead>\n",
       "  <tbody>\n",
       "    <tr>\n",
       "      <th>0</th>\n",
       "      <td>48.955889</td>\n",
       "      <td>60.723602</td>\n",
       "    </tr>\n",
       "    <tr>\n",
       "      <th>1</th>\n",
       "      <td>44.687196</td>\n",
       "      <td>82.892504</td>\n",
       "    </tr>\n",
       "    <tr>\n",
       "      <th>2</th>\n",
       "      <td>60.297327</td>\n",
       "      <td>97.379897</td>\n",
       "    </tr>\n",
       "    <tr>\n",
       "      <th>3</th>\n",
       "      <td>45.618644</td>\n",
       "      <td>48.847153</td>\n",
       "    </tr>\n",
       "    <tr>\n",
       "      <th>4</th>\n",
       "      <td>38.816818</td>\n",
       "      <td>56.877213</td>\n",
       "    </tr>\n",
       "  </tbody>\n",
       "</table>\n",
       "</div>"
      ],
      "text/plain": [
       "           x          y\n",
       "0  48.955889  60.723602\n",
       "1  44.687196  82.892504\n",
       "2  60.297327  97.379897\n",
       "3  45.618644  48.847153\n",
       "4  38.816818  56.877213"
      ]
     },
     "execution_count": 2,
     "metadata": {},
     "output_type": "execute_result"
    }
   ],
   "source": [
    "df=pd.read_csv('data.csv')\n",
    "df.head()"
   ]
  },
  {
   "cell_type": "code",
   "execution_count": 3,
   "id": "8d2cb387",
   "metadata": {},
   "outputs": [],
   "source": [
    "x=df['x']\n",
    "y=df['y']"
   ]
  },
  {
   "cell_type": "code",
   "execution_count": 4,
   "id": "75d40b72",
   "metadata": {},
   "outputs": [
    {
     "data": {
      "text/plain": [
       "0     48.955889\n",
       "1     44.687196\n",
       "2     60.297327\n",
       "3     45.618644\n",
       "4     38.816818\n",
       "        ...    \n",
       "94    50.030174\n",
       "95    49.239765\n",
       "96    50.039576\n",
       "97    48.149859\n",
       "98    25.128485\n",
       "Name: x, Length: 99, dtype: float64"
      ]
     },
     "execution_count": 4,
     "metadata": {},
     "output_type": "execute_result"
    }
   ],
   "source": [
    "x"
   ]
  },
  {
   "cell_type": "code",
   "execution_count": 5,
   "id": "4d404a24",
   "metadata": {},
   "outputs": [
    {
     "data": {
      "text/plain": [
       "0     60.723602\n",
       "1     82.892504\n",
       "2     97.379897\n",
       "3     48.847153\n",
       "4     56.877213\n",
       "        ...    \n",
       "94    81.536991\n",
       "95    72.111832\n",
       "96    85.232007\n",
       "97    66.224958\n",
       "98    53.454394\n",
       "Name: y, Length: 99, dtype: float64"
      ]
     },
     "execution_count": 5,
     "metadata": {},
     "output_type": "execute_result"
    }
   ],
   "source": [
    "y"
   ]
  },
  {
   "cell_type": "markdown",
   "id": "ccb047bc",
   "metadata": {},
   "source": [
    "# LR using Gradient Decent Optimizer"
   ]
  },
  {
   "cell_type": "code",
   "execution_count": 6,
   "id": "283bfbb2",
   "metadata": {},
   "outputs": [],
   "source": [
    "m=0  #coefficient\n",
    "c=0  #intercept\n",
    "l=0.0001  #learning rate\n",
    "iterations=1000\n",
    "n=int(len(x))\n",
    "\n",
    "for i in range(iterations):\n",
    "    y_pred=m*x+c\n",
    "    derivatives_m=(-2/n)*sum(x*(y-y_pred))\n",
    "    derivatives_c=(-2/n)*sum((y-y_pred))\n",
    "    m=m-(l* derivatives_m)\n",
    "    c=c-(l* derivatives_c)"
   ]
  },
  {
   "cell_type": "code",
   "execution_count": 7,
   "id": "02234e35",
   "metadata": {},
   "outputs": [
    {
     "data": {
      "text/plain": [
       "1.4796491688881985"
      ]
     },
     "execution_count": 7,
     "metadata": {},
     "output_type": "execute_result"
    }
   ],
   "source": [
    "m"
   ]
  },
  {
   "cell_type": "code",
   "execution_count": 8,
   "id": "2bea5f5b",
   "metadata": {},
   "outputs": [
    {
     "data": {
      "text/plain": [
       "0.10148121497503648"
      ]
     },
     "execution_count": 8,
     "metadata": {},
     "output_type": "execute_result"
    }
   ],
   "source": [
    "c"
   ]
  },
  {
   "cell_type": "markdown",
   "id": "7c6169a3",
   "metadata": {},
   "source": [
    "# Prediction"
   ]
  },
  {
   "cell_type": "code",
   "execution_count": 9,
   "id": "575ef215",
   "metadata": {},
   "outputs": [
    {
     "name": "stdout",
     "output_type": "stream",
     "text": [
      "Enter any x1=60.297327\t\n"
     ]
    }
   ],
   "source": [
    "x=float(input('Enter any x1='))\n"
   ]
  },
  {
   "cell_type": "code",
   "execution_count": 10,
   "id": "a1c7df27",
   "metadata": {},
   "outputs": [],
   "source": [
    "y=m*x+c"
   ]
  },
  {
   "cell_type": "code",
   "execution_count": 11,
   "id": "109957fa",
   "metadata": {},
   "outputs": [
    {
     "data": {
      "text/plain": [
       "89.32037099670498"
      ]
     },
     "execution_count": 11,
     "metadata": {},
     "output_type": "execute_result"
    }
   ],
   "source": [
    "y"
   ]
  },
  {
   "cell_type": "code",
   "execution_count": 12,
   "id": "31cb9272",
   "metadata": {},
   "outputs": [
    {
     "data": {
      "text/plain": [
       "60.297327"
      ]
     },
     "execution_count": 12,
     "metadata": {},
     "output_type": "execute_result"
    }
   ],
   "source": [
    "x\n"
   ]
  },
  {
   "cell_type": "code",
   "execution_count": 13,
   "id": "66d2298c",
   "metadata": {},
   "outputs": [
    {
     "data": {
      "text/plain": [
       "89.32037099670498"
      ]
     },
     "execution_count": 13,
     "metadata": {},
     "output_type": "execute_result"
    }
   ],
   "source": [
    "y"
   ]
  },
  {
   "cell_type": "code",
   "execution_count": 15,
   "id": "0b5d6acc",
   "metadata": {},
   "outputs": [],
   "source": [
    "from sklearn.linear_model import LinearRegression\n",
    "lr=LinearRegression()"
   ]
  },
  {
   "cell_type": "code",
   "execution_count": 16,
   "id": "7923f5b6",
   "metadata": {},
   "outputs": [
    {
     "data": {
      "text/plain": [
       "LinearRegression()"
      ]
     },
     "execution_count": 16,
     "metadata": {},
     "output_type": "execute_result"
    }
   ],
   "source": [
    "lr.fit(df[['x']],df['y'])"
   ]
  },
  {
   "cell_type": "code",
   "execution_count": 17,
   "id": "7c36231d",
   "metadata": {},
   "outputs": [
    {
     "data": {
      "text/plain": [
       "array([87.5328145])"
      ]
     },
     "execution_count": 17,
     "metadata": {},
     "output_type": "execute_result"
    }
   ],
   "source": [
    "lr.predict([[60.297327]])"
   ]
  },
  {
   "cell_type": "code",
   "execution_count": null,
   "id": "a81b2103",
   "metadata": {},
   "outputs": [],
   "source": []
  }
 ],
 "metadata": {
  "kernelspec": {
   "display_name": "Python 3 (ipykernel)",
   "language": "python",
   "name": "python3"
  },
  "language_info": {
   "codemirror_mode": {
    "name": "ipython",
    "version": 3
   },
   "file_extension": ".py",
   "mimetype": "text/x-python",
   "name": "python",
   "nbconvert_exporter": "python",
   "pygments_lexer": "ipython3",
   "version": "3.9.7"
  }
 },
 "nbformat": 4,
 "nbformat_minor": 5
}

{
 "cells": [
  {
   "cell_type": "markdown",
   "id": "ee253b68",
   "metadata": {},
   "source": [
    "# Stemming NLP"
   ]
  },
  {
   "cell_type": "code",
   "execution_count": 1,
   "id": "7b9c3886",
   "metadata": {},
   "outputs": [],
   "source": [
    "word_list = ['change', 'changing','changes','changed']"
   ]
  },
  {
   "cell_type": "code",
   "execution_count": 2,
   "id": "34bfc84d",
   "metadata": {},
   "outputs": [
    {
     "data": {
      "text/plain": [
       "['change', 'changing', 'changes', 'changed']"
      ]
     },
     "execution_count": 2,
     "metadata": {},
     "output_type": "execute_result"
    }
   ],
   "source": [
    "word_list"
   ]
  },
  {
   "cell_type": "code",
   "execution_count": 4,
   "id": "aa12a57f",
   "metadata": {},
   "outputs": [],
   "source": [
    "from nltk.stem import PorterStemmer # nltk.download('punkt')"
   ]
  },
  {
   "cell_type": "code",
   "execution_count": 5,
   "id": "cd8dc5d0",
   "metadata": {},
   "outputs": [],
   "source": [
    "porter = PorterStemmer() "
   ]
  },
  {
   "cell_type": "code",
   "execution_count": 6,
   "id": "afee7fde",
   "metadata": {},
   "outputs": [
    {
     "name": "stdout",
     "output_type": "stream",
     "text": [
      "change\n",
      "changing\n",
      "changes\n",
      "changed\n"
     ]
    }
   ],
   "source": [
    "for word in word_list:\n",
    "    print(word)\n",
    "    #print(porter.stem(word))"
   ]
  },
  {
   "cell_type": "code",
   "execution_count": 7,
   "id": "e426e264",
   "metadata": {},
   "outputs": [
    {
     "name": "stdout",
     "output_type": "stream",
     "text": [
      "chang\n",
      "chang\n",
      "chang\n",
      "chang\n"
     ]
    }
   ],
   "source": [
    "for word in word_list:\n",
    "    #print(word)\n",
    "    print(porter.stem(word))"
   ]
  },
  {
   "cell_type": "code",
   "execution_count": 13,
   "id": "fec1bc9b",
   "metadata": {},
   "outputs": [],
   "source": [
    "sentence = 'Changing the world with valadimir putin change changed'"
   ]
  },
  {
   "cell_type": "code",
   "execution_count": 14,
   "id": "28e19633",
   "metadata": {},
   "outputs": [
    {
     "data": {
      "text/plain": [
       "'Changing the world with valadimir putin change changed'"
      ]
     },
     "execution_count": 14,
     "metadata": {},
     "output_type": "execute_result"
    }
   ],
   "source": [
    "sentence"
   ]
  },
  {
   "cell_type": "code",
   "execution_count": 15,
   "id": "d3c7f7c0",
   "metadata": {},
   "outputs": [],
   "source": [
    "from nltk.tokenize import word_tokenize"
   ]
  },
  {
   "cell_type": "code",
   "execution_count": 16,
   "id": "f0fe9ec4",
   "metadata": {},
   "outputs": [],
   "source": [
    "sen = word_tokenize(sentence)"
   ]
  },
  {
   "cell_type": "code",
   "execution_count": 17,
   "id": "789d528c",
   "metadata": {},
   "outputs": [
    {
     "data": {
      "text/plain": [
       "['Changing', 'the', 'world', 'with', 'valadimir', 'putin', 'change', 'changed']"
      ]
     },
     "execution_count": 17,
     "metadata": {},
     "output_type": "execute_result"
    }
   ],
   "source": [
    "sen"
   ]
  },
  {
   "cell_type": "code",
   "execution_count": 18,
   "id": "c6c5e2cd",
   "metadata": {},
   "outputs": [
    {
     "name": "stdout",
     "output_type": "stream",
     "text": [
      "chang\n",
      "the\n",
      "world\n",
      "with\n",
      "valadimir\n",
      "putin\n",
      "chang\n",
      "chang\n"
     ]
    }
   ],
   "source": [
    "for word in sen:\n",
    "    print(porter.stem(word))"
   ]
  },
  {
   "cell_type": "markdown",
   "id": "16cb320a",
   "metadata": {},
   "source": [
    "# Lemmatization in NLP"
   ]
  },
  {
   "cell_type": "code",
   "execution_count": 19,
   "id": "e0ebb1f7",
   "metadata": {},
   "outputs": [],
   "source": [
    "from nltk.stem import WordNetLemmatizer"
   ]
  },
  {
   "cell_type": "code",
   "execution_count": 20,
   "id": "d89f6a3a",
   "metadata": {},
   "outputs": [],
   "source": [
    "lem = WordNetLemmatizer()"
   ]
  },
  {
   "cell_type": "code",
   "execution_count": 21,
   "id": "ba857320",
   "metadata": {},
   "outputs": [
    {
     "name": "stdout",
     "output_type": "stream",
     "text": [
      "changing\n"
     ]
    }
   ],
   "source": [
    "print(lem.lemmatize('changing'))"
   ]
  },
  {
   "cell_type": "code",
   "execution_count": 22,
   "id": "f6039aa5",
   "metadata": {},
   "outputs": [
    {
     "name": "stdout",
     "output_type": "stream",
     "text": [
      "change\n"
     ]
    }
   ],
   "source": [
    "print(lem.lemmatize('changes'))"
   ]
  },
  {
   "cell_type": "code",
   "execution_count": 23,
   "id": "34e0f3ef",
   "metadata": {},
   "outputs": [
    {
     "name": "stdout",
     "output_type": "stream",
     "text": [
      "changed\n"
     ]
    }
   ],
   "source": [
    "print(lem.lemmatize('changed'))"
   ]
  },
  {
   "cell_type": "code",
   "execution_count": null,
   "id": "d6b633fe",
   "metadata": {},
   "outputs": [],
   "source": []
  }
 ],
 "metadata": {
  "kernelspec": {
   "display_name": "Python 3 (ipykernel)",
   "language": "python",
   "name": "python3"
  },
  "language_info": {
   "codemirror_mode": {
    "name": "ipython",
    "version": 3
   },
   "file_extension": ".py",
   "mimetype": "text/x-python",
   "name": "python",
   "nbconvert_exporter": "python",
   "pygments_lexer": "ipython3",
   "version": "3.9.7"
  }
 },
 "nbformat": 4,
 "nbformat_minor": 5
}

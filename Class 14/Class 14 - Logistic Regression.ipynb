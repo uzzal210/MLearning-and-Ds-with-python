{
 "cells": [
  {
   "cell_type": "code",
   "execution_count": 1,
   "id": "cb1e37d2",
   "metadata": {},
   "outputs": [
    {
     "data": {
      "text/html": [
       "<div>\n",
       "<style scoped>\n",
       "    .dataframe tbody tr th:only-of-type {\n",
       "        vertical-align: middle;\n",
       "    }\n",
       "\n",
       "    .dataframe tbody tr th {\n",
       "        vertical-align: top;\n",
       "    }\n",
       "\n",
       "    .dataframe thead th {\n",
       "        text-align: right;\n",
       "    }\n",
       "</style>\n",
       "<table border=\"1\" class=\"dataframe\">\n",
       "  <thead>\n",
       "    <tr style=\"text-align: right;\">\n",
       "      <th></th>\n",
       "      <th>size(cm)</th>\n",
       "      <th>class(y)</th>\n",
       "    </tr>\n",
       "  </thead>\n",
       "  <tbody>\n",
       "    <tr>\n",
       "      <th>0</th>\n",
       "      <td>9.500</td>\n",
       "      <td>Female</td>\n",
       "    </tr>\n",
       "    <tr>\n",
       "      <th>1</th>\n",
       "      <td>10.125</td>\n",
       "      <td>Male</td>\n",
       "    </tr>\n",
       "    <tr>\n",
       "      <th>2</th>\n",
       "      <td>10.410</td>\n",
       "      <td>Male</td>\n",
       "    </tr>\n",
       "    <tr>\n",
       "      <th>3</th>\n",
       "      <td>9.810</td>\n",
       "      <td>Female</td>\n",
       "    </tr>\n",
       "    <tr>\n",
       "      <th>4</th>\n",
       "      <td>11.050</td>\n",
       "      <td>Male</td>\n",
       "    </tr>\n",
       "  </tbody>\n",
       "</table>\n",
       "</div>"
      ],
      "text/plain": [
       "   size(cm) class(y)\n",
       "0     9.500   Female\n",
       "1    10.125     Male\n",
       "2    10.410     Male\n",
       "3     9.810   Female\n",
       "4    11.050     Male"
      ]
     },
     "execution_count": 1,
     "metadata": {},
     "output_type": "execute_result"
    }
   ],
   "source": [
    "import pandas as pd\n",
    "df = pd.read_csv('shoe.csv')\n",
    "df.head()"
   ]
  },
  {
   "cell_type": "code",
   "execution_count": 2,
   "id": "b288e1c5",
   "metadata": {},
   "outputs": [],
   "source": [
    "from matplotlib import pyplot as plt\n",
    "import numpy as np"
   ]
  },
  {
   "cell_type": "code",
   "execution_count": 3,
   "id": "5c31a256",
   "metadata": {},
   "outputs": [
    {
     "data": {
      "text/plain": [
       "<matplotlib.collections.PathCollection at 0x1d3dc5a8be0>"
      ]
     },
     "execution_count": 3,
     "metadata": {},
     "output_type": "execute_result"
    },
    {
     "data": {
      "image/png": "[encoded data removed]",
      "text/plain": [
       "<Figure size 432x288 with 1 Axes>"
      ]
     },
     "metadata": {
      "needs_background": "light"
     },
     "output_type": "display_data"
    }
   ],
   "source": [
    "plt.scatter(df['size(cm)'], df['class(y)'])"
   ]
  },
  {
   "cell_type": "code",
   "execution_count": 7,
   "id": "bdad774c",
   "metadata": {},
   "outputs": [
    {
     "data": {
      "text/plain": [
       "array(['Female', 'Male'], dtype=object)"
      ]
     },
     "execution_count": 7,
     "metadata": {},
     "output_type": "execute_result"
    }
   ],
   "source": [
    "df['class(y)'].unique()"
   ]
  },
  {
   "cell_type": "code",
   "execution_count": 8,
   "id": "b723b830",
   "metadata": {},
   "outputs": [],
   "source": [
    "df['class(y)'] = df['class(y)'].replace(['Female', 'Male'],[0,1])"
   ]
  },
  {
   "cell_type": "code",
   "execution_count": 9,
   "id": "1160e4d8",
   "metadata": {},
   "outputs": [
    {
     "data": {
      "text/html": [
       "<div>\n",
       "<style scoped>\n",
       "    .dataframe tbody tr th:only-of-type {\n",
       "        vertical-align: middle;\n",
       "    }\n",
       "\n",
       "    .dataframe tbody tr th {\n",
       "        vertical-align: top;\n",
       "    }\n",
       "\n",
       "    .dataframe thead th {\n",
       "        text-align: right;\n",
       "    }\n",
       "</style>\n",
       "<table border=\"1\" class=\"dataframe\">\n",
       "  <thead>\n",
       "    <tr style=\"text-align: right;\">\n",
       "      <th></th>\n",
       "      <th>size(cm)</th>\n",
       "      <th>class(y)</th>\n",
       "    </tr>\n",
       "  </thead>\n",
       "  <tbody>\n",
       "    <tr>\n",
       "      <th>0</th>\n",
       "      <td>9.500</td>\n",
       "      <td>0</td>\n",
       "    </tr>\n",
       "    <tr>\n",
       "      <th>1</th>\n",
       "      <td>10.125</td>\n",
       "      <td>1</td>\n",
       "    </tr>\n",
       "    <tr>\n",
       "      <th>2</th>\n",
       "      <td>10.410</td>\n",
       "      <td>1</td>\n",
       "    </tr>\n",
       "    <tr>\n",
       "      <th>3</th>\n",
       "      <td>9.810</td>\n",
       "      <td>0</td>\n",
       "    </tr>\n",
       "    <tr>\n",
       "      <th>4</th>\n",
       "      <td>11.050</td>\n",
       "      <td>1</td>\n",
       "    </tr>\n",
       "  </tbody>\n",
       "</table>\n",
       "</div>"
      ],
      "text/plain": [
       "   size(cm)  class(y)\n",
       "0     9.500         0\n",
       "1    10.125         1\n",
       "2    10.410         1\n",
       "3     9.810         0\n",
       "4    11.050         1"
      ]
     },
     "execution_count": 9,
     "metadata": {},
     "output_type": "execute_result"
    }
   ],
   "source": [
    "df.head()"
   ]
  },
  {
   "cell_type": "code",
   "execution_count": 10,
   "id": "9752b78e",
   "metadata": {},
   "outputs": [],
   "source": [
    "from sklearn.linear_model import LogisticRegression\n",
    "l = LogisticRegression()"
   ]
  },
  {
   "cell_type": "code",
   "execution_count": 12,
   "id": "fc58c3f9",
   "metadata": {},
   "outputs": [
    {
     "data": {
      "text/plain": [
       "LogisticRegression()"
      ]
     },
     "execution_count": 12,
     "metadata": {},
     "output_type": "execute_result"
    }
   ],
   "source": [
    "l.fit(df[['size(cm)']], df['class(y)'])"
   ]
  },
  {
   "cell_type": "code",
   "execution_count": 13,
   "id": "85c13508",
   "metadata": {},
   "outputs": [
    {
     "data": {
      "text/plain": [
       "array([[2.62699981]])"
      ]
     },
     "execution_count": 13,
     "metadata": {},
     "output_type": "execute_result"
    }
   ],
   "source": [
    "l.coef_"
   ]
  },
  {
   "cell_type": "code",
   "execution_count": 14,
   "id": "e1cad5c2",
   "metadata": {},
   "outputs": [
    {
     "data": {
      "text/plain": [
       "array([-26.18198935])"
      ]
     },
     "execution_count": 14,
     "metadata": {},
     "output_type": "execute_result"
    }
   ],
   "source": [
    "l.intercept_"
   ]
  },
  {
   "cell_type": "code",
   "execution_count": 19,
   "id": "318dbf72",
   "metadata": {},
   "outputs": [],
   "source": [
    "probability = l.predict_proba(df[['size(cm)']])"
   ]
  },
  {
   "cell_type": "code",
   "execution_count": 17,
   "id": "f857e606",
   "metadata": {},
   "outputs": [],
   "source": [
    "import numpy as np"
   ]
  },
  {
   "cell_type": "code",
   "execution_count": 21,
   "id": "7489622a",
   "metadata": {},
   "outputs": [
    {
     "data": {
      "text/plain": [
       "array([0, 1, 1, 0, 1, 0, 0, 1, 0, 0, 0, 1, 1, 1, 1, 1, 1, 0, 1, 1, 1, 0,\n",
       "       0, 1, 0, 1, 1, 1, 1, 1, 1, 0, 1, 0, 1, 0, 0, 1, 0, 0], dtype=int64)"
      ]
     },
     "execution_count": 21,
     "metadata": {},
     "output_type": "execute_result"
    }
   ],
   "source": [
    "l.predict(df[['size(cm)']]) #predicted"
   ]
  },
  {
   "cell_type": "code",
   "execution_count": 23,
   "id": "26748a1c",
   "metadata": {},
   "outputs": [
    {
     "data": {
      "text/plain": [
       "array([0, 1, 1, 0, 1, 0, 0, 1, 0, 0, 0, 1, 1, 1, 1, 1, 0, 0, 1, 1, 1, 0,\n",
       "       0, 1, 0, 1, 1, 1, 1, 1, 0, 0, 1, 0, 1, 0, 0, 1, 0, 1], dtype=int64)"
      ]
     },
     "execution_count": 23,
     "metadata": {},
     "output_type": "execute_result"
    }
   ],
   "source": [
    "np.array(df['class(y)']) #actual"
   ]
  },
  {
   "cell_type": "code",
   "execution_count": 20,
   "id": "da4605b2",
   "metadata": {},
   "outputs": [
    {
     "data": {
      "text/plain": [
       "array([[0.77302845, 0.22697155],\n",
       "       [0.39738242, 0.60261758],\n",
       "       [0.2377457 , 0.7622543 ],\n",
       "       [0.6013567 , 0.3986433 ],\n",
       "       [0.05486986, 0.94513014],\n",
       "       [0.8951951 , 0.1048049 ],\n",
       "       [0.79524583, 0.20475417],\n",
       "       [0.17003227, 0.82996773],\n",
       "       [0.66235827, 0.33764173],\n",
       "       [0.69665958, 0.30334042],\n",
       "       [0.59504263, 0.40495737],\n",
       "       [0.23301782, 0.76698218],\n",
       "       [0.35729164, 0.64270836],\n",
       "       [0.07737361, 0.92262639],\n",
       "       [0.17757582, 0.82242418],\n",
       "       [0.11860381, 0.88139619],\n",
       "       [0.46492055, 0.53507945],\n",
       "       [0.52395197, 0.47604803],\n",
       "       [0.29398481, 0.70601519],\n",
       "       [0.16274575, 0.83725425],\n",
       "       [0.38176611, 0.61823389],\n",
       "       [0.83473184, 0.16526816],\n",
       "       [0.88221669, 0.11778331],\n",
       "       [0.1392146 , 0.8607854 ],\n",
       "       [0.71305157, 0.28694843],\n",
       "       [0.21476669, 0.78523331],\n",
       "       [0.2994667 , 0.7005333 ],\n",
       "       [0.09833362, 0.90166638],\n",
       "       [0.2192301 , 0.7807699 ],\n",
       "       [0.11860381, 0.88139619],\n",
       "       [0.45187724, 0.54812276],\n",
       "       [0.53703735, 0.46296265],\n",
       "       [0.24253916, 0.75746084],\n",
       "       [0.72890245, 0.27109755],\n",
       "       [0.3755854 , 0.6244146 ],\n",
       "       [0.85206517, 0.14793483],\n",
       "       [0.87945944, 0.12054056],\n",
       "       [0.17377172, 0.82622828],\n",
       "       [0.7236803 , 0.2763197 ],\n",
       "       [0.84531926, 0.15468074]])"
      ]
     },
     "execution_count": 20,
     "metadata": {},
     "output_type": "execute_result"
    }
   ],
   "source": [
    "np.array(probability)"
   ]
  },
  {
   "cell_type": "code",
   "execution_count": 22,
   "id": "68407ee5",
   "metadata": {},
   "outputs": [
    {
     "data": {
      "text/plain": [
       "0.925"
      ]
     },
     "execution_count": 22,
     "metadata": {},
     "output_type": "execute_result"
    }
   ],
   "source": [
    "l.score(df[['size(cm)']], df['class(y)'])"
   ]
  },
  {
   "cell_type": "code",
   "execution_count": 24,
   "id": "3c70a4d7",
   "metadata": {},
   "outputs": [
    {
     "data": {
      "text/plain": [
       "(40, 2)"
      ]
     },
     "execution_count": 24,
     "metadata": {},
     "output_type": "execute_result"
    }
   ],
   "source": [
    "df.shape"
   ]
  },
  {
   "cell_type": "code",
   "execution_count": 26,
   "id": "345f3847",
   "metadata": {},
   "outputs": [
    {
     "data": {
      "text/plain": [
       "0.925"
      ]
     },
     "execution_count": 26,
     "metadata": {},
     "output_type": "execute_result"
    }
   ],
   "source": [
    "37/40"
   ]
  },
  {
   "cell_type": "code",
   "execution_count": 31,
   "id": "d85a6b1a",
   "metadata": {},
   "outputs": [
    {
     "data": {
      "text/plain": [
       "<AxesSubplot:xlabel='class(y)', ylabel='Count'>"
      ]
     },
     "execution_count": 31,
     "metadata": {},
     "output_type": "execute_result"
    },
    {
     "data": {
      "image/png": "[encoded data removed]",
      "text/plain": [
       "<Figure size 432x288 with 1 Axes>"
      ]
     },
     "metadata": {
      "needs_background": "light"
     },
     "output_type": "display_data"
    }
   ],
   "source": [
    "import seaborn as sns\n",
    "sns.histplot(df['class(y)'])"
   ]
  },
  {
   "cell_type": "code",
   "execution_count": 32,
   "id": "35d598b3",
   "metadata": {},
   "outputs": [
    {
     "data": {
      "text/plain": [
       "(array([18.,  0.,  0.,  0.,  0.,  0.,  0.,  0.,  0., 22.]),\n",
       " array([0. , 0.1, 0.2, 0.3, 0.4, 0.5, 0.6, 0.7, 0.8, 0.9, 1. ]),\n",
       " <BarContainer object of 10 artists>)"
      ]
     },
     "execution_count": 32,
     "metadata": {},
     "output_type": "execute_result"
    },
    {
     "data": {
      "image/png": "[encoded data removed]",
      "text/plain": [
       "<Figure size 432x288 with 1 Axes>"
      ]
     },
     "metadata": {
      "needs_background": "light"
     },
     "output_type": "display_data"
    }
   ],
   "source": [
    "plt.hist(df['class(y)'])"
   ]
  },
  {
   "cell_type": "code",
   "execution_count": 33,
   "id": "b1a19715",
   "metadata": {},
   "outputs": [
    {
     "data": {
      "text/plain": [
       "([<matplotlib.patches.Wedge at 0x1d3dfe7eb80>,\n",
       "  <matplotlib.patches.Wedge at 0x1d3dfe8a040>,\n",
       "  <matplotlib.patches.Wedge at 0x1d3dfe8a4c0>,\n",
       "  <matplotlib.patches.Wedge at 0x1d3dfe8a940>,\n",
       "  <matplotlib.patches.Wedge at 0x1d3dfe8adc0>,\n",
       "  <matplotlib.patches.Wedge at 0x1d3dfe97280>,\n",
       "  <matplotlib.patches.Wedge at 0x1d3dfe97730>,\n",
       "  <matplotlib.patches.Wedge at 0x1d3dfe97bb0>,\n",
       "  <matplotlib.patches.Wedge at 0x1d3dfe97fd0>,\n",
       "  <matplotlib.patches.Wedge at 0x1d3dfea44f0>,\n",
       "  <matplotlib.patches.Wedge at 0x1d3dfe62760>,\n",
       "  <matplotlib.patches.Wedge at 0x1d3dfea4dc0>,\n",
       "  <matplotlib.patches.Wedge at 0x1d3dfeb2280>,\n",
       "  <matplotlib.patches.Wedge at 0x1d3dfeb2700>,\n",
       "  <matplotlib.patches.Wedge at 0x1d3dfeb2b80>,\n",
       "  <matplotlib.patches.Wedge at 0x1d3dfeb2fa0>,\n",
       "  <matplotlib.patches.Wedge at 0x1d3dfebf4c0>,\n",
       "  <matplotlib.patches.Wedge at 0x1d3dfebf940>,\n",
       "  <matplotlib.patches.Wedge at 0x1d3dfebfdc0>,\n",
       "  <matplotlib.patches.Wedge at 0x1d3dfecb280>,\n",
       "  <matplotlib.patches.Wedge at 0x1d3dfecb700>,\n",
       "  <matplotlib.patches.Wedge at 0x1d3dfecbb80>,\n",
       "  <matplotlib.patches.Wedge at 0x1d3dfecbfa0>,\n",
       "  <matplotlib.patches.Wedge at 0x1d3dfed64c0>,\n",
       "  <matplotlib.patches.Wedge at 0x1d3dfed6940>,\n",
       "  <matplotlib.patches.Wedge at 0x1d3dfed6dc0>,\n",
       "  <matplotlib.patches.Wedge at 0x1d3dfee5280>,\n",
       "  <matplotlib.patches.Wedge at 0x1d3dfee5700>,\n",
       "  <matplotlib.patches.Wedge at 0x1d3dfee5b80>,\n",
       "  <matplotlib.patches.Wedge at 0x1d3dfee5fa0>,\n",
       "  <matplotlib.patches.Wedge at 0x1d3dfef34c0>,\n",
       "  <matplotlib.patches.Wedge at 0x1d3dfef3940>,\n",
       "  <matplotlib.patches.Wedge at 0x1d3dfef3dc0>,\n",
       "  <matplotlib.patches.Wedge at 0x1d3dff02280>,\n",
       "  <matplotlib.patches.Wedge at 0x1d3dff02700>,\n",
       "  <matplotlib.patches.Wedge at 0x1d3dff02b80>,\n",
       "  <matplotlib.patches.Wedge at 0x1d3dff02fa0>,\n",
       "  <matplotlib.patches.Wedge at 0x1d3dfee74f0>,\n",
       "  <matplotlib.patches.Wedge at 0x1d3dfee7970>,\n",
       "  <matplotlib.patches.Wedge at 0x1d3dfee7df0>],\n",
       " [Text(1.1, 0.0, ''),\n",
       "  Text(1.0888035854028022, 0.15654632673430227, ''),\n",
       "  Text(1.0005951890558762, 0.4569565270769591, ''),\n",
       "  Text(0.9253788759906099, 0.5947049149539254, ''),\n",
       "  Text(0.8313245164615624, 0.7203468250294088, ''),\n",
       "  Text(0.7203467861122989, 0.8313245501834299, ''),\n",
       "  Text(0.7203467861122989, 0.8313245501834299, ''),\n",
       "  Text(0.5947048716338131, 0.9253789038307552, ''),\n",
       "  Text(0.4569564802357173, 1.000595210447554, ''),\n",
       "  Text(0.4569564802357173, 1.000595210447554, ''),\n",
       "  Text(0.4569564802357173, 1.000595210447554, ''),\n",
       "  Text(0.3099057721001755, 1.055442282845914, ''),\n",
       "  Text(-5.149471629032507e-08, 1.0999999999999988, ''),\n",
       "  Text(-0.3099058709178122, 1.0554422538304369, ''),\n",
       "  Text(-0.5947049582740361, 0.9253788481504627, ''),\n",
       "  Text(-0.8313245839052957, 0.7203467471951874, ''),\n",
       "  Text(-0.9253789316708985, 0.5947048283136995, ''),\n",
       "  Text(-0.9253789316708985, 0.5947048283136995, ''),\n",
       "  Text(-1.0005952318392295, 0.4569564333944747, ''),\n",
       "  Text(-1.0888036000597223, 0.1565462247931527, ''),\n",
       "  Text(-1.0888035707458725, -0.15654642867545038, ''),\n",
       "  Text(-1.055442239322695, -0.30990592032662945, ''),\n",
       "  Text(-1.055442239322695, -0.30990592032662945, ''),\n",
       "  Text(-1.000595146272514, -0.45695662075943977, ''),\n",
       "  Text(-0.9253788203103135, -0.5947050015941457, ''),\n",
       "  Text(-0.8313244490178215, -0.7203469028636242, ''),\n",
       "  Text(-0.5947047849935851, -0.9253789595110394, ''),\n",
       "  Text(-0.3099056732825361, -1.0554423118613818, ''),\n",
       "  Text(1.5448414935947287e-07, -1.0999999999999892, ''),\n",
       "  Text(0.3099059697354461, -1.0554422248149506, ''),\n",
       "  Text(0.45695666760067855, -1.0005951248808298, ''),\n",
       "  Text(0.45695666760067855, -1.0005951248808298, ''),\n",
       "  Text(0.5947050449142544, -0.9253787924701619, ''),\n",
       "  Text(0.7203469417807291, -0.8313244152959488, ''),\n",
       "  Text(0.8313246513490219, -0.7203466693609596, ''),\n",
       "  Text(0.9253789873511787, -0.5947047416734687, ''),\n",
       "  Text(0.9253789873511787, -0.5947047416734687, ''),\n",
       "  Text(1.0005952746225741, -0.4569563397119858, ''),\n",
       "  Text(1.0554423263691122, -0.30990562387371495, ''),\n",
       "  Text(1.088803614716633, -0.15654612285200253, '')])"
      ]
     },
     "execution_count": 33,
     "metadata": {},
     "output_type": "execute_result"
    },
    {
     "data": {
      "image/png": "[encoded data removed]",
      "text/plain": [
       "<Figure size 432x288 with 1 Axes>"
      ]
     },
     "metadata": {},
     "output_type": "display_data"
    }
   ],
   "source": [
    "plt.pie(df['class(y)'])"
   ]
  },
  {
   "cell_type": "code",
   "execution_count": null,
   "id": "c79cb6e9",
   "metadata": {},
   "outputs": [],
   "source": []
  }
 ],
 "metadata": {
  "kernelspec": {
   "display_name": "Python 3 (ipykernel)",
   "language": "python",
   "name": "python3"
  },
  "language_info": {
   "codemirror_mode": {
    "name": "ipython",
    "version": 3
   },
   "file_extension": ".py",
   "mimetype": "text/x-python",
   "name": "python",
   "nbconvert_exporter": "python",
   "pygments_lexer": "ipython3",
   "version": "3.9.7"
  }
 },
 "nbformat": 4,
 "nbformat_minor": 5
}

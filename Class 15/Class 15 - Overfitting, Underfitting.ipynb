{
 "cells": [
  {
   "cell_type": "code",
   "execution_count": 1,
   "id": "8a66fdaa",
   "metadata": {},
   "outputs": [],
   "source": [
    "#Over fitting\n",
    "#Under Fitting\n",
    "#Best Fitting"
   ]
  },
  {
   "cell_type": "code",
   "execution_count": 2,
   "id": "f9f54c86",
   "metadata": {},
   "outputs": [],
   "source": [
    "#Overfitting: Good performance on the training data, poor generliazation to other data. \n",
    "#Underfitting: Poor performance on the training data and poor generalization to other data."
   ]
  },
  {
   "cell_type": "code",
   "execution_count": 3,
   "id": "0992d157",
   "metadata": {},
   "outputs": [],
   "source": [
    "import numpy as np\n",
    "from sklearn.datasets import make_classification"
   ]
  },
  {
   "cell_type": "code",
   "execution_count": 4,
   "id": "62077cd4",
   "metadata": {},
   "outputs": [],
   "source": [
    "x,y = make_classification(n_samples=50000,n_features=15) #shift+tab"
   ]
  },
  {
   "cell_type": "code",
   "execution_count": 5,
   "id": "65912529",
   "metadata": {},
   "outputs": [
    {
     "data": {
      "text/plain": [
       "(50000, 15)"
      ]
     },
     "execution_count": 5,
     "metadata": {},
     "output_type": "execute_result"
    }
   ],
   "source": [
    "x.shape"
   ]
  },
  {
   "cell_type": "code",
   "execution_count": 6,
   "id": "b0bda124",
   "metadata": {},
   "outputs": [
    {
     "data": {
      "text/plain": [
       "array([[-1.76396112,  0.09306985,  0.22715271, ..., -0.63826087,\n",
       "        -0.93546452, -0.94824728],\n",
       "       [-0.33575817, -1.5151645 ,  0.19253653, ...,  1.6922105 ,\n",
       "        -1.06971436,  0.90814809],\n",
       "       [-0.34184772,  0.0902628 ,  1.36950963, ...,  0.06846973,\n",
       "         0.43363676, -0.01082867],\n",
       "       ...,\n",
       "       [ 0.29842139,  0.49141848,  0.7526524 , ..., -1.64248181,\n",
       "        -0.46500841, -0.60159617],\n",
       "       [-1.8364874 ,  1.55759901, -1.23185682, ..., -0.39314092,\n",
       "         0.80676888, -0.27013598],\n",
       "       [ 0.14338709, -0.19505346, -1.16246657, ..., -0.04605304,\n",
       "        -0.01390742,  0.50208847]])"
      ]
     },
     "execution_count": 6,
     "metadata": {},
     "output_type": "execute_result"
    }
   ],
   "source": [
    "x"
   ]
  },
  {
   "cell_type": "code",
   "execution_count": 7,
   "id": "2d880a9c",
   "metadata": {},
   "outputs": [
    {
     "data": {
      "text/plain": [
       "array([1, 1, 1, ..., 1, 0, 0])"
      ]
     },
     "execution_count": 7,
     "metadata": {},
     "output_type": "execute_result"
    }
   ],
   "source": [
    "y"
   ]
  },
  {
   "cell_type": "code",
   "execution_count": 8,
   "id": "6353c1b7",
   "metadata": {},
   "outputs": [
    {
     "data": {
      "text/plain": [
       "(50000,)"
      ]
     },
     "execution_count": 8,
     "metadata": {},
     "output_type": "execute_result"
    }
   ],
   "source": [
    "y.shape"
   ]
  },
  {
   "cell_type": "code",
   "execution_count": 9,
   "id": "f705fca2",
   "metadata": {},
   "outputs": [],
   "source": [
    "import pandas as pd\n",
    "features = pd.DataFrame(x)"
   ]
  },
  {
   "cell_type": "code",
   "execution_count": 10,
   "id": "26405594",
   "metadata": {},
   "outputs": [
    {
     "data": {
      "text/html": [
       "<div>\n",
       "<style scoped>\n",
       "    .dataframe tbody tr th:only-of-type {\n",
       "        vertical-align: middle;\n",
       "    }\n",
       "\n",
       "    .dataframe tbody tr th {\n",
       "        vertical-align: top;\n",
       "    }\n",
       "\n",
       "    .dataframe thead th {\n",
       "        text-align: right;\n",
       "    }\n",
       "</style>\n",
       "<table border=\"1\" class=\"dataframe\">\n",
       "  <thead>\n",
       "    <tr style=\"text-align: right;\">\n",
       "      <th></th>\n",
       "      <th>0</th>\n",
       "      <th>1</th>\n",
       "      <th>2</th>\n",
       "      <th>3</th>\n",
       "      <th>4</th>\n",
       "      <th>5</th>\n",
       "      <th>6</th>\n",
       "      <th>7</th>\n",
       "      <th>8</th>\n",
       "      <th>9</th>\n",
       "      <th>10</th>\n",
       "      <th>11</th>\n",
       "      <th>12</th>\n",
       "      <th>13</th>\n",
       "      <th>14</th>\n",
       "    </tr>\n",
       "  </thead>\n",
       "  <tbody>\n",
       "    <tr>\n",
       "      <th>0</th>\n",
       "      <td>-1.763961</td>\n",
       "      <td>0.093070</td>\n",
       "      <td>0.227153</td>\n",
       "      <td>0.813232</td>\n",
       "      <td>2.363608</td>\n",
       "      <td>-0.484835</td>\n",
       "      <td>-0.002346</td>\n",
       "      <td>-1.513004</td>\n",
       "      <td>0.610991</td>\n",
       "      <td>0.575625</td>\n",
       "      <td>0.581134</td>\n",
       "      <td>0.860144</td>\n",
       "      <td>-0.638261</td>\n",
       "      <td>-0.935465</td>\n",
       "      <td>-0.948247</td>\n",
       "    </tr>\n",
       "    <tr>\n",
       "      <th>1</th>\n",
       "      <td>-0.335758</td>\n",
       "      <td>-1.515164</td>\n",
       "      <td>0.192537</td>\n",
       "      <td>0.527055</td>\n",
       "      <td>-1.605770</td>\n",
       "      <td>-0.338699</td>\n",
       "      <td>-0.338063</td>\n",
       "      <td>1.898309</td>\n",
       "      <td>0.975395</td>\n",
       "      <td>0.392716</td>\n",
       "      <td>0.688712</td>\n",
       "      <td>0.452820</td>\n",
       "      <td>1.692211</td>\n",
       "      <td>-1.069714</td>\n",
       "      <td>0.908148</td>\n",
       "    </tr>\n",
       "    <tr>\n",
       "      <th>2</th>\n",
       "      <td>-0.341848</td>\n",
       "      <td>0.090263</td>\n",
       "      <td>1.369510</td>\n",
       "      <td>-0.818049</td>\n",
       "      <td>0.739468</td>\n",
       "      <td>-0.375403</td>\n",
       "      <td>-0.307733</td>\n",
       "      <td>0.616429</td>\n",
       "      <td>0.296150</td>\n",
       "      <td>0.113993</td>\n",
       "      <td>-0.210025</td>\n",
       "      <td>-0.961138</td>\n",
       "      <td>0.068470</td>\n",
       "      <td>0.433637</td>\n",
       "      <td>-0.010829</td>\n",
       "    </tr>\n",
       "    <tr>\n",
       "      <th>3</th>\n",
       "      <td>-0.281765</td>\n",
       "      <td>0.930359</td>\n",
       "      <td>1.854711</td>\n",
       "      <td>-1.093599</td>\n",
       "      <td>0.563468</td>\n",
       "      <td>-0.514761</td>\n",
       "      <td>-0.203502</td>\n",
       "      <td>-1.045403</td>\n",
       "      <td>-1.032406</td>\n",
       "      <td>0.162754</td>\n",
       "      <td>0.239222</td>\n",
       "      <td>-0.589796</td>\n",
       "      <td>1.094596</td>\n",
       "      <td>-0.309685</td>\n",
       "      <td>-0.635943</td>\n",
       "    </tr>\n",
       "    <tr>\n",
       "      <th>4</th>\n",
       "      <td>-0.874271</td>\n",
       "      <td>-2.470950</td>\n",
       "      <td>-1.412952</td>\n",
       "      <td>-0.973498</td>\n",
       "      <td>1.554800</td>\n",
       "      <td>1.196673</td>\n",
       "      <td>-2.439267</td>\n",
       "      <td>0.689893</td>\n",
       "      <td>0.713127</td>\n",
       "      <td>-1.183910</td>\n",
       "      <td>2.507264</td>\n",
       "      <td>1.721220</td>\n",
       "      <td>-0.477471</td>\n",
       "      <td>1.388796</td>\n",
       "      <td>2.183620</td>\n",
       "    </tr>\n",
       "    <tr>\n",
       "      <th>...</th>\n",
       "      <td>...</td>\n",
       "      <td>...</td>\n",
       "      <td>...</td>\n",
       "      <td>...</td>\n",
       "      <td>...</td>\n",
       "      <td>...</td>\n",
       "      <td>...</td>\n",
       "      <td>...</td>\n",
       "      <td>...</td>\n",
       "      <td>...</td>\n",
       "      <td>...</td>\n",
       "      <td>...</td>\n",
       "      <td>...</td>\n",
       "      <td>...</td>\n",
       "      <td>...</td>\n",
       "    </tr>\n",
       "    <tr>\n",
       "      <th>49995</th>\n",
       "      <td>-0.389800</td>\n",
       "      <td>0.197001</td>\n",
       "      <td>-0.797593</td>\n",
       "      <td>-1.310792</td>\n",
       "      <td>-1.913013</td>\n",
       "      <td>1.014511</td>\n",
       "      <td>-1.829633</td>\n",
       "      <td>-0.511204</td>\n",
       "      <td>1.433940</td>\n",
       "      <td>-1.114926</td>\n",
       "      <td>-0.355894</td>\n",
       "      <td>-1.066265</td>\n",
       "      <td>-0.113803</td>\n",
       "      <td>-0.995232</td>\n",
       "      <td>0.205194</td>\n",
       "    </tr>\n",
       "    <tr>\n",
       "      <th>49996</th>\n",
       "      <td>-0.603226</td>\n",
       "      <td>-0.496308</td>\n",
       "      <td>-0.387597</td>\n",
       "      <td>-0.245141</td>\n",
       "      <td>-0.559234</td>\n",
       "      <td>0.318513</td>\n",
       "      <td>-1.222490</td>\n",
       "      <td>-1.491805</td>\n",
       "      <td>-1.320014</td>\n",
       "      <td>-0.311915</td>\n",
       "      <td>-0.304971</td>\n",
       "      <td>-0.716244</td>\n",
       "      <td>0.281635</td>\n",
       "      <td>-1.846747</td>\n",
       "      <td>0.562505</td>\n",
       "    </tr>\n",
       "    <tr>\n",
       "      <th>49997</th>\n",
       "      <td>0.298421</td>\n",
       "      <td>0.491418</td>\n",
       "      <td>0.752652</td>\n",
       "      <td>-0.992602</td>\n",
       "      <td>1.585242</td>\n",
       "      <td>0.035503</td>\n",
       "      <td>-1.320565</td>\n",
       "      <td>1.127943</td>\n",
       "      <td>-0.978213</td>\n",
       "      <td>-0.255935</td>\n",
       "      <td>0.905900</td>\n",
       "      <td>-0.728245</td>\n",
       "      <td>-1.642482</td>\n",
       "      <td>-0.465008</td>\n",
       "      <td>-0.601596</td>\n",
       "    </tr>\n",
       "    <tr>\n",
       "      <th>49998</th>\n",
       "      <td>-1.836487</td>\n",
       "      <td>1.557599</td>\n",
       "      <td>-1.231857</td>\n",
       "      <td>1.379559</td>\n",
       "      <td>-0.649999</td>\n",
       "      <td>0.051005</td>\n",
       "      <td>0.030757</td>\n",
       "      <td>1.354654</td>\n",
       "      <td>0.270743</td>\n",
       "      <td>0.275135</td>\n",
       "      <td>-1.105817</td>\n",
       "      <td>-0.940285</td>\n",
       "      <td>-0.393141</td>\n",
       "      <td>0.806769</td>\n",
       "      <td>-0.270136</td>\n",
       "    </tr>\n",
       "    <tr>\n",
       "      <th>49999</th>\n",
       "      <td>0.143387</td>\n",
       "      <td>-0.195053</td>\n",
       "      <td>-1.162467</td>\n",
       "      <td>1.042991</td>\n",
       "      <td>-0.512117</td>\n",
       "      <td>0.163405</td>\n",
       "      <td>-2.423877</td>\n",
       "      <td>0.614013</td>\n",
       "      <td>1.004367</td>\n",
       "      <td>0.107768</td>\n",
       "      <td>-0.961475</td>\n",
       "      <td>-0.541520</td>\n",
       "      <td>-0.046053</td>\n",
       "      <td>-0.013907</td>\n",
       "      <td>0.502088</td>\n",
       "    </tr>\n",
       "  </tbody>\n",
       "</table>\n",
       "<p>50000 rows × 15 columns</p>\n",
       "</div>"
      ],
      "text/plain": [
       "             0         1         2         3         4         5         6   \\\n",
       "0     -1.763961  0.093070  0.227153  0.813232  2.363608 -0.484835 -0.002346   \n",
       "1     -0.335758 -1.515164  0.192537  0.527055 -1.605770 -0.338699 -0.338063   \n",
       "2     -0.341848  0.090263  1.369510 -0.818049  0.739468 -0.375403 -0.307733   \n",
       "3     -0.281765  0.930359  1.854711 -1.093599  0.563468 -0.514761 -0.203502   \n",
       "4     -0.874271 -2.470950 -1.412952 -0.973498  1.554800  1.196673 -2.439267   \n",
       "...         ...       ...       ...       ...       ...       ...       ...   \n",
       "49995 -0.389800  0.197001 -0.797593 -1.310792 -1.913013  1.014511 -1.829633   \n",
       "49996 -0.603226 -0.496308 -0.387597 -0.245141 -0.559234  0.318513 -1.222490   \n",
       "49997  0.298421  0.491418  0.752652 -0.992602  1.585242  0.035503 -1.320565   \n",
       "49998 -1.836487  1.557599 -1.231857  1.379559 -0.649999  0.051005  0.030757   \n",
       "49999  0.143387 -0.195053 -1.162467  1.042991 -0.512117  0.163405 -2.423877   \n",
       "\n",
       "             7         8         9         10        11        12        13  \\\n",
       "0     -1.513004  0.610991  0.575625  0.581134  0.860144 -0.638261 -0.935465   \n",
       "1      1.898309  0.975395  0.392716  0.688712  0.452820  1.692211 -1.069714   \n",
       "2      0.616429  0.296150  0.113993 -0.210025 -0.961138  0.068470  0.433637   \n",
       "3     -1.045403 -1.032406  0.162754  0.239222 -0.589796  1.094596 -0.309685   \n",
       "4      0.689893  0.713127 -1.183910  2.507264  1.721220 -0.477471  1.388796   \n",
       "...         ...       ...       ...       ...       ...       ...       ...   \n",
       "49995 -0.511204  1.433940 -1.114926 -0.355894 -1.066265 -0.113803 -0.995232   \n",
       "49996 -1.491805 -1.320014 -0.311915 -0.304971 -0.716244  0.281635 -1.846747   \n",
       "49997  1.127943 -0.978213 -0.255935  0.905900 -0.728245 -1.642482 -0.465008   \n",
       "49998  1.354654  0.270743  0.275135 -1.105817 -0.940285 -0.393141  0.806769   \n",
       "49999  0.614013  1.004367  0.107768 -0.961475 -0.541520 -0.046053 -0.013907   \n",
       "\n",
       "             14  \n",
       "0     -0.948247  \n",
       "1      0.908148  \n",
       "2     -0.010829  \n",
       "3     -0.635943  \n",
       "4      2.183620  \n",
       "...         ...  \n",
       "49995  0.205194  \n",
       "49996  0.562505  \n",
       "49997 -0.601596  \n",
       "49998 -0.270136  \n",
       "49999  0.502088  \n",
       "\n",
       "[50000 rows x 15 columns]"
      ]
     },
     "execution_count": 10,
     "metadata": {},
     "output_type": "execute_result"
    }
   ],
   "source": [
    "#features.to_csv('data.csv')\n",
    "features"
   ]
  },
  {
   "cell_type": "code",
   "execution_count": 11,
   "id": "34bd961b",
   "metadata": {},
   "outputs": [],
   "source": [
    "classes = pd.DataFrame(y)"
   ]
  },
  {
   "cell_type": "code",
   "execution_count": 12,
   "id": "ee581271",
   "metadata": {},
   "outputs": [
    {
     "data": {
      "text/html": [
       "<div>\n",
       "<style scoped>\n",
       "    .dataframe tbody tr th:only-of-type {\n",
       "        vertical-align: middle;\n",
       "    }\n",
       "\n",
       "    .dataframe tbody tr th {\n",
       "        vertical-align: top;\n",
       "    }\n",
       "\n",
       "    .dataframe thead th {\n",
       "        text-align: right;\n",
       "    }\n",
       "</style>\n",
       "<table border=\"1\" class=\"dataframe\">\n",
       "  <thead>\n",
       "    <tr style=\"text-align: right;\">\n",
       "      <th></th>\n",
       "      <th>0</th>\n",
       "    </tr>\n",
       "  </thead>\n",
       "  <tbody>\n",
       "    <tr>\n",
       "      <th>0</th>\n",
       "      <td>1</td>\n",
       "    </tr>\n",
       "    <tr>\n",
       "      <th>1</th>\n",
       "      <td>1</td>\n",
       "    </tr>\n",
       "    <tr>\n",
       "      <th>2</th>\n",
       "      <td>1</td>\n",
       "    </tr>\n",
       "    <tr>\n",
       "      <th>3</th>\n",
       "      <td>1</td>\n",
       "    </tr>\n",
       "    <tr>\n",
       "      <th>4</th>\n",
       "      <td>0</td>\n",
       "    </tr>\n",
       "    <tr>\n",
       "      <th>...</th>\n",
       "      <td>...</td>\n",
       "    </tr>\n",
       "    <tr>\n",
       "      <th>49995</th>\n",
       "      <td>0</td>\n",
       "    </tr>\n",
       "    <tr>\n",
       "      <th>49996</th>\n",
       "      <td>0</td>\n",
       "    </tr>\n",
       "    <tr>\n",
       "      <th>49997</th>\n",
       "      <td>1</td>\n",
       "    </tr>\n",
       "    <tr>\n",
       "      <th>49998</th>\n",
       "      <td>0</td>\n",
       "    </tr>\n",
       "    <tr>\n",
       "      <th>49999</th>\n",
       "      <td>0</td>\n",
       "    </tr>\n",
       "  </tbody>\n",
       "</table>\n",
       "<p>50000 rows × 1 columns</p>\n",
       "</div>"
      ],
      "text/plain": [
       "       0\n",
       "0      1\n",
       "1      1\n",
       "2      1\n",
       "3      1\n",
       "4      0\n",
       "...   ..\n",
       "49995  0\n",
       "49996  0\n",
       "49997  1\n",
       "49998  0\n",
       "49999  0\n",
       "\n",
       "[50000 rows x 1 columns]"
      ]
     },
     "execution_count": 12,
     "metadata": {},
     "output_type": "execute_result"
    }
   ],
   "source": [
    "classes"
   ]
  },
  {
   "cell_type": "code",
   "execution_count": 13,
   "id": "5a6afd5e",
   "metadata": {},
   "outputs": [],
   "source": [
    "from sklearn.model_selection import train_test_split as tts\n",
    "xtrain, xtest, ytrain, ytest = tts(x,y,train_size=.65,random_state=1)"
   ]
  },
  {
   "cell_type": "code",
   "execution_count": 14,
   "id": "38891368",
   "metadata": {},
   "outputs": [
    {
     "data": {
      "text/plain": [
       "(32500, 15)"
      ]
     },
     "execution_count": 14,
     "metadata": {},
     "output_type": "execute_result"
    }
   ],
   "source": [
    "xtrain.shape"
   ]
  },
  {
   "cell_type": "code",
   "execution_count": 15,
   "id": "c5a8fc3a",
   "metadata": {},
   "outputs": [
    {
     "data": {
      "text/plain": [
       "(17500, 15)"
      ]
     },
     "execution_count": 15,
     "metadata": {},
     "output_type": "execute_result"
    }
   ],
   "source": [
    "xtest.shape"
   ]
  },
  {
   "cell_type": "code",
   "execution_count": 16,
   "id": "79686965",
   "metadata": {},
   "outputs": [],
   "source": [
    "train_scores = []\n",
    "test_scores = []\n",
    "\n",
    "depth = [ n for n in range(1,15)]\n",
    "#depth = np.random.randint(2,15,20)"
   ]
  },
  {
   "cell_type": "code",
   "execution_count": 17,
   "id": "ca0889f7",
   "metadata": {},
   "outputs": [
    {
     "data": {
      "text/plain": [
       "[1, 2, 3, 4, 5, 6, 7, 8, 9, 10, 11, 12, 13, 14]"
      ]
     },
     "execution_count": 17,
     "metadata": {},
     "output_type": "execute_result"
    }
   ],
   "source": [
    "depth"
   ]
  },
  {
   "cell_type": "code",
   "execution_count": 18,
   "id": "5174094a",
   "metadata": {},
   "outputs": [],
   "source": [
    "from sklearn.tree import DecisionTreeClassifier"
   ]
  },
  {
   "cell_type": "code",
   "execution_count": 19,
   "id": "3a6815c1",
   "metadata": {},
   "outputs": [
    {
     "data": {
      "text/plain": [
       "[1, 2, 3, 4, 5, 6, 7, 8, 9, 10, 11, 12, 13, 14]"
      ]
     },
     "execution_count": 19,
     "metadata": {},
     "output_type": "execute_result"
    }
   ],
   "source": [
    "depth"
   ]
  },
  {
   "cell_type": "code",
   "execution_count": 20,
   "id": "b6946eea",
   "metadata": {},
   "outputs": [
    {
     "name": "stdout",
     "output_type": "stream",
     "text": [
      "Depth =1, Testing Accuracy = 0.889486, Trainging Accuracy = 0.894985\n",
      "Depth =2, Testing Accuracy = 0.889486, Trainging Accuracy = 0.894985\n",
      "Depth =3, Testing Accuracy = 0.907371, Trainging Accuracy = 0.914554\n",
      "Depth =4, Testing Accuracy = 0.912457, Trainging Accuracy = 0.919569\n",
      "Depth =5, Testing Accuracy = 0.920400, Trainging Accuracy = 0.929015\n",
      "Depth =6, Testing Accuracy = 0.921371, Trainging Accuracy = 0.933662\n",
      "Depth =7, Testing Accuracy = 0.922171, Trainging Accuracy = 0.937077\n",
      "Depth =8, Testing Accuracy = 0.922286, Trainging Accuracy = 0.942585\n",
      "Depth =9, Testing Accuracy = 0.920171, Trainging Accuracy = 0.948369\n",
      "Depth =10, Testing Accuracy = 0.918629, Trainging Accuracy = 0.954246\n",
      "Depth =11, Testing Accuracy = 0.914857, Trainging Accuracy = 0.960585\n",
      "Depth =12, Testing Accuracy = 0.913657, Trainging Accuracy = 0.966708\n",
      "Depth =13, Testing Accuracy = 0.910743, Trainging Accuracy = 0.972615\n",
      "Depth =14, Testing Accuracy = 0.907829, Trainging Accuracy = 0.977908\n"
     ]
    }
   ],
   "source": [
    "for i in depth:\n",
    "    dt = DecisionTreeClassifier(max_depth = i)\n",
    "    dt.fit(xtrain, ytrain)\n",
    "    \n",
    "    #train_accuracy\n",
    "    train_prediction = dt.predict(xtrain)\n",
    "    train_accuracy = dt.score(xtrain,ytrain)\n",
    "    train_scores.append(train_accuracy)\n",
    "    \n",
    "    #testing_accuracy\n",
    "    test_prediction = dt.predict(xtest)\n",
    "    test_accuracy = dt.score(xtest,ytest)\n",
    "    test_scores.append(test_accuracy)\n",
    "    \n",
    "    print('Depth =%d, Testing Accuracy = %f, Trainging Accuracy = %f' % (i,test_accuracy,train_accuracy))"
   ]
  },
  {
   "cell_type": "code",
   "execution_count": 21,
   "id": "6f1887e1",
   "metadata": {},
   "outputs": [
    {
     "data": {
      "text/plain": [
       "[0.8949846153846154,\n",
       " 0.8949846153846154,\n",
       " 0.9145538461538462,\n",
       " 0.9195692307692308,\n",
       " 0.9290153846153846,\n",
       " 0.9336615384615384,\n",
       " 0.937076923076923,\n",
       " 0.9425846153846154,\n",
       " 0.9483692307692307,\n",
       " 0.9542461538461539,\n",
       " 0.9605846153846154,\n",
       " 0.9667076923076923,\n",
       " 0.9726153846153847,\n",
       " 0.9779076923076923]"
      ]
     },
     "execution_count": 21,
     "metadata": {},
     "output_type": "execute_result"
    }
   ],
   "source": [
    "train_scores"
   ]
  },
  {
   "cell_type": "code",
   "execution_count": 22,
   "id": "4983d8f7",
   "metadata": {},
   "outputs": [
    {
     "data": {
      "text/plain": [
       "[0.8894857142857143,\n",
       " 0.8894857142857143,\n",
       " 0.9073714285714286,\n",
       " 0.9124571428571429,\n",
       " 0.9204,\n",
       " 0.9213714285714286,\n",
       " 0.9221714285714285,\n",
       " 0.9222857142857143,\n",
       " 0.9201714285714285,\n",
       " 0.9186285714285715,\n",
       " 0.9148571428571428,\n",
       " 0.9136571428571428,\n",
       " 0.9107428571428572,\n",
       " 0.9078285714285714]"
      ]
     },
     "execution_count": 22,
     "metadata": {},
     "output_type": "execute_result"
    }
   ],
   "source": [
    "test_scores"
   ]
  },
  {
   "cell_type": "code",
   "execution_count": 23,
   "id": "a97e50c9",
   "metadata": {},
   "outputs": [
    {
     "data": {
      "text/plain": [
       "14"
      ]
     },
     "execution_count": 23,
     "metadata": {},
     "output_type": "execute_result"
    }
   ],
   "source": [
    "len(depth)"
   ]
  },
  {
   "cell_type": "code",
   "execution_count": 24,
   "id": "75eaa58a",
   "metadata": {},
   "outputs": [
    {
     "data": {
      "text/plain": [
       "[<matplotlib.lines.Line2D at 0x130d981d4f0>]"
      ]
     },
     "execution_count": 24,
     "metadata": {},
     "output_type": "execute_result"
    },
    {
     "data": {
      "image/png": "[encoded data removed]",
      "text/plain": [
       "<Figure size 432x288 with 1 Axes>"
      ]
     },
     "metadata": {
      "needs_background": "light"
     },
     "output_type": "display_data"
    }
   ],
   "source": [
    "from matplotlib import pyplot\n",
    "pyplot.plot(depth, train_scores, '-o', label='train')\n",
    "pyplot.plot(depth, test_scores, '-o',label='test')"
   ]
  },
  {
   "cell_type": "code",
   "execution_count": 27,
   "id": "b080466a",
   "metadata": {},
   "outputs": [],
   "source": [
    "train_scores = []\n",
    "test_scores = []\n",
    "\n",
    "criterion = ['gini','entropy']\n"
   ]
  },
  {
   "cell_type": "code",
   "execution_count": 29,
   "id": "bc0a6132",
   "metadata": {},
   "outputs": [
    {
     "name": "stdout",
     "output_type": "stream",
     "text": [
      "gini [1.0] [0.8959428571428572]\n",
      "entropy [1.0, 1.0] [0.8959428571428572, 0.8941714285714286]\n"
     ]
    }
   ],
   "source": [
    "for i in criterion:\n",
    "    dt = DecisionTreeClassifier(criterion = i)\n",
    "    dt.fit(xtrain, ytrain)\n",
    "    \n",
    "    #train_accuracy\n",
    "    train_prediction = dt.predict(xtrain)\n",
    "    train_accuracy = dt.score(xtrain,ytrain)\n",
    "    train_scores.append(train_accuracy)\n",
    "    \n",
    "    #testing_accuracy\n",
    "    test_prediction = dt.predict(xtest)\n",
    "    test_accuracy = dt.score(xtest,ytest)\n",
    "    test_scores.append(test_accuracy)\n",
    "    \n",
    "    print(i, train_scores, test_scores)\n",
    "    #print('Depth =%d, Testing Accuracy = %f, Trainging Accuracy = %f' % (i,test_accuracy,train_accuracy))"
   ]
  },
  {
   "cell_type": "code",
   "execution_count": null,
   "id": "31f861be",
   "metadata": {},
   "outputs": [],
   "source": []
  }
 ],
 "metadata": {
  "kernelspec": {
   "display_name": "Python 3 (ipykernel)",
   "language": "python",
   "name": "python3"
  },
  "language_info": {
   "codemirror_mode": {
    "name": "ipython",
    "version": 3
   },
   "file_extension": ".py",
   "mimetype": "text/x-python",
   "name": "python",
   "nbconvert_exporter": "python",
   "pygments_lexer": "ipython3",
   "version": "3.9.7"
  }
 },
 "nbformat": 4,
 "nbformat_minor": 5
}

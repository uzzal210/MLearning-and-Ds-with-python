{
 "cells": [
  {
   "cell_type": "code",
   "execution_count": 1,
   "id": "9a014b84",
   "metadata": {},
   "outputs": [],
   "source": [
    "import pandas as pd \n",
    "import numpy as np\n",
    "import seaborn as sns\n",
    "import matplotlib.pyplot as plt "
   ]
  },
  {
   "cell_type": "code",
   "execution_count": 2,
   "id": "d56643eb",
   "metadata": {},
   "outputs": [],
   "source": [
    "df = pd.read_csv(\"Customer-Churn-Prediction.csv\")"
   ]
  },
  {
   "cell_type": "code",
   "execution_count": 3,
   "id": "a49f10b7",
   "metadata": {},
   "outputs": [
    {
     "data": {
      "text/html": [
       "<div>\n",
       "<style scoped>\n",
       "    .dataframe tbody tr th:only-of-type {\n",
       "        vertical-align: middle;\n",
       "    }\n",
       "\n",
       "    .dataframe tbody tr th {\n",
       "        vertical-align: top;\n",
       "    }\n",
       "\n",
       "    .dataframe thead th {\n",
       "        text-align: right;\n",
       "    }\n",
       "</style>\n",
       "<table border=\"1\" class=\"dataframe\">\n",
       "  <thead>\n",
       "    <tr style=\"text-align: right;\">\n",
       "      <th></th>\n",
       "      <th>customerID</th>\n",
       "      <th>gender</th>\n",
       "      <th>SeniorCitizen</th>\n",
       "      <th>Partner</th>\n",
       "      <th>Dependents</th>\n",
       "      <th>tenure</th>\n",
       "      <th>PhoneService</th>\n",
       "      <th>MultipleLines</th>\n",
       "      <th>InternetService</th>\n",
       "      <th>OnlineSecurity</th>\n",
       "      <th>...</th>\n",
       "      <th>DeviceProtection</th>\n",
       "      <th>TechSupport</th>\n",
       "      <th>StreamingTV</th>\n",
       "      <th>StreamingMovies</th>\n",
       "      <th>Contract</th>\n",
       "      <th>PaperlessBilling</th>\n",
       "      <th>PaymentMethod</th>\n",
       "      <th>MonthlyCharges</th>\n",
       "      <th>TotalCharges</th>\n",
       "      <th>Churn</th>\n",
       "    </tr>\n",
       "  </thead>\n",
       "  <tbody>\n",
       "    <tr>\n",
       "      <th>3476</th>\n",
       "      <td>3756-VNWDH</td>\n",
       "      <td>Male</td>\n",
       "      <td>1</td>\n",
       "      <td>Yes</td>\n",
       "      <td>No</td>\n",
       "      <td>65</td>\n",
       "      <td>Yes</td>\n",
       "      <td>Yes</td>\n",
       "      <td>Fiber optic</td>\n",
       "      <td>Yes</td>\n",
       "      <td>...</td>\n",
       "      <td>No</td>\n",
       "      <td>No</td>\n",
       "      <td>Yes</td>\n",
       "      <td>Yes</td>\n",
       "      <td>One year</td>\n",
       "      <td>Yes</td>\n",
       "      <td>Electronic check</td>\n",
       "      <td>100.75</td>\n",
       "      <td>6674.65</td>\n",
       "      <td>No</td>\n",
       "    </tr>\n",
       "    <tr>\n",
       "      <th>3953</th>\n",
       "      <td>4505-EXZHB</td>\n",
       "      <td>Female</td>\n",
       "      <td>1</td>\n",
       "      <td>No</td>\n",
       "      <td>No</td>\n",
       "      <td>6</td>\n",
       "      <td>Yes</td>\n",
       "      <td>No</td>\n",
       "      <td>Fiber optic</td>\n",
       "      <td>No</td>\n",
       "      <td>...</td>\n",
       "      <td>Yes</td>\n",
       "      <td>No</td>\n",
       "      <td>No</td>\n",
       "      <td>No</td>\n",
       "      <td>Month-to-month</td>\n",
       "      <td>No</td>\n",
       "      <td>Electronic check</td>\n",
       "      <td>74.40</td>\n",
       "      <td>434.1</td>\n",
       "      <td>Yes</td>\n",
       "    </tr>\n",
       "    <tr>\n",
       "      <th>4017</th>\n",
       "      <td>9473-CBZOP</td>\n",
       "      <td>Female</td>\n",
       "      <td>0</td>\n",
       "      <td>No</td>\n",
       "      <td>No</td>\n",
       "      <td>28</td>\n",
       "      <td>Yes</td>\n",
       "      <td>Yes</td>\n",
       "      <td>DSL</td>\n",
       "      <td>Yes</td>\n",
       "      <td>...</td>\n",
       "      <td>Yes</td>\n",
       "      <td>No</td>\n",
       "      <td>No</td>\n",
       "      <td>No</td>\n",
       "      <td>One year</td>\n",
       "      <td>No</td>\n",
       "      <td>Mailed check</td>\n",
       "      <td>59.00</td>\n",
       "      <td>1654.45</td>\n",
       "      <td>No</td>\n",
       "    </tr>\n",
       "  </tbody>\n",
       "</table>\n",
       "<p>3 rows × 21 columns</p>\n",
       "</div>"
      ],
      "text/plain": [
       "      customerID  gender  SeniorCitizen Partner Dependents  tenure  \\\n",
       "3476  3756-VNWDH    Male              1     Yes         No      65   \n",
       "3953  4505-EXZHB  Female              1      No         No       6   \n",
       "4017  9473-CBZOP  Female              0      No         No      28   \n",
       "\n",
       "     PhoneService MultipleLines InternetService OnlineSecurity  ...  \\\n",
       "3476          Yes           Yes     Fiber optic            Yes  ...   \n",
       "3953          Yes            No     Fiber optic             No  ...   \n",
       "4017          Yes           Yes             DSL            Yes  ...   \n",
       "\n",
       "     DeviceProtection TechSupport StreamingTV StreamingMovies        Contract  \\\n",
       "3476               No          No         Yes             Yes        One year   \n",
       "3953              Yes          No          No              No  Month-to-month   \n",
       "4017              Yes          No          No              No        One year   \n",
       "\n",
       "     PaperlessBilling     PaymentMethod MonthlyCharges  TotalCharges Churn  \n",
       "3476              Yes  Electronic check         100.75       6674.65    No  \n",
       "3953               No  Electronic check          74.40         434.1   Yes  \n",
       "4017               No      Mailed check          59.00       1654.45    No  \n",
       "\n",
       "[3 rows x 21 columns]"
      ]
     },
     "execution_count": 3,
     "metadata": {},
     "output_type": "execute_result"
    }
   ],
   "source": [
    "df.sample(3)"
   ]
  },
  {
   "cell_type": "code",
   "execution_count": 4,
   "id": "8891fed5",
   "metadata": {},
   "outputs": [
    {
     "name": "stdout",
     "output_type": "stream",
     "text": [
      "<class 'pandas.core.frame.DataFrame'>\n",
      "RangeIndex: 7043 entries, 0 to 7042\n",
      "Data columns (total 21 columns):\n",
      " #   Column            Non-Null Count  Dtype  \n",
      "---  ------            --------------  -----  \n",
      " 0   customerID        7043 non-null   object \n",
      " 1   gender            7043 non-null   object \n",
      " 2   SeniorCitizen     7043 non-null   int64  \n",
      " 3   Partner           7043 non-null   object \n",
      " 4   Dependents        7043 non-null   object \n",
      " 5   tenure            7043 non-null   int64  \n",
      " 6   PhoneService      7043 non-null   object \n",
      " 7   MultipleLines     7043 non-null   object \n",
      " 8   InternetService   7043 non-null   object \n",
      " 9   OnlineSecurity    7043 non-null   object \n",
      " 10  OnlineBackup      7043 non-null   object \n",
      " 11  DeviceProtection  7043 non-null   object \n",
      " 12  TechSupport       7043 non-null   object \n",
      " 13  StreamingTV       7043 non-null   object \n",
      " 14  StreamingMovies   7043 non-null   object \n",
      " 15  Contract          7043 non-null   object \n",
      " 16  PaperlessBilling  7043 non-null   object \n",
      " 17  PaymentMethod     7043 non-null   object \n",
      " 18  MonthlyCharges    7043 non-null   float64\n",
      " 19  TotalCharges      7043 non-null   object \n",
      " 20  Churn             7043 non-null   object \n",
      "dtypes: float64(1), int64(2), object(18)\n",
      "memory usage: 1.1+ MB\n"
     ]
    }
   ],
   "source": [
    "df.info()"
   ]
  },
  {
   "cell_type": "code",
   "execution_count": 5,
   "id": "d0a12798",
   "metadata": {},
   "outputs": [
    {
     "data": {
      "text/html": [
       "<div>\n",
       "<style scoped>\n",
       "    .dataframe tbody tr th:only-of-type {\n",
       "        vertical-align: middle;\n",
       "    }\n",
       "\n",
       "    .dataframe tbody tr th {\n",
       "        vertical-align: top;\n",
       "    }\n",
       "\n",
       "    .dataframe thead th {\n",
       "        text-align: right;\n",
       "    }\n",
       "</style>\n",
       "<table border=\"1\" class=\"dataframe\">\n",
       "  <thead>\n",
       "    <tr style=\"text-align: right;\">\n",
       "      <th></th>\n",
       "      <th>SeniorCitizen</th>\n",
       "      <th>tenure</th>\n",
       "      <th>MonthlyCharges</th>\n",
       "    </tr>\n",
       "  </thead>\n",
       "  <tbody>\n",
       "    <tr>\n",
       "      <th>count</th>\n",
       "      <td>7043.000000</td>\n",
       "      <td>7043.000000</td>\n",
       "      <td>7043.000000</td>\n",
       "    </tr>\n",
       "    <tr>\n",
       "      <th>mean</th>\n",
       "      <td>0.162289</td>\n",
       "      <td>32.370865</td>\n",
       "      <td>64.761692</td>\n",
       "    </tr>\n",
       "    <tr>\n",
       "      <th>std</th>\n",
       "      <td>0.368742</td>\n",
       "      <td>24.559231</td>\n",
       "      <td>30.090047</td>\n",
       "    </tr>\n",
       "    <tr>\n",
       "      <th>min</th>\n",
       "      <td>0.000000</td>\n",
       "      <td>0.000000</td>\n",
       "      <td>18.250000</td>\n",
       "    </tr>\n",
       "    <tr>\n",
       "      <th>25%</th>\n",
       "      <td>0.000000</td>\n",
       "      <td>9.000000</td>\n",
       "      <td>35.500000</td>\n",
       "    </tr>\n",
       "    <tr>\n",
       "      <th>50%</th>\n",
       "      <td>0.000000</td>\n",
       "      <td>29.000000</td>\n",
       "      <td>70.350000</td>\n",
       "    </tr>\n",
       "    <tr>\n",
       "      <th>75%</th>\n",
       "      <td>0.000000</td>\n",
       "      <td>55.000000</td>\n",
       "      <td>89.850000</td>\n",
       "    </tr>\n",
       "    <tr>\n",
       "      <th>max</th>\n",
       "      <td>1.000000</td>\n",
       "      <td>72.000000</td>\n",
       "      <td>118.750000</td>\n",
       "    </tr>\n",
       "  </tbody>\n",
       "</table>\n",
       "</div>"
      ],
      "text/plain": [
       "       SeniorCitizen       tenure  MonthlyCharges\n",
       "count    7043.000000  7043.000000     7043.000000\n",
       "mean        0.162289    32.370865       64.761692\n",
       "std         0.368742    24.559231       30.090047\n",
       "min         0.000000     0.000000       18.250000\n",
       "25%         0.000000     9.000000       35.500000\n",
       "50%         0.000000    29.000000       70.350000\n",
       "75%         0.000000    55.000000       89.850000\n",
       "max         1.000000    72.000000      118.750000"
      ]
     },
     "execution_count": 5,
     "metadata": {},
     "output_type": "execute_result"
    }
   ],
   "source": [
    "df.describe()"
   ]
  },
  {
   "cell_type": "code",
   "execution_count": 6,
   "id": "5c8bbb6d",
   "metadata": {},
   "outputs": [
    {
     "data": {
      "text/plain": [
       "(7043, 21)"
      ]
     },
     "execution_count": 6,
     "metadata": {},
     "output_type": "execute_result"
    }
   ],
   "source": [
    "df.shape"
   ]
  },
  {
   "cell_type": "markdown",
   "id": "ea4edb53",
   "metadata": {},
   "source": [
    "# Remove duplicates"
   ]
  },
  {
   "cell_type": "code",
   "execution_count": 7,
   "id": "5a118121",
   "metadata": {},
   "outputs": [],
   "source": [
    "df.drop_duplicates(inplace=True)"
   ]
  },
  {
   "cell_type": "code",
   "execution_count": 8,
   "id": "a2fe175b",
   "metadata": {},
   "outputs": [
    {
     "data": {
      "text/plain": [
       "(7043, 21)"
      ]
     },
     "execution_count": 8,
     "metadata": {},
     "output_type": "execute_result"
    }
   ],
   "source": [
    "df.shape"
   ]
  },
  {
   "cell_type": "code",
   "execution_count": 9,
   "id": "6542969c",
   "metadata": {},
   "outputs": [
    {
     "data": {
      "text/plain": [
       "False"
      ]
     },
     "execution_count": 9,
     "metadata": {},
     "output_type": "execute_result"
    }
   ],
   "source": [
    "df.isnull().values.any()"
   ]
  },
  {
   "cell_type": "code",
   "execution_count": 10,
   "id": "aadddff3",
   "metadata": {},
   "outputs": [
    {
     "data": {
      "text/plain": [
       "customerID          0\n",
       "gender              0\n",
       "SeniorCitizen       0\n",
       "Partner             0\n",
       "Dependents          0\n",
       "tenure              0\n",
       "PhoneService        0\n",
       "MultipleLines       0\n",
       "InternetService     0\n",
       "OnlineSecurity      0\n",
       "OnlineBackup        0\n",
       "DeviceProtection    0\n",
       "TechSupport         0\n",
       "StreamingTV         0\n",
       "StreamingMovies     0\n",
       "Contract            0\n",
       "PaperlessBilling    0\n",
       "PaymentMethod       0\n",
       "MonthlyCharges      0\n",
       "TotalCharges        0\n",
       "Churn               0\n",
       "dtype: int64"
      ]
     },
     "execution_count": 10,
     "metadata": {},
     "output_type": "execute_result"
    }
   ],
   "source": [
    "df.isnull().sum()"
   ]
  },
  {
   "cell_type": "code",
   "execution_count": 11,
   "id": "5382f5fb",
   "metadata": {},
   "outputs": [
    {
     "data": {
      "text/plain": [
       "Index(['customerID', 'gender', 'SeniorCitizen', 'Partner', 'Dependents',\n",
       "       'tenure', 'PhoneService', 'MultipleLines', 'InternetService',\n",
       "       'OnlineSecurity', 'OnlineBackup', 'DeviceProtection', 'TechSupport',\n",
       "       'StreamingTV', 'StreamingMovies', 'Contract', 'PaperlessBilling',\n",
       "       'PaymentMethod', 'MonthlyCharges', 'TotalCharges', 'Churn'],\n",
       "      dtype='object')"
      ]
     },
     "execution_count": 11,
     "metadata": {},
     "output_type": "execute_result"
    }
   ],
   "source": [
    "df.columns"
   ]
  },
  {
   "cell_type": "code",
   "execution_count": 12,
   "id": "be71f335",
   "metadata": {},
   "outputs": [
    {
     "data": {
      "text/plain": [
       "21"
      ]
     },
     "execution_count": 12,
     "metadata": {},
     "output_type": "execute_result"
    }
   ],
   "source": [
    "len(df.columns)"
   ]
  },
  {
   "cell_type": "code",
   "execution_count": 13,
   "id": "a0fe3fb3",
   "metadata": {},
   "outputs": [
    {
     "data": {
      "text/plain": [
       "<AxesSubplot:xlabel='OnlineSecurity', ylabel='count'>"
      ]
     },
     "execution_count": 13,
     "metadata": {},
     "output_type": "execute_result"
    },
    {
     "data": {
      "image/png": "[encoded data removed]",
      "text/plain": [
       "<Figure size 432x288 with 1 Axes>"
      ]
     },
     "metadata": {
      "needs_background": "light"
     },
     "output_type": "display_data"
    }
   ],
   "source": [
    "sns.countplot(x = \"OnlineSecurity\" , hue = \"Churn\",data = df)\n"
   ]
  },
  {
   "cell_type": "code",
   "execution_count": 14,
   "id": "297f086d",
   "metadata": {},
   "outputs": [
    {
     "data": {
      "text/plain": [
       "<AxesSubplot:xlabel='StreamingMovies', ylabel='count'>"
      ]
     },
     "execution_count": 14,
     "metadata": {},
     "output_type": "execute_result"
    },
    {
     "data": {
      "image/png": "[encoded data removed]",
      "text/plain": [
       "<Figure size 432x288 with 1 Axes>"
      ]
     },
     "metadata": {
      "needs_background": "light"
     },
     "output_type": "display_data"
    }
   ],
   "source": [
    "sns.countplot(x = \"StreamingMovies\",hue = \"Churn\",data =df)"
   ]
  },
  {
   "cell_type": "code",
   "execution_count": 15,
   "id": "dad75c21",
   "metadata": {},
   "outputs": [
    {
     "data": {
      "text/plain": [
       "<AxesSubplot:xlabel='OnlineBackup', ylabel='count'>"
      ]
     },
     "execution_count": 15,
     "metadata": {},
     "output_type": "execute_result"
    },
    {
     "data": {
      "image/png": "[encoded data removed]",
      "text/plain": [
       "<Figure size 432x288 with 1 Axes>"
      ]
     },
     "metadata": {
      "needs_background": "light"
     },
     "output_type": "display_data"
    }
   ],
   "source": [
    "sns.countplot(x = \"OnlineBackup\",hue = \"Churn\",data =df)"
   ]
  },
  {
   "cell_type": "markdown",
   "id": "6e5e24d5",
   "metadata": {},
   "source": [
    "# Encoding the data set"
   ]
  },
  {
   "cell_type": "code",
   "execution_count": 16,
   "id": "550f8c4f",
   "metadata": {},
   "outputs": [],
   "source": [
    "from sklearn.preprocessing import LabelEncoder\n",
    "from pandas.core.dtypes.common import is_numeric_dtype\n",
    "\n",
    "\n",
    "for c in df.columns:\n",
    "    if is_numeric_dtype(df[c]):\n",
    "        continue\n",
    "    else:\n",
    "        df[c] = LabelEncoder().fit_transform(df[c])"
   ]
  },
  {
   "cell_type": "code",
   "execution_count": 17,
   "id": "c81074e8",
   "metadata": {},
   "outputs": [
    {
     "data": {
      "text/html": [
       "<div>\n",
       "<style scoped>\n",
       "    .dataframe tbody tr th:only-of-type {\n",
       "        vertical-align: middle;\n",
       "    }\n",
       "\n",
       "    .dataframe tbody tr th {\n",
       "        vertical-align: top;\n",
       "    }\n",
       "\n",
       "    .dataframe thead th {\n",
       "        text-align: right;\n",
       "    }\n",
       "</style>\n",
       "<table border=\"1\" class=\"dataframe\">\n",
       "  <thead>\n",
       "    <tr style=\"text-align: right;\">\n",
       "      <th></th>\n",
       "      <th>customerID</th>\n",
       "      <th>gender</th>\n",
       "      <th>SeniorCitizen</th>\n",
       "      <th>Partner</th>\n",
       "      <th>Dependents</th>\n",
       "      <th>tenure</th>\n",
       "      <th>PhoneService</th>\n",
       "      <th>MultipleLines</th>\n",
       "      <th>InternetService</th>\n",
       "      <th>OnlineSecurity</th>\n",
       "      <th>...</th>\n",
       "      <th>DeviceProtection</th>\n",
       "      <th>TechSupport</th>\n",
       "      <th>StreamingTV</th>\n",
       "      <th>StreamingMovies</th>\n",
       "      <th>Contract</th>\n",
       "      <th>PaperlessBilling</th>\n",
       "      <th>PaymentMethod</th>\n",
       "      <th>MonthlyCharges</th>\n",
       "      <th>TotalCharges</th>\n",
       "      <th>Churn</th>\n",
       "    </tr>\n",
       "  </thead>\n",
       "  <tbody>\n",
       "    <tr>\n",
       "      <th>0</th>\n",
       "      <td>5375</td>\n",
       "      <td>0</td>\n",
       "      <td>0</td>\n",
       "      <td>1</td>\n",
       "      <td>0</td>\n",
       "      <td>1</td>\n",
       "      <td>0</td>\n",
       "      <td>1</td>\n",
       "      <td>0</td>\n",
       "      <td>0</td>\n",
       "      <td>...</td>\n",
       "      <td>0</td>\n",
       "      <td>0</td>\n",
       "      <td>0</td>\n",
       "      <td>0</td>\n",
       "      <td>0</td>\n",
       "      <td>1</td>\n",
       "      <td>2</td>\n",
       "      <td>29.85</td>\n",
       "      <td>2505</td>\n",
       "      <td>0</td>\n",
       "    </tr>\n",
       "    <tr>\n",
       "      <th>1</th>\n",
       "      <td>3962</td>\n",
       "      <td>1</td>\n",
       "      <td>0</td>\n",
       "      <td>0</td>\n",
       "      <td>0</td>\n",
       "      <td>34</td>\n",
       "      <td>1</td>\n",
       "      <td>0</td>\n",
       "      <td>0</td>\n",
       "      <td>2</td>\n",
       "      <td>...</td>\n",
       "      <td>2</td>\n",
       "      <td>0</td>\n",
       "      <td>0</td>\n",
       "      <td>0</td>\n",
       "      <td>1</td>\n",
       "      <td>0</td>\n",
       "      <td>3</td>\n",
       "      <td>56.95</td>\n",
       "      <td>1466</td>\n",
       "      <td>0</td>\n",
       "    </tr>\n",
       "    <tr>\n",
       "      <th>2</th>\n",
       "      <td>2564</td>\n",
       "      <td>1</td>\n",
       "      <td>0</td>\n",
       "      <td>0</td>\n",
       "      <td>0</td>\n",
       "      <td>2</td>\n",
       "      <td>1</td>\n",
       "      <td>0</td>\n",
       "      <td>0</td>\n",
       "      <td>2</td>\n",
       "      <td>...</td>\n",
       "      <td>0</td>\n",
       "      <td>0</td>\n",
       "      <td>0</td>\n",
       "      <td>0</td>\n",
       "      <td>0</td>\n",
       "      <td>1</td>\n",
       "      <td>3</td>\n",
       "      <td>53.85</td>\n",
       "      <td>157</td>\n",
       "      <td>1</td>\n",
       "    </tr>\n",
       "    <tr>\n",
       "      <th>3</th>\n",
       "      <td>5535</td>\n",
       "      <td>1</td>\n",
       "      <td>0</td>\n",
       "      <td>0</td>\n",
       "      <td>0</td>\n",
       "      <td>45</td>\n",
       "      <td>0</td>\n",
       "      <td>1</td>\n",
       "      <td>0</td>\n",
       "      <td>2</td>\n",
       "      <td>...</td>\n",
       "      <td>2</td>\n",
       "      <td>2</td>\n",
       "      <td>0</td>\n",
       "      <td>0</td>\n",
       "      <td>1</td>\n",
       "      <td>0</td>\n",
       "      <td>0</td>\n",
       "      <td>42.30</td>\n",
       "      <td>1400</td>\n",
       "      <td>0</td>\n",
       "    </tr>\n",
       "    <tr>\n",
       "      <th>4</th>\n",
       "      <td>6511</td>\n",
       "      <td>0</td>\n",
       "      <td>0</td>\n",
       "      <td>0</td>\n",
       "      <td>0</td>\n",
       "      <td>2</td>\n",
       "      <td>1</td>\n",
       "      <td>0</td>\n",
       "      <td>1</td>\n",
       "      <td>0</td>\n",
       "      <td>...</td>\n",
       "      <td>0</td>\n",
       "      <td>0</td>\n",
       "      <td>0</td>\n",
       "      <td>0</td>\n",
       "      <td>0</td>\n",
       "      <td>1</td>\n",
       "      <td>2</td>\n",
       "      <td>70.70</td>\n",
       "      <td>925</td>\n",
       "      <td>1</td>\n",
       "    </tr>\n",
       "  </tbody>\n",
       "</table>\n",
       "<p>5 rows × 21 columns</p>\n",
       "</div>"
      ],
      "text/plain": [
       "   customerID  gender  SeniorCitizen  Partner  Dependents  tenure  \\\n",
       "0        5375       0              0        1           0       1   \n",
       "1        3962       1              0        0           0      34   \n",
       "2        2564       1              0        0           0       2   \n",
       "3        5535       1              0        0           0      45   \n",
       "4        6511       0              0        0           0       2   \n",
       "\n",
       "   PhoneService  MultipleLines  InternetService  OnlineSecurity  ...  \\\n",
       "0             0              1                0               0  ...   \n",
       "1             1              0                0               2  ...   \n",
       "2             1              0                0               2  ...   \n",
       "3             0              1                0               2  ...   \n",
       "4             1              0                1               0  ...   \n",
       "\n",
       "   DeviceProtection  TechSupport  StreamingTV  StreamingMovies  Contract  \\\n",
       "0                 0            0            0                0         0   \n",
       "1                 2            0            0                0         1   \n",
       "2                 0            0            0                0         0   \n",
       "3                 2            2            0                0         1   \n",
       "4                 0            0            0                0         0   \n",
       "\n",
       "   PaperlessBilling  PaymentMethod  MonthlyCharges  TotalCharges  Churn  \n",
       "0                 1              2           29.85          2505      0  \n",
       "1                 0              3           56.95          1466      0  \n",
       "2                 1              3           53.85           157      1  \n",
       "3                 0              0           42.30          1400      0  \n",
       "4                 1              2           70.70           925      1  \n",
       "\n",
       "[5 rows x 21 columns]"
      ]
     },
     "execution_count": 17,
     "metadata": {},
     "output_type": "execute_result"
    }
   ],
   "source": [
    "df.head()"
   ]
  },
  {
   "cell_type": "code",
   "execution_count": 18,
   "id": "f1e3c605",
   "metadata": {},
   "outputs": [
    {
     "name": "stdout",
     "output_type": "stream",
     "text": [
      "<class 'pandas.core.frame.DataFrame'>\n",
      "Int64Index: 7043 entries, 0 to 7042\n",
      "Data columns (total 21 columns):\n",
      " #   Column            Non-Null Count  Dtype  \n",
      "---  ------            --------------  -----  \n",
      " 0   customerID        7043 non-null   int32  \n",
      " 1   gender            7043 non-null   int32  \n",
      " 2   SeniorCitizen     7043 non-null   int64  \n",
      " 3   Partner           7043 non-null   int32  \n",
      " 4   Dependents        7043 non-null   int32  \n",
      " 5   tenure            7043 non-null   int64  \n",
      " 6   PhoneService      7043 non-null   int32  \n",
      " 7   MultipleLines     7043 non-null   int32  \n",
      " 8   InternetService   7043 non-null   int32  \n",
      " 9   OnlineSecurity    7043 non-null   int32  \n",
      " 10  OnlineBackup      7043 non-null   int32  \n",
      " 11  DeviceProtection  7043 non-null   int32  \n",
      " 12  TechSupport       7043 non-null   int32  \n",
      " 13  StreamingTV       7043 non-null   int32  \n",
      " 14  StreamingMovies   7043 non-null   int32  \n",
      " 15  Contract          7043 non-null   int32  \n",
      " 16  PaperlessBilling  7043 non-null   int32  \n",
      " 17  PaymentMethod     7043 non-null   int32  \n",
      " 18  MonthlyCharges    7043 non-null   float64\n",
      " 19  TotalCharges      7043 non-null   int32  \n",
      " 20  Churn             7043 non-null   int32  \n",
      "dtypes: float64(1), int32(18), int64(2)\n",
      "memory usage: 973.3 KB\n"
     ]
    }
   ],
   "source": [
    "df.info()"
   ]
  },
  {
   "cell_type": "markdown",
   "id": "9f6eb8f6",
   "metadata": {},
   "source": [
    "# Separating x and y"
   ]
  },
  {
   "cell_type": "code",
   "execution_count": 19,
   "id": "c08bd2f9",
   "metadata": {},
   "outputs": [],
   "source": [
    "x = df.drop(\"Churn\",axis = 1)\n",
    "y = df.Churn"
   ]
  },
  {
   "cell_type": "code",
   "execution_count": 20,
   "id": "2fa4fd23",
   "metadata": {},
   "outputs": [
    {
     "data": {
      "text/html": [
       "<div>\n",
       "<style scoped>\n",
       "    .dataframe tbody tr th:only-of-type {\n",
       "        vertical-align: middle;\n",
       "    }\n",
       "\n",
       "    .dataframe tbody tr th {\n",
       "        vertical-align: top;\n",
       "    }\n",
       "\n",
       "    .dataframe thead th {\n",
       "        text-align: right;\n",
       "    }\n",
       "</style>\n",
       "<table border=\"1\" class=\"dataframe\">\n",
       "  <thead>\n",
       "    <tr style=\"text-align: right;\">\n",
       "      <th></th>\n",
       "      <th>customerID</th>\n",
       "      <th>gender</th>\n",
       "      <th>SeniorCitizen</th>\n",
       "      <th>Partner</th>\n",
       "      <th>Dependents</th>\n",
       "      <th>tenure</th>\n",
       "      <th>PhoneService</th>\n",
       "      <th>MultipleLines</th>\n",
       "      <th>InternetService</th>\n",
       "      <th>OnlineSecurity</th>\n",
       "      <th>OnlineBackup</th>\n",
       "      <th>DeviceProtection</th>\n",
       "      <th>TechSupport</th>\n",
       "      <th>StreamingTV</th>\n",
       "      <th>StreamingMovies</th>\n",
       "      <th>Contract</th>\n",
       "      <th>PaperlessBilling</th>\n",
       "      <th>PaymentMethod</th>\n",
       "      <th>MonthlyCharges</th>\n",
       "      <th>TotalCharges</th>\n",
       "    </tr>\n",
       "  </thead>\n",
       "  <tbody>\n",
       "    <tr>\n",
       "      <th>0</th>\n",
       "      <td>5375</td>\n",
       "      <td>0</td>\n",
       "      <td>0</td>\n",
       "      <td>1</td>\n",
       "      <td>0</td>\n",
       "      <td>1</td>\n",
       "      <td>0</td>\n",
       "      <td>1</td>\n",
       "      <td>0</td>\n",
       "      <td>0</td>\n",
       "      <td>2</td>\n",
       "      <td>0</td>\n",
       "      <td>0</td>\n",
       "      <td>0</td>\n",
       "      <td>0</td>\n",
       "      <td>0</td>\n",
       "      <td>1</td>\n",
       "      <td>2</td>\n",
       "      <td>29.85</td>\n",
       "      <td>2505</td>\n",
       "    </tr>\n",
       "    <tr>\n",
       "      <th>1</th>\n",
       "      <td>3962</td>\n",
       "      <td>1</td>\n",
       "      <td>0</td>\n",
       "      <td>0</td>\n",
       "      <td>0</td>\n",
       "      <td>34</td>\n",
       "      <td>1</td>\n",
       "      <td>0</td>\n",
       "      <td>0</td>\n",
       "      <td>2</td>\n",
       "      <td>0</td>\n",
       "      <td>2</td>\n",
       "      <td>0</td>\n",
       "      <td>0</td>\n",
       "      <td>0</td>\n",
       "      <td>1</td>\n",
       "      <td>0</td>\n",
       "      <td>3</td>\n",
       "      <td>56.95</td>\n",
       "      <td>1466</td>\n",
       "    </tr>\n",
       "    <tr>\n",
       "      <th>2</th>\n",
       "      <td>2564</td>\n",
       "      <td>1</td>\n",
       "      <td>0</td>\n",
       "      <td>0</td>\n",
       "      <td>0</td>\n",
       "      <td>2</td>\n",
       "      <td>1</td>\n",
       "      <td>0</td>\n",
       "      <td>0</td>\n",
       "      <td>2</td>\n",
       "      <td>2</td>\n",
       "      <td>0</td>\n",
       "      <td>0</td>\n",
       "      <td>0</td>\n",
       "      <td>0</td>\n",
       "      <td>0</td>\n",
       "      <td>1</td>\n",
       "      <td>3</td>\n",
       "      <td>53.85</td>\n",
       "      <td>157</td>\n",
       "    </tr>\n",
       "    <tr>\n",
       "      <th>3</th>\n",
       "      <td>5535</td>\n",
       "      <td>1</td>\n",
       "      <td>0</td>\n",
       "      <td>0</td>\n",
       "      <td>0</td>\n",
       "      <td>45</td>\n",
       "      <td>0</td>\n",
       "      <td>1</td>\n",
       "      <td>0</td>\n",
       "      <td>2</td>\n",
       "      <td>0</td>\n",
       "      <td>2</td>\n",
       "      <td>2</td>\n",
       "      <td>0</td>\n",
       "      <td>0</td>\n",
       "      <td>1</td>\n",
       "      <td>0</td>\n",
       "      <td>0</td>\n",
       "      <td>42.30</td>\n",
       "      <td>1400</td>\n",
       "    </tr>\n",
       "    <tr>\n",
       "      <th>4</th>\n",
       "      <td>6511</td>\n",
       "      <td>0</td>\n",
       "      <td>0</td>\n",
       "      <td>0</td>\n",
       "      <td>0</td>\n",
       "      <td>2</td>\n",
       "      <td>1</td>\n",
       "      <td>0</td>\n",
       "      <td>1</td>\n",
       "      <td>0</td>\n",
       "      <td>0</td>\n",
       "      <td>0</td>\n",
       "      <td>0</td>\n",
       "      <td>0</td>\n",
       "      <td>0</td>\n",
       "      <td>0</td>\n",
       "      <td>1</td>\n",
       "      <td>2</td>\n",
       "      <td>70.70</td>\n",
       "      <td>925</td>\n",
       "    </tr>\n",
       "    <tr>\n",
       "      <th>...</th>\n",
       "      <td>...</td>\n",
       "      <td>...</td>\n",
       "      <td>...</td>\n",
       "      <td>...</td>\n",
       "      <td>...</td>\n",
       "      <td>...</td>\n",
       "      <td>...</td>\n",
       "      <td>...</td>\n",
       "      <td>...</td>\n",
       "      <td>...</td>\n",
       "      <td>...</td>\n",
       "      <td>...</td>\n",
       "      <td>...</td>\n",
       "      <td>...</td>\n",
       "      <td>...</td>\n",
       "      <td>...</td>\n",
       "      <td>...</td>\n",
       "      <td>...</td>\n",
       "      <td>...</td>\n",
       "      <td>...</td>\n",
       "    </tr>\n",
       "    <tr>\n",
       "      <th>7038</th>\n",
       "      <td>4853</td>\n",
       "      <td>1</td>\n",
       "      <td>0</td>\n",
       "      <td>1</td>\n",
       "      <td>1</td>\n",
       "      <td>24</td>\n",
       "      <td>1</td>\n",
       "      <td>2</td>\n",
       "      <td>0</td>\n",
       "      <td>2</td>\n",
       "      <td>0</td>\n",
       "      <td>2</td>\n",
       "      <td>2</td>\n",
       "      <td>2</td>\n",
       "      <td>2</td>\n",
       "      <td>1</td>\n",
       "      <td>1</td>\n",
       "      <td>3</td>\n",
       "      <td>84.80</td>\n",
       "      <td>1597</td>\n",
       "    </tr>\n",
       "    <tr>\n",
       "      <th>7039</th>\n",
       "      <td>1525</td>\n",
       "      <td>0</td>\n",
       "      <td>0</td>\n",
       "      <td>1</td>\n",
       "      <td>1</td>\n",
       "      <td>72</td>\n",
       "      <td>1</td>\n",
       "      <td>2</td>\n",
       "      <td>1</td>\n",
       "      <td>0</td>\n",
       "      <td>2</td>\n",
       "      <td>2</td>\n",
       "      <td>0</td>\n",
       "      <td>2</td>\n",
       "      <td>2</td>\n",
       "      <td>1</td>\n",
       "      <td>1</td>\n",
       "      <td>1</td>\n",
       "      <td>103.20</td>\n",
       "      <td>5698</td>\n",
       "    </tr>\n",
       "    <tr>\n",
       "      <th>7040</th>\n",
       "      <td>3367</td>\n",
       "      <td>0</td>\n",
       "      <td>0</td>\n",
       "      <td>1</td>\n",
       "      <td>1</td>\n",
       "      <td>11</td>\n",
       "      <td>0</td>\n",
       "      <td>1</td>\n",
       "      <td>0</td>\n",
       "      <td>2</td>\n",
       "      <td>0</td>\n",
       "      <td>0</td>\n",
       "      <td>0</td>\n",
       "      <td>0</td>\n",
       "      <td>0</td>\n",
       "      <td>0</td>\n",
       "      <td>1</td>\n",
       "      <td>2</td>\n",
       "      <td>29.60</td>\n",
       "      <td>2994</td>\n",
       "    </tr>\n",
       "    <tr>\n",
       "      <th>7041</th>\n",
       "      <td>5934</td>\n",
       "      <td>1</td>\n",
       "      <td>1</td>\n",
       "      <td>1</td>\n",
       "      <td>0</td>\n",
       "      <td>4</td>\n",
       "      <td>1</td>\n",
       "      <td>2</td>\n",
       "      <td>1</td>\n",
       "      <td>0</td>\n",
       "      <td>0</td>\n",
       "      <td>0</td>\n",
       "      <td>0</td>\n",
       "      <td>0</td>\n",
       "      <td>0</td>\n",
       "      <td>0</td>\n",
       "      <td>1</td>\n",
       "      <td>3</td>\n",
       "      <td>74.40</td>\n",
       "      <td>2660</td>\n",
       "    </tr>\n",
       "    <tr>\n",
       "      <th>7042</th>\n",
       "      <td>2226</td>\n",
       "      <td>1</td>\n",
       "      <td>0</td>\n",
       "      <td>0</td>\n",
       "      <td>0</td>\n",
       "      <td>66</td>\n",
       "      <td>1</td>\n",
       "      <td>0</td>\n",
       "      <td>1</td>\n",
       "      <td>2</td>\n",
       "      <td>0</td>\n",
       "      <td>2</td>\n",
       "      <td>2</td>\n",
       "      <td>2</td>\n",
       "      <td>2</td>\n",
       "      <td>2</td>\n",
       "      <td>1</td>\n",
       "      <td>0</td>\n",
       "      <td>105.65</td>\n",
       "      <td>5407</td>\n",
       "    </tr>\n",
       "  </tbody>\n",
       "</table>\n",
       "<p>7043 rows × 20 columns</p>\n",
       "</div>"
      ],
      "text/plain": [
       "      customerID  gender  SeniorCitizen  Partner  Dependents  tenure  \\\n",
       "0           5375       0              0        1           0       1   \n",
       "1           3962       1              0        0           0      34   \n",
       "2           2564       1              0        0           0       2   \n",
       "3           5535       1              0        0           0      45   \n",
       "4           6511       0              0        0           0       2   \n",
       "...          ...     ...            ...      ...         ...     ...   \n",
       "7038        4853       1              0        1           1      24   \n",
       "7039        1525       0              0        1           1      72   \n",
       "7040        3367       0              0        1           1      11   \n",
       "7041        5934       1              1        1           0       4   \n",
       "7042        2226       1              0        0           0      66   \n",
       "\n",
       "      PhoneService  MultipleLines  InternetService  OnlineSecurity  \\\n",
       "0                0              1                0               0   \n",
       "1                1              0                0               2   \n",
       "2                1              0                0               2   \n",
       "3                0              1                0               2   \n",
       "4                1              0                1               0   \n",
       "...            ...            ...              ...             ...   \n",
       "7038             1              2                0               2   \n",
       "7039             1              2                1               0   \n",
       "7040             0              1                0               2   \n",
       "7041             1              2                1               0   \n",
       "7042             1              0                1               2   \n",
       "\n",
       "      OnlineBackup  DeviceProtection  TechSupport  StreamingTV  \\\n",
       "0                2                 0            0            0   \n",
       "1                0                 2            0            0   \n",
       "2                2                 0            0            0   \n",
       "3                0                 2            2            0   \n",
       "4                0                 0            0            0   \n",
       "...            ...               ...          ...          ...   \n",
       "7038             0                 2            2            2   \n",
       "7039             2                 2            0            2   \n",
       "7040             0                 0            0            0   \n",
       "7041             0                 0            0            0   \n",
       "7042             0                 2            2            2   \n",
       "\n",
       "      StreamingMovies  Contract  PaperlessBilling  PaymentMethod  \\\n",
       "0                   0         0                 1              2   \n",
       "1                   0         1                 0              3   \n",
       "2                   0         0                 1              3   \n",
       "3                   0         1                 0              0   \n",
       "4                   0         0                 1              2   \n",
       "...               ...       ...               ...            ...   \n",
       "7038                2         1                 1              3   \n",
       "7039                2         1                 1              1   \n",
       "7040                0         0                 1              2   \n",
       "7041                0         0                 1              3   \n",
       "7042                2         2                 1              0   \n",
       "\n",
       "      MonthlyCharges  TotalCharges  \n",
       "0              29.85          2505  \n",
       "1              56.95          1466  \n",
       "2              53.85           157  \n",
       "3              42.30          1400  \n",
       "4              70.70           925  \n",
       "...              ...           ...  \n",
       "7038           84.80          1597  \n",
       "7039          103.20          5698  \n",
       "7040           29.60          2994  \n",
       "7041           74.40          2660  \n",
       "7042          105.65          5407  \n",
       "\n",
       "[7043 rows x 20 columns]"
      ]
     },
     "execution_count": 20,
     "metadata": {},
     "output_type": "execute_result"
    }
   ],
   "source": [
    "x"
   ]
  },
  {
   "cell_type": "code",
   "execution_count": 21,
   "id": "e93b413a",
   "metadata": {},
   "outputs": [
    {
     "data": {
      "text/plain": [
       "0       0\n",
       "1       0\n",
       "2       1\n",
       "3       0\n",
       "4       1\n",
       "       ..\n",
       "7038    0\n",
       "7039    0\n",
       "7040    0\n",
       "7041    1\n",
       "7042    0\n",
       "Name: Churn, Length: 7043, dtype: int32"
      ]
     },
     "execution_count": 21,
     "metadata": {},
     "output_type": "execute_result"
    }
   ],
   "source": [
    "y"
   ]
  },
  {
   "cell_type": "code",
   "execution_count": 22,
   "id": "669d47c7",
   "metadata": {},
   "outputs": [
    {
     "data": {
      "text/plain": [
       "(7043, 20)"
      ]
     },
     "execution_count": 22,
     "metadata": {},
     "output_type": "execute_result"
    }
   ],
   "source": [
    "x.shape"
   ]
  },
  {
   "cell_type": "code",
   "execution_count": 23,
   "id": "2609d0c0",
   "metadata": {},
   "outputs": [
    {
     "data": {
      "text/plain": [
       "(7043,)"
      ]
     },
     "execution_count": 23,
     "metadata": {},
     "output_type": "execute_result"
    }
   ],
   "source": [
    "y.shape"
   ]
  },
  {
   "cell_type": "code",
   "execution_count": 24,
   "id": "b2d2d2bb",
   "metadata": {},
   "outputs": [
    {
     "data": {
      "text/plain": [
       "0    5174\n",
       "1    1869\n",
       "Name: Churn, dtype: int64"
      ]
     },
     "execution_count": 24,
     "metadata": {},
     "output_type": "execute_result"
    }
   ],
   "source": [
    "y.value_counts()"
   ]
  },
  {
   "cell_type": "code",
   "execution_count": 25,
   "id": "82ba96be",
   "metadata": {},
   "outputs": [
    {
     "data": {
      "text/plain": [
       "0    5174\n",
       "1    1869\n",
       "Name: Churn, dtype: int64"
      ]
     },
     "execution_count": 25,
     "metadata": {},
     "output_type": "execute_result"
    }
   ],
   "source": [
    "df.Churn.value_counts()"
   ]
  },
  {
   "cell_type": "code",
   "execution_count": 26,
   "id": "7d50c190",
   "metadata": {},
   "outputs": [],
   "source": [
    "not_churned = (5174/(5174+1869)) * 100\n",
    "churned = (1869/(5174+1869)) * 100"
   ]
  },
  {
   "cell_type": "code",
   "execution_count": 27,
   "id": "3ee09cd8",
   "metadata": {},
   "outputs": [
    {
     "name": "stdout",
     "output_type": "stream",
     "text": [
      "Not churned 73.4630129206304 percent of total people\n",
      "Churned 26.536987079369588 percent of total people\n"
     ]
    }
   ],
   "source": [
    "print(f\"Not churned {not_churned} percent of total people\")\n",
    "print(f\"Churned {churned} percent of total people\")"
   ]
  },
  {
   "cell_type": "markdown",
   "id": "f0cbfa67",
   "metadata": {},
   "source": [
    "# Imbalanced Data Handling  And applying KNN_classifier "
   ]
  },
  {
   "cell_type": "markdown",
   "id": "4ca40434",
   "metadata": {},
   "source": [
    "# OverSampling"
   ]
  },
  {
   "cell_type": "code",
   "execution_count": 28,
   "id": "89ed5d6e",
   "metadata": {},
   "outputs": [],
   "source": [
    "from imblearn.over_sampling import RandomOverSampler\n",
    "ROS = RandomOverSampler(random_state =100)"
   ]
  },
  {
   "cell_type": "code",
   "execution_count": 29,
   "id": "0886c89b",
   "metadata": {},
   "outputs": [],
   "source": [
    "x_new,y_new=ROS.fit_resample(x,y)"
   ]
  },
  {
   "cell_type": "code",
   "execution_count": 30,
   "id": "0f281125",
   "metadata": {},
   "outputs": [
    {
     "data": {
      "text/plain": [
       "(10348, 20)"
      ]
     },
     "execution_count": 30,
     "metadata": {},
     "output_type": "execute_result"
    }
   ],
   "source": [
    "x_new.shape"
   ]
  },
  {
   "cell_type": "code",
   "execution_count": 31,
   "id": "93822ad1",
   "metadata": {},
   "outputs": [
    {
     "data": {
      "text/plain": [
       "0    5174\n",
       "1    5174\n",
       "Name: Churn, dtype: int64"
      ]
     },
     "execution_count": 31,
     "metadata": {},
     "output_type": "execute_result"
    }
   ],
   "source": [
    "y_new.value_counts()"
   ]
  },
  {
   "cell_type": "code",
   "execution_count": 32,
   "id": "5e8cf6a2",
   "metadata": {},
   "outputs": [
    {
     "data": {
      "text/plain": [
       "(10348,)"
      ]
     },
     "execution_count": 32,
     "metadata": {},
     "output_type": "execute_result"
    }
   ],
   "source": [
    "y_new.shape"
   ]
  },
  {
   "cell_type": "code",
   "execution_count": 33,
   "id": "aa870cc7",
   "metadata": {},
   "outputs": [
    {
     "data": {
      "text/plain": [
       "customerID  gender  SeniorCitizen  Partner  Dependents  tenure  PhoneService  MultipleLines  InternetService  OnlineSecurity  OnlineBackup  DeviceProtection  TechSupport  StreamingTV  StreamingMovies  Contract  PaperlessBilling  PaymentMethod  MonthlyCharges  TotalCharges\n",
       "2678        1       0              1        1           1       1             0              1                0               0             0                 0            2            2                0         0                 3              89.15           6297            10\n",
       "1461        1       0              1        0           13      1             2              0                0               0             2                 0            2            2                1         1                 3              75.30           6508             9\n",
       "3944        1       0              0        0           1       1             0              0                0               0             0                 0            0            0                0         0                 2              45.30           3816             8\n",
       "2245        1       0              0        0           39      1             2              1                0               0             0                 0            0            0                0         0                 2              75.25           2614             8\n",
       "2262        1       0              0        0           18      1             2              0                0               0             2                 2            2            2                1         1                 1              82.00           788              8\n",
       "                                                                                                                                                                                                                                                                                    ..\n",
       "2617        1       0              1        1           71      1             2              1                2               2             2                 2            2            2                2         1                 0              114.00          6089             1\n",
       "2616        1       0              1        1           6       1             0              2                1               1             1                 1            1            1                0         0                 3              19.55           406              1\n",
       "2615        1       0              1        1           10      1             0              2                1               1             1                 1            1            1                1         0                 3              20.45           2065             1\n",
       "2614        1       1              0        0           24      1             2              0                0               2             0                 0            0            0                0         0                 1              54.80           531              1\n",
       "7042        1       0              1        1           63      0             1              0                2               2             2                 0            2            2                2         0                 2              59.00           3196             1\n",
       "Length: 7043, dtype: int64"
      ]
     },
     "execution_count": 33,
     "metadata": {},
     "output_type": "execute_result"
    }
   ],
   "source": [
    "x_new.value_counts()"
   ]
  },
  {
   "cell_type": "code",
   "execution_count": 34,
   "id": "1b1960d0",
   "metadata": {},
   "outputs": [],
   "source": [
    "#x_new.drop_duplicates(inplace=True)"
   ]
  },
  {
   "cell_type": "code",
   "execution_count": 35,
   "id": "f9008781",
   "metadata": {},
   "outputs": [],
   "source": [
    "#x_new.shape"
   ]
  },
  {
   "cell_type": "markdown",
   "id": "9c092c49",
   "metadata": {},
   "source": [
    "# Near_Miss for under sampling"
   ]
  },
  {
   "cell_type": "code",
   "execution_count": 36,
   "id": "7ff4c221",
   "metadata": {},
   "outputs": [],
   "source": [
    "from imblearn.under_sampling import NearMiss\n",
    "NM = NearMiss()"
   ]
  },
  {
   "cell_type": "code",
   "execution_count": 37,
   "id": "3e189dbe",
   "metadata": {},
   "outputs": [],
   "source": [
    "new_x,new_y=NM.fit_resample(x,y)"
   ]
  },
  {
   "cell_type": "code",
   "execution_count": 38,
   "id": "aacb1546",
   "metadata": {},
   "outputs": [
    {
     "data": {
      "text/html": [
       "<div>\n",
       "<style scoped>\n",
       "    .dataframe tbody tr th:only-of-type {\n",
       "        vertical-align: middle;\n",
       "    }\n",
       "\n",
       "    .dataframe tbody tr th {\n",
       "        vertical-align: top;\n",
       "    }\n",
       "\n",
       "    .dataframe thead th {\n",
       "        text-align: right;\n",
       "    }\n",
       "</style>\n",
       "<table border=\"1\" class=\"dataframe\">\n",
       "  <thead>\n",
       "    <tr style=\"text-align: right;\">\n",
       "      <th></th>\n",
       "      <th>customerID</th>\n",
       "      <th>gender</th>\n",
       "      <th>SeniorCitizen</th>\n",
       "      <th>Partner</th>\n",
       "      <th>Dependents</th>\n",
       "      <th>tenure</th>\n",
       "      <th>PhoneService</th>\n",
       "      <th>MultipleLines</th>\n",
       "      <th>InternetService</th>\n",
       "      <th>OnlineSecurity</th>\n",
       "      <th>OnlineBackup</th>\n",
       "      <th>DeviceProtection</th>\n",
       "      <th>TechSupport</th>\n",
       "      <th>StreamingTV</th>\n",
       "      <th>StreamingMovies</th>\n",
       "      <th>Contract</th>\n",
       "      <th>PaperlessBilling</th>\n",
       "      <th>PaymentMethod</th>\n",
       "      <th>MonthlyCharges</th>\n",
       "      <th>TotalCharges</th>\n",
       "    </tr>\n",
       "  </thead>\n",
       "  <tbody>\n",
       "    <tr>\n",
       "      <th>0</th>\n",
       "      <td>3938</td>\n",
       "      <td>1</td>\n",
       "      <td>0</td>\n",
       "      <td>0</td>\n",
       "      <td>0</td>\n",
       "      <td>1</td>\n",
       "      <td>1</td>\n",
       "      <td>0</td>\n",
       "      <td>1</td>\n",
       "      <td>0</td>\n",
       "      <td>0</td>\n",
       "      <td>0</td>\n",
       "      <td>0</td>\n",
       "      <td>0</td>\n",
       "      <td>0</td>\n",
       "      <td>0</td>\n",
       "      <td>1</td>\n",
       "      <td>2</td>\n",
       "      <td>69.90</td>\n",
       "      <td>5454</td>\n",
       "    </tr>\n",
       "    <tr>\n",
       "      <th>1</th>\n",
       "      <td>5549</td>\n",
       "      <td>0</td>\n",
       "      <td>0</td>\n",
       "      <td>1</td>\n",
       "      <td>0</td>\n",
       "      <td>1</td>\n",
       "      <td>1</td>\n",
       "      <td>0</td>\n",
       "      <td>2</td>\n",
       "      <td>1</td>\n",
       "      <td>1</td>\n",
       "      <td>1</td>\n",
       "      <td>1</td>\n",
       "      <td>1</td>\n",
       "      <td>1</td>\n",
       "      <td>0</td>\n",
       "      <td>1</td>\n",
       "      <td>0</td>\n",
       "      <td>20.30</td>\n",
       "      <td>1612</td>\n",
       "    </tr>\n",
       "    <tr>\n",
       "      <th>2</th>\n",
       "      <td>5706</td>\n",
       "      <td>0</td>\n",
       "      <td>0</td>\n",
       "      <td>0</td>\n",
       "      <td>0</td>\n",
       "      <td>1</td>\n",
       "      <td>1</td>\n",
       "      <td>0</td>\n",
       "      <td>1</td>\n",
       "      <td>0</td>\n",
       "      <td>0</td>\n",
       "      <td>0</td>\n",
       "      <td>0</td>\n",
       "      <td>0</td>\n",
       "      <td>0</td>\n",
       "      <td>0</td>\n",
       "      <td>0</td>\n",
       "      <td>3</td>\n",
       "      <td>71.10</td>\n",
       "      <td>5565</td>\n",
       "    </tr>\n",
       "    <tr>\n",
       "      <th>3</th>\n",
       "      <td>4245</td>\n",
       "      <td>0</td>\n",
       "      <td>0</td>\n",
       "      <td>0</td>\n",
       "      <td>0</td>\n",
       "      <td>32</td>\n",
       "      <td>1</td>\n",
       "      <td>2</td>\n",
       "      <td>0</td>\n",
       "      <td>2</td>\n",
       "      <td>0</td>\n",
       "      <td>0</td>\n",
       "      <td>0</td>\n",
       "      <td>2</td>\n",
       "      <td>2</td>\n",
       "      <td>1</td>\n",
       "      <td>0</td>\n",
       "      <td>3</td>\n",
       "      <td>74.75</td>\n",
       "      <td>1923</td>\n",
       "    </tr>\n",
       "    <tr>\n",
       "      <th>4</th>\n",
       "      <td>4742</td>\n",
       "      <td>0</td>\n",
       "      <td>0</td>\n",
       "      <td>1</td>\n",
       "      <td>1</td>\n",
       "      <td>43</td>\n",
       "      <td>0</td>\n",
       "      <td>1</td>\n",
       "      <td>0</td>\n",
       "      <td>2</td>\n",
       "      <td>2</td>\n",
       "      <td>0</td>\n",
       "      <td>2</td>\n",
       "      <td>2</td>\n",
       "      <td>0</td>\n",
       "      <td>1</td>\n",
       "      <td>1</td>\n",
       "      <td>0</td>\n",
       "      <td>51.25</td>\n",
       "      <td>1769</td>\n",
       "    </tr>\n",
       "    <tr>\n",
       "      <th>...</th>\n",
       "      <td>...</td>\n",
       "      <td>...</td>\n",
       "      <td>...</td>\n",
       "      <td>...</td>\n",
       "      <td>...</td>\n",
       "      <td>...</td>\n",
       "      <td>...</td>\n",
       "      <td>...</td>\n",
       "      <td>...</td>\n",
       "      <td>...</td>\n",
       "      <td>...</td>\n",
       "      <td>...</td>\n",
       "      <td>...</td>\n",
       "      <td>...</td>\n",
       "      <td>...</td>\n",
       "      <td>...</td>\n",
       "      <td>...</td>\n",
       "      <td>...</td>\n",
       "      <td>...</td>\n",
       "      <td>...</td>\n",
       "    </tr>\n",
       "    <tr>\n",
       "      <th>3733</th>\n",
       "      <td>1155</td>\n",
       "      <td>1</td>\n",
       "      <td>0</td>\n",
       "      <td>0</td>\n",
       "      <td>0</td>\n",
       "      <td>12</td>\n",
       "      <td>1</td>\n",
       "      <td>0</td>\n",
       "      <td>0</td>\n",
       "      <td>0</td>\n",
       "      <td>0</td>\n",
       "      <td>0</td>\n",
       "      <td>2</td>\n",
       "      <td>2</td>\n",
       "      <td>0</td>\n",
       "      <td>1</td>\n",
       "      <td>1</td>\n",
       "      <td>2</td>\n",
       "      <td>59.80</td>\n",
       "      <td>5651</td>\n",
       "    </tr>\n",
       "    <tr>\n",
       "      <th>3734</th>\n",
       "      <td>6201</td>\n",
       "      <td>0</td>\n",
       "      <td>0</td>\n",
       "      <td>0</td>\n",
       "      <td>0</td>\n",
       "      <td>9</td>\n",
       "      <td>1</td>\n",
       "      <td>0</td>\n",
       "      <td>0</td>\n",
       "      <td>0</td>\n",
       "      <td>0</td>\n",
       "      <td>0</td>\n",
       "      <td>0</td>\n",
       "      <td>0</td>\n",
       "      <td>0</td>\n",
       "      <td>0</td>\n",
       "      <td>1</td>\n",
       "      <td>0</td>\n",
       "      <td>44.20</td>\n",
       "      <td>3448</td>\n",
       "    </tr>\n",
       "    <tr>\n",
       "      <th>3735</th>\n",
       "      <td>4893</td>\n",
       "      <td>1</td>\n",
       "      <td>1</td>\n",
       "      <td>0</td>\n",
       "      <td>0</td>\n",
       "      <td>1</td>\n",
       "      <td>1</td>\n",
       "      <td>2</td>\n",
       "      <td>1</td>\n",
       "      <td>0</td>\n",
       "      <td>0</td>\n",
       "      <td>0</td>\n",
       "      <td>0</td>\n",
       "      <td>0</td>\n",
       "      <td>0</td>\n",
       "      <td>0</td>\n",
       "      <td>1</td>\n",
       "      <td>2</td>\n",
       "      <td>75.75</td>\n",
       "      <td>5776</td>\n",
       "    </tr>\n",
       "    <tr>\n",
       "      <th>3736</th>\n",
       "      <td>437</td>\n",
       "      <td>0</td>\n",
       "      <td>0</td>\n",
       "      <td>0</td>\n",
       "      <td>0</td>\n",
       "      <td>67</td>\n",
       "      <td>1</td>\n",
       "      <td>2</td>\n",
       "      <td>1</td>\n",
       "      <td>2</td>\n",
       "      <td>2</td>\n",
       "      <td>2</td>\n",
       "      <td>0</td>\n",
       "      <td>2</td>\n",
       "      <td>0</td>\n",
       "      <td>0</td>\n",
       "      <td>1</td>\n",
       "      <td>1</td>\n",
       "      <td>102.95</td>\n",
       "      <td>5431</td>\n",
       "    </tr>\n",
       "    <tr>\n",
       "      <th>3737</th>\n",
       "      <td>5934</td>\n",
       "      <td>1</td>\n",
       "      <td>1</td>\n",
       "      <td>1</td>\n",
       "      <td>0</td>\n",
       "      <td>4</td>\n",
       "      <td>1</td>\n",
       "      <td>2</td>\n",
       "      <td>1</td>\n",
       "      <td>0</td>\n",
       "      <td>0</td>\n",
       "      <td>0</td>\n",
       "      <td>0</td>\n",
       "      <td>0</td>\n",
       "      <td>0</td>\n",
       "      <td>0</td>\n",
       "      <td>1</td>\n",
       "      <td>3</td>\n",
       "      <td>74.40</td>\n",
       "      <td>2660</td>\n",
       "    </tr>\n",
       "  </tbody>\n",
       "</table>\n",
       "<p>3738 rows × 20 columns</p>\n",
       "</div>"
      ],
      "text/plain": [
       "      customerID  gender  SeniorCitizen  Partner  Dependents  tenure  \\\n",
       "0           3938       1              0        0           0       1   \n",
       "1           5549       0              0        1           0       1   \n",
       "2           5706       0              0        0           0       1   \n",
       "3           4245       0              0        0           0      32   \n",
       "4           4742       0              0        1           1      43   \n",
       "...          ...     ...            ...      ...         ...     ...   \n",
       "3733        1155       1              0        0           0      12   \n",
       "3734        6201       0              0        0           0       9   \n",
       "3735        4893       1              1        0           0       1   \n",
       "3736         437       0              0        0           0      67   \n",
       "3737        5934       1              1        1           0       4   \n",
       "\n",
       "      PhoneService  MultipleLines  InternetService  OnlineSecurity  \\\n",
       "0                1              0                1               0   \n",
       "1                1              0                2               1   \n",
       "2                1              0                1               0   \n",
       "3                1              2                0               2   \n",
       "4                0              1                0               2   \n",
       "...            ...            ...              ...             ...   \n",
       "3733             1              0                0               0   \n",
       "3734             1              0                0               0   \n",
       "3735             1              2                1               0   \n",
       "3736             1              2                1               2   \n",
       "3737             1              2                1               0   \n",
       "\n",
       "      OnlineBackup  DeviceProtection  TechSupport  StreamingTV  \\\n",
       "0                0                 0            0            0   \n",
       "1                1                 1            1            1   \n",
       "2                0                 0            0            0   \n",
       "3                0                 0            0            2   \n",
       "4                2                 0            2            2   \n",
       "...            ...               ...          ...          ...   \n",
       "3733             0                 0            2            2   \n",
       "3734             0                 0            0            0   \n",
       "3735             0                 0            0            0   \n",
       "3736             2                 2            0            2   \n",
       "3737             0                 0            0            0   \n",
       "\n",
       "      StreamingMovies  Contract  PaperlessBilling  PaymentMethod  \\\n",
       "0                   0         0                 1              2   \n",
       "1                   1         0                 1              0   \n",
       "2                   0         0                 0              3   \n",
       "3                   2         1                 0              3   \n",
       "4                   0         1                 1              0   \n",
       "...               ...       ...               ...            ...   \n",
       "3733                0         1                 1              2   \n",
       "3734                0         0                 1              0   \n",
       "3735                0         0                 1              2   \n",
       "3736                0         0                 1              1   \n",
       "3737                0         0                 1              3   \n",
       "\n",
       "      MonthlyCharges  TotalCharges  \n",
       "0              69.90          5454  \n",
       "1              20.30          1612  \n",
       "2              71.10          5565  \n",
       "3              74.75          1923  \n",
       "4              51.25          1769  \n",
       "...              ...           ...  \n",
       "3733           59.80          5651  \n",
       "3734           44.20          3448  \n",
       "3735           75.75          5776  \n",
       "3736          102.95          5431  \n",
       "3737           74.40          2660  \n",
       "\n",
       "[3738 rows x 20 columns]"
      ]
     },
     "execution_count": 38,
     "metadata": {},
     "output_type": "execute_result"
    }
   ],
   "source": [
    "new_x"
   ]
  },
  {
   "cell_type": "code",
   "execution_count": 39,
   "id": "e3e23d07",
   "metadata": {},
   "outputs": [
    {
     "data": {
      "text/plain": [
       "(3738, 20)"
      ]
     },
     "execution_count": 39,
     "metadata": {},
     "output_type": "execute_result"
    }
   ],
   "source": [
    "new_x.shape"
   ]
  },
  {
   "cell_type": "code",
   "execution_count": 40,
   "id": "f3fdd193",
   "metadata": {},
   "outputs": [
    {
     "data": {
      "text/plain": [
       "(3738,)"
      ]
     },
     "execution_count": 40,
     "metadata": {},
     "output_type": "execute_result"
    }
   ],
   "source": [
    "new_y.shape"
   ]
  },
  {
   "cell_type": "code",
   "execution_count": 41,
   "id": "652e3618",
   "metadata": {},
   "outputs": [
    {
     "data": {
      "text/plain": [
       "0    1869\n",
       "1    1869\n",
       "Name: Churn, dtype: int64"
      ]
     },
     "execution_count": 41,
     "metadata": {},
     "output_type": "execute_result"
    }
   ],
   "source": [
    "new_y.value_counts()"
   ]
  },
  {
   "cell_type": "code",
   "execution_count": 42,
   "id": "99cf8acb",
   "metadata": {},
   "outputs": [
    {
     "data": {
      "text/plain": [
       "0    5174\n",
       "1    1869\n",
       "Name: Churn, dtype: int64"
      ]
     },
     "execution_count": 42,
     "metadata": {},
     "output_type": "execute_result"
    }
   ],
   "source": [
    "df.Churn.value_counts()"
   ]
  },
  {
   "cell_type": "markdown",
   "id": "9688a33a",
   "metadata": {},
   "source": [
    "# Synthetic Minority Oversampling Technique (SMOTETomek)"
   ]
  },
  {
   "cell_type": "code",
   "execution_count": 43,
   "id": "4d45bb10",
   "metadata": {},
   "outputs": [],
   "source": [
    "from imblearn.combine import SMOTETomek\n",
    "SM = SMOTETomek(random_state = 42)"
   ]
  },
  {
   "cell_type": "code",
   "execution_count": 44,
   "id": "05e53175",
   "metadata": {},
   "outputs": [
    {
     "data": {
      "text/plain": [
       "(9474, 20)"
      ]
     },
     "execution_count": 44,
     "metadata": {},
     "output_type": "execute_result"
    }
   ],
   "source": [
    "combine_x , combine_y = SM.fit_resample(x,y)\n",
    "combine_x.shape"
   ]
  },
  {
   "cell_type": "code",
   "execution_count": 45,
   "id": "255c4742",
   "metadata": {},
   "outputs": [
    {
     "data": {
      "text/plain": [
       "(9474, 20)"
      ]
     },
     "execution_count": 45,
     "metadata": {},
     "output_type": "execute_result"
    }
   ],
   "source": [
    "combine_x.shape"
   ]
  },
  {
   "cell_type": "code",
   "execution_count": 46,
   "id": "7c9f0727",
   "metadata": {},
   "outputs": [
    {
     "data": {
      "text/plain": [
       "(9474,)"
      ]
     },
     "execution_count": 46,
     "metadata": {},
     "output_type": "execute_result"
    }
   ],
   "source": [
    "combine_y.shape"
   ]
  },
  {
   "cell_type": "code",
   "execution_count": 47,
   "id": "48273051",
   "metadata": {},
   "outputs": [
    {
     "data": {
      "text/plain": [
       "0    4737\n",
       "1    4737\n",
       "Name: Churn, dtype: int64"
      ]
     },
     "execution_count": 47,
     "metadata": {},
     "output_type": "execute_result"
    }
   ],
   "source": [
    "combine_y.value_counts()"
   ]
  },
  {
   "cell_type": "code",
   "execution_count": 48,
   "id": "9e0c3e83",
   "metadata": {},
   "outputs": [
    {
     "data": {
      "text/html": [
       "<div>\n",
       "<style scoped>\n",
       "    .dataframe tbody tr th:only-of-type {\n",
       "        vertical-align: middle;\n",
       "    }\n",
       "\n",
       "    .dataframe tbody tr th {\n",
       "        vertical-align: top;\n",
       "    }\n",
       "\n",
       "    .dataframe thead th {\n",
       "        text-align: right;\n",
       "    }\n",
       "</style>\n",
       "<table border=\"1\" class=\"dataframe\">\n",
       "  <thead>\n",
       "    <tr style=\"text-align: right;\">\n",
       "      <th></th>\n",
       "      <th>customerID</th>\n",
       "      <th>gender</th>\n",
       "      <th>SeniorCitizen</th>\n",
       "      <th>Partner</th>\n",
       "      <th>Dependents</th>\n",
       "      <th>tenure</th>\n",
       "      <th>PhoneService</th>\n",
       "      <th>MultipleLines</th>\n",
       "      <th>InternetService</th>\n",
       "      <th>OnlineSecurity</th>\n",
       "      <th>OnlineBackup</th>\n",
       "      <th>DeviceProtection</th>\n",
       "      <th>TechSupport</th>\n",
       "      <th>StreamingTV</th>\n",
       "      <th>StreamingMovies</th>\n",
       "      <th>Contract</th>\n",
       "      <th>PaperlessBilling</th>\n",
       "      <th>PaymentMethod</th>\n",
       "      <th>MonthlyCharges</th>\n",
       "      <th>TotalCharges</th>\n",
       "    </tr>\n",
       "  </thead>\n",
       "  <tbody>\n",
       "    <tr>\n",
       "      <th>0</th>\n",
       "      <td>5375</td>\n",
       "      <td>0</td>\n",
       "      <td>0</td>\n",
       "      <td>1</td>\n",
       "      <td>0</td>\n",
       "      <td>1</td>\n",
       "      <td>0</td>\n",
       "      <td>1</td>\n",
       "      <td>0</td>\n",
       "      <td>0</td>\n",
       "      <td>2</td>\n",
       "      <td>0</td>\n",
       "      <td>0</td>\n",
       "      <td>0</td>\n",
       "      <td>0</td>\n",
       "      <td>0</td>\n",
       "      <td>1</td>\n",
       "      <td>2</td>\n",
       "      <td>29.85</td>\n",
       "      <td>2505</td>\n",
       "    </tr>\n",
       "    <tr>\n",
       "      <th>1</th>\n",
       "      <td>3962</td>\n",
       "      <td>1</td>\n",
       "      <td>0</td>\n",
       "      <td>0</td>\n",
       "      <td>0</td>\n",
       "      <td>34</td>\n",
       "      <td>1</td>\n",
       "      <td>0</td>\n",
       "      <td>0</td>\n",
       "      <td>2</td>\n",
       "      <td>0</td>\n",
       "      <td>2</td>\n",
       "      <td>0</td>\n",
       "      <td>0</td>\n",
       "      <td>0</td>\n",
       "      <td>1</td>\n",
       "      <td>0</td>\n",
       "      <td>3</td>\n",
       "      <td>56.95</td>\n",
       "      <td>1466</td>\n",
       "    </tr>\n",
       "    <tr>\n",
       "      <th>2</th>\n",
       "      <td>2564</td>\n",
       "      <td>1</td>\n",
       "      <td>0</td>\n",
       "      <td>0</td>\n",
       "      <td>0</td>\n",
       "      <td>2</td>\n",
       "      <td>1</td>\n",
       "      <td>0</td>\n",
       "      <td>0</td>\n",
       "      <td>2</td>\n",
       "      <td>2</td>\n",
       "      <td>0</td>\n",
       "      <td>0</td>\n",
       "      <td>0</td>\n",
       "      <td>0</td>\n",
       "      <td>0</td>\n",
       "      <td>1</td>\n",
       "      <td>3</td>\n",
       "      <td>53.85</td>\n",
       "      <td>157</td>\n",
       "    </tr>\n",
       "    <tr>\n",
       "      <th>3</th>\n",
       "      <td>5535</td>\n",
       "      <td>1</td>\n",
       "      <td>0</td>\n",
       "      <td>0</td>\n",
       "      <td>0</td>\n",
       "      <td>45</td>\n",
       "      <td>0</td>\n",
       "      <td>1</td>\n",
       "      <td>0</td>\n",
       "      <td>2</td>\n",
       "      <td>0</td>\n",
       "      <td>2</td>\n",
       "      <td>2</td>\n",
       "      <td>0</td>\n",
       "      <td>0</td>\n",
       "      <td>1</td>\n",
       "      <td>0</td>\n",
       "      <td>0</td>\n",
       "      <td>42.30</td>\n",
       "      <td>1400</td>\n",
       "    </tr>\n",
       "    <tr>\n",
       "      <th>4</th>\n",
       "      <td>6511</td>\n",
       "      <td>0</td>\n",
       "      <td>0</td>\n",
       "      <td>0</td>\n",
       "      <td>0</td>\n",
       "      <td>2</td>\n",
       "      <td>1</td>\n",
       "      <td>0</td>\n",
       "      <td>1</td>\n",
       "      <td>0</td>\n",
       "      <td>0</td>\n",
       "      <td>0</td>\n",
       "      <td>0</td>\n",
       "      <td>0</td>\n",
       "      <td>0</td>\n",
       "      <td>0</td>\n",
       "      <td>1</td>\n",
       "      <td>2</td>\n",
       "      <td>70.70</td>\n",
       "      <td>925</td>\n",
       "    </tr>\n",
       "  </tbody>\n",
       "</table>\n",
       "</div>"
      ],
      "text/plain": [
       "   customerID  gender  SeniorCitizen  Partner  Dependents  tenure  \\\n",
       "0        5375       0              0        1           0       1   \n",
       "1        3962       1              0        0           0      34   \n",
       "2        2564       1              0        0           0       2   \n",
       "3        5535       1              0        0           0      45   \n",
       "4        6511       0              0        0           0       2   \n",
       "\n",
       "   PhoneService  MultipleLines  InternetService  OnlineSecurity  OnlineBackup  \\\n",
       "0             0              1                0               0             2   \n",
       "1             1              0                0               2             0   \n",
       "2             1              0                0               2             2   \n",
       "3             0              1                0               2             0   \n",
       "4             1              0                1               0             0   \n",
       "\n",
       "   DeviceProtection  TechSupport  StreamingTV  StreamingMovies  Contract  \\\n",
       "0                 0            0            0                0         0   \n",
       "1                 2            0            0                0         1   \n",
       "2                 0            0            0                0         0   \n",
       "3                 2            2            0                0         1   \n",
       "4                 0            0            0                0         0   \n",
       "\n",
       "   PaperlessBilling  PaymentMethod  MonthlyCharges  TotalCharges  \n",
       "0                 1              2           29.85          2505  \n",
       "1                 0              3           56.95          1466  \n",
       "2                 1              3           53.85           157  \n",
       "3                 0              0           42.30          1400  \n",
       "4                 1              2           70.70           925  "
      ]
     },
     "execution_count": 48,
     "metadata": {},
     "output_type": "execute_result"
    }
   ],
   "source": [
    "combine_x.head()"
   ]
  },
  {
   "cell_type": "markdown",
   "id": "5dd28912",
   "metadata": {},
   "source": [
    "# HoldOut cross validation with KNN classifier"
   ]
  },
  {
   "cell_type": "code",
   "execution_count": 49,
   "id": "6f884b7c",
   "metadata": {},
   "outputs": [],
   "source": [
    "from sklearn.model_selection import train_test_split \n",
    "\n",
    "from sklearn.neighbors import KNeighborsClassifier\n",
    "KNC = KNeighborsClassifier()"
   ]
  },
  {
   "cell_type": "code",
   "execution_count": 50,
   "id": "ad309227",
   "metadata": {},
   "outputs": [
    {
     "data": {
      "text/plain": [
       "0.7075248461902508"
      ]
     },
     "execution_count": 50,
     "metadata": {},
     "output_type": "execute_result"
    }
   ],
   "source": [
    "xtrain,xtest,ytrain,ytest = train_test_split(x,y,test_size = 0.30 ,random_state =1)\n",
    "KNC.fit(xtrain,ytrain)\n",
    "\n",
    "Normal_dataset_accuracy = KNC.score(xtest,ytest)\n",
    "\n",
    "Normal_dataset_accuracy"
   ]
  },
  {
   "cell_type": "markdown",
   "id": "ec0f361f",
   "metadata": {},
   "source": [
    "# For over sampling"
   ]
  },
  {
   "cell_type": "code",
   "execution_count": 51,
   "id": "c693428b",
   "metadata": {},
   "outputs": [
    {
     "data": {
      "text/plain": [
       "0.7913043478260869"
      ]
     },
     "execution_count": 51,
     "metadata": {},
     "output_type": "execute_result"
    }
   ],
   "source": [
    "#x_new & y_new for over samplig \n",
    "\n",
    "over_xtrain,over_xtest,over_ytrain,over_ytest = train_test_split(x_new,y_new,test_size = 0.30 ,random_state =42)\n",
    "KNC.fit(x_new,y_new)\n",
    "\n",
    "OverSampleing_dataset_accuracy = KNC.score(over_xtest,over_ytest)\n",
    "\n",
    "OverSampleing_dataset_accuracy"
   ]
  },
  {
   "cell_type": "markdown",
   "id": "6981a885",
   "metadata": {},
   "source": [
    "# For nearmiss under sampligng"
   ]
  },
  {
   "cell_type": "code",
   "execution_count": 52,
   "id": "cf3e1958",
   "metadata": {},
   "outputs": [
    {
     "data": {
      "text/plain": [
       "KNeighborsClassifier()"
      ]
     },
     "execution_count": 52,
     "metadata": {},
     "output_type": "execute_result"
    }
   ],
   "source": [
    "nmxtrain,nmxtest,nmytrain,nmytest=train_test_split(new_x,new_y,test_size = 0.30 ,random_state =42)\n",
    "KNC.fit(new_x,new_y)"
   ]
  },
  {
   "cell_type": "code",
   "execution_count": 53,
   "id": "b99acb18",
   "metadata": {},
   "outputs": [
    {
     "data": {
      "text/plain": [
       "0.6301247771836007"
      ]
     },
     "execution_count": 53,
     "metadata": {},
     "output_type": "execute_result"
    }
   ],
   "source": [
    "NearMiss_Sampleing_dataset_accuracy = KNC.score(nmxtest,nmytest)\n",
    "NearMiss_Sampleing_dataset_accuracy"
   ]
  },
  {
   "cell_type": "markdown",
   "id": "4ecdc045",
   "metadata": {},
   "source": [
    "# for synthetic minority oversampling technuques"
   ]
  },
  {
   "cell_type": "code",
   "execution_count": 54,
   "id": "311e58d9",
   "metadata": {},
   "outputs": [
    {
     "data": {
      "text/plain": [
       "0.6915230390432642"
      ]
     },
     "execution_count": 54,
     "metadata": {},
     "output_type": "execute_result"
    }
   ],
   "source": [
    "combine_xtrain,combine_xtest,combine_ytrain,combine_ytest = train_test_split(combine_x,combine_y,test_size = 0.30 ,random_state =1)\n",
    "KNC.fit(combine_xtrain,combine_ytrain)\n",
    "\n",
    "CombineSampleing_dataset_accuracy = KNC.score(combine_xtest,combine_ytest)\n",
    "\n",
    "CombineSampleing_dataset_accuracy"
   ]
  },
  {
   "cell_type": "markdown",
   "id": "b9b54af0",
   "metadata": {},
   "source": [
    "# K fold cross validation"
   ]
  },
  {
   "cell_type": "code",
   "execution_count": 55,
   "id": "77c51d78",
   "metadata": {},
   "outputs": [
    {
     "data": {
      "text/plain": [
       "array([0.69907736, 0.68772179, 0.6848829 , 0.671875  , 0.67613636])"
      ]
     },
     "execution_count": 55,
     "metadata": {},
     "output_type": "execute_result"
    }
   ],
   "source": [
    "from sklearn.model_selection import KFold, cross_val_score\n",
    "\n",
    "kfold = KFold(n_splits = 5)\n",
    "\n",
    "NormalDataset_kfold_result = cross_val_score(KNC,x,y,cv = kfold)\n",
    "\n",
    "NormalDataset_kfold_result"
   ]
  },
  {
   "cell_type": "code",
   "execution_count": 56,
   "id": "6618e59b",
   "metadata": {},
   "outputs": [
    {
     "data": {
      "text/plain": [
       "0.6990773598296665"
      ]
     },
     "execution_count": 56,
     "metadata": {},
     "output_type": "execute_result"
    }
   ],
   "source": [
    "NormalDataset_kfold_result.max()"
   ]
  },
  {
   "cell_type": "code",
   "execution_count": 57,
   "id": "e91d0963",
   "metadata": {},
   "outputs": [
    {
     "data": {
      "text/plain": [
       "0.671875"
      ]
     },
     "execution_count": 57,
     "metadata": {},
     "output_type": "execute_result"
    }
   ],
   "source": [
    "NormalDataset_kfold_result.min()"
   ]
  },
  {
   "cell_type": "code",
   "execution_count": 58,
   "id": "60d67b4f",
   "metadata": {},
   "outputs": [
    {
     "data": {
      "text/plain": [
       "0.6839386815278405"
      ]
     },
     "execution_count": 58,
     "metadata": {},
     "output_type": "execute_result"
    }
   ],
   "source": [
    "NormalDataset_kfold_result.mean()"
   ]
  },
  {
   "cell_type": "code",
   "execution_count": 59,
   "id": "589d7359",
   "metadata": {},
   "outputs": [
    {
     "data": {
      "text/plain": [
       "0.6839386815278405"
      ]
     },
     "execution_count": 59,
     "metadata": {},
     "output_type": "execute_result"
    }
   ],
   "source": [
    "NormalDataset_kfold_acurracy = NormalDataset_kfold_result.mean()\n",
    "NormalDataset_kfold_acurracy "
   ]
  },
  {
   "cell_type": "markdown",
   "id": "191fae26",
   "metadata": {},
   "source": [
    "# for over sampling"
   ]
  },
  {
   "cell_type": "code",
   "execution_count": 60,
   "id": "ce1c4d29",
   "metadata": {},
   "outputs": [
    {
     "data": {
      "text/plain": [
       "array([0.5589372 , 0.552657  , 0.57536232, 0.68777187, 0.62300628])"
      ]
     },
     "execution_count": 60,
     "metadata": {},
     "output_type": "execute_result"
    }
   ],
   "source": [
    "OverSampleingDataset_kfold_result = cross_val_score(KNC,x_new,y_new,cv = kfold)\n",
    "\n",
    "OverSampleingDataset_kfold_result"
   ]
  },
  {
   "cell_type": "code",
   "execution_count": 61,
   "id": "480fca4d",
   "metadata": {},
   "outputs": [
    {
     "data": {
      "text/plain": [
       "0.5995469350873137"
      ]
     },
     "execution_count": 61,
     "metadata": {},
     "output_type": "execute_result"
    }
   ],
   "source": [
    "OverSampleingDataset_kfold_accuracy = OverSampleingDataset_kfold_result.mean()\n",
    "\n",
    "OverSampleingDataset_kfold_accuracy"
   ]
  },
  {
   "cell_type": "markdown",
   "id": "d2c6f7c2",
   "metadata": {},
   "source": [
    "# for under sampling "
   ]
  },
  {
   "cell_type": "code",
   "execution_count": 62,
   "id": "d3b25b6a",
   "metadata": {},
   "outputs": [
    {
     "data": {
      "text/plain": [
       "array([0.09491979, 0.22994652, 0.40775401, 0.18607764, 0.16733601])"
      ]
     },
     "execution_count": 62,
     "metadata": {},
     "output_type": "execute_result"
    }
   ],
   "source": [
    "UnderSampleingDataset_kfold_result = cross_val_score(KNC,new_x,new_y,cv = kfold)\n",
    "\n",
    "UnderSampleingDataset_kfold_result"
   ]
  },
  {
   "cell_type": "code",
   "execution_count": 63,
   "id": "d79d0e47",
   "metadata": {},
   "outputs": [
    {
     "data": {
      "text/plain": [
       "0.21720679509481777"
      ]
     },
     "execution_count": 63,
     "metadata": {},
     "output_type": "execute_result"
    }
   ],
   "source": [
    "UnderSampleingDataset_kfold_result_accuracy=UnderSampleingDataset_kfold_result.mean()\n",
    "UnderSampleingDataset_kfold_result_accuracy"
   ]
  },
  {
   "cell_type": "markdown",
   "id": "57bde310",
   "metadata": {},
   "source": [
    "# for synthetic minority over sampling techniques"
   ]
  },
  {
   "cell_type": "code",
   "execution_count": 64,
   "id": "8f0102ba",
   "metadata": {},
   "outputs": [
    {
     "data": {
      "text/plain": [
       "array([0.62058047, 0.60369393, 0.61477573, 0.76728232, 0.72280887])"
      ]
     },
     "execution_count": 64,
     "metadata": {},
     "output_type": "execute_result"
    }
   ],
   "source": [
    "CombineSampleingDataset_kfold_result = cross_val_score(KNC,combine_x,combine_y,cv = kfold)\n",
    "\n",
    "CombineSampleingDataset_kfold_result"
   ]
  },
  {
   "cell_type": "code",
   "execution_count": 65,
   "id": "fcac5020",
   "metadata": {},
   "outputs": [
    {
     "data": {
      "text/plain": [
       "0.6658282647884027"
      ]
     },
     "execution_count": 65,
     "metadata": {},
     "output_type": "execute_result"
    }
   ],
   "source": [
    "CombineSampleingDataset_kfold_result_accuracy=CombineSampleingDataset_kfold_result.mean()\n",
    "CombineSampleingDataset_kfold_result_accuracy"
   ]
  },
  {
   "cell_type": "markdown",
   "id": "9b8e3ed1",
   "metadata": {},
   "source": [
    "# stratified k fold cross validation"
   ]
  },
  {
   "cell_type": "code",
   "execution_count": 66,
   "id": "62cdf8d3",
   "metadata": {},
   "outputs": [
    {
     "data": {
      "text/plain": [
       "array([0.69836764, 0.68417317, 0.68417317, 0.67258523, 0.67897727])"
      ]
     },
     "execution_count": 66,
     "metadata": {},
     "output_type": "execute_result"
    }
   ],
   "source": [
    "from sklearn.model_selection import StratifiedKFold\n",
    "\n",
    "Stf_Kfold = StratifiedKFold(n_splits = 5)\n",
    "\n",
    "NormalDataset_Sf_Kfold_result = cross_val_score(KNC,x,y,cv = Stf_Kfold)\n",
    "\n",
    "NormalDataset_Sf_Kfold_result"
   ]
  },
  {
   "cell_type": "code",
   "execution_count": 67,
   "id": "190d1abf",
   "metadata": {},
   "outputs": [
    {
     "data": {
      "text/plain": [
       "0.6836552963094393"
      ]
     },
     "execution_count": 67,
     "metadata": {},
     "output_type": "execute_result"
    }
   ],
   "source": [
    "NormalDataset_Sf_Kfold_result_accuracy=NormalDataset_Sf_Kfold_result.mean()\n",
    "NormalDataset_Sf_Kfold_result_accuracy"
   ]
  },
  {
   "cell_type": "markdown",
   "id": "70b0fbfb",
   "metadata": {},
   "source": [
    "# for over sampling"
   ]
  },
  {
   "cell_type": "code",
   "execution_count": 68,
   "id": "5fa53736",
   "metadata": {},
   "outputs": [
    {
     "data": {
      "text/plain": [
       "array([0.63236715, 0.64154589, 0.67826087, 0.67472209, 0.6901885 ])"
      ]
     },
     "execution_count": 68,
     "metadata": {},
     "output_type": "execute_result"
    }
   ],
   "source": [
    "OverSampleingDataset_Sf_kfold_result = cross_val_score(KNC,x_new,y_new,cv = Stf_Kfold)\n",
    "\n",
    "OverSampleingDataset_Sf_kfold_result"
   ]
  },
  {
   "cell_type": "code",
   "execution_count": 69,
   "id": "73084bba",
   "metadata": {},
   "outputs": [
    {
     "data": {
      "text/plain": [
       "0.6634168995734129"
      ]
     },
     "execution_count": 69,
     "metadata": {},
     "output_type": "execute_result"
    }
   ],
   "source": [
    "OverSampleingDataset_Sf_kfold_result_accuracy=OverSampleingDataset_Sf_kfold_result.mean()\n",
    "OverSampleingDataset_Sf_kfold_result_accuracy"
   ]
  },
  {
   "cell_type": "markdown",
   "id": "4dc3d0d4",
   "metadata": {},
   "source": [
    "# for under sampling"
   ]
  },
  {
   "cell_type": "code",
   "execution_count": 70,
   "id": "388a9567",
   "metadata": {},
   "outputs": [
    {
     "data": {
      "text/plain": [
       "array([0.34893048, 0.42647059, 0.44117647, 0.42971888, 0.46184739])"
      ]
     },
     "execution_count": 70,
     "metadata": {},
     "output_type": "execute_result"
    }
   ],
   "source": [
    "UnderSampleingDataset_SF_kfold_result = cross_val_score(KNC,new_x,new_y,cv = Stf_Kfold)\n",
    "\n",
    "UnderSampleingDataset_SF_kfold_result\n"
   ]
  },
  {
   "cell_type": "code",
   "execution_count": 71,
   "id": "48702c26",
   "metadata": {},
   "outputs": [
    {
     "data": {
      "text/plain": [
       "0.4216287610334386"
      ]
     },
     "execution_count": 71,
     "metadata": {},
     "output_type": "execute_result"
    }
   ],
   "source": [
    "UnderSampleingDataset_SF_kfold_accuracy = UnderSampleingDataset_SF_kfold_result.mean()\n",
    "\n",
    "UnderSampleingDataset_SF_kfold_accuracy"
   ]
  },
  {
   "cell_type": "markdown",
   "id": "4d25c6b6",
   "metadata": {},
   "source": [
    "# for synthetic minority over sampling techniques"
   ]
  },
  {
   "cell_type": "code",
   "execution_count": 72,
   "id": "7f0e7f68",
   "metadata": {},
   "outputs": [
    {
     "data": {
      "text/plain": [
       "array([0.69709763, 0.68548813, 0.72664908, 0.73192612, 0.72650475])"
      ]
     },
     "execution_count": 72,
     "metadata": {},
     "output_type": "execute_result"
    }
   ],
   "source": [
    "CombineSampleingDataset_Sf_kfold_result = cross_val_score(KNC,combine_x,combine_y,cv = Stf_Kfold)\n",
    "\n",
    "CombineSampleingDataset_Sf_kfold_result"
   ]
  },
  {
   "cell_type": "code",
   "execution_count": 73,
   "id": "d399dbfb",
   "metadata": {},
   "outputs": [
    {
     "data": {
      "text/plain": [
       "0.713533140343203"
      ]
     },
     "execution_count": 73,
     "metadata": {},
     "output_type": "execute_result"
    }
   ],
   "source": [
    "CombineSampleingDataset_Sf_kfold_accuracy = CombineSampleingDataset_Sf_kfold_result.mean()\n",
    "\n",
    "CombineSampleingDataset_Sf_kfold_accuracy"
   ]
  },
  {
   "cell_type": "markdown",
   "id": "f0c89420",
   "metadata": {},
   "source": [
    "# Leave one out cross validation"
   ]
  },
  {
   "cell_type": "code",
   "execution_count": 74,
   "id": "0e0c0f52",
   "metadata": {},
   "outputs": [],
   "source": [
    "from sklearn.model_selection import LeaveOneOut\n",
    "le = LeaveOneOut()"
   ]
  },
  {
   "cell_type": "code",
   "execution_count": 75,
   "id": "dd039293",
   "metadata": {},
   "outputs": [
    {
     "data": {
      "text/plain": [
       "array([1., 1., 0., ..., 1., 0., 1.])"
      ]
     },
     "execution_count": 75,
     "metadata": {},
     "output_type": "execute_result"
    }
   ],
   "source": [
    "NormalDataset_LeaveOneOut_result = cross_val_score(KNC,x,y,cv = le)\n",
    "\n",
    "NormalDataset_LeaveOneOut_result"
   ]
  },
  {
   "cell_type": "code",
   "execution_count": 76,
   "id": "20b68463",
   "metadata": {},
   "outputs": [
    {
     "data": {
      "text/plain": [
       "0.6863552463438876"
      ]
     },
     "execution_count": 76,
     "metadata": {},
     "output_type": "execute_result"
    }
   ],
   "source": [
    "NormalDataset_LeaveOneOut_accuracy = NormalDataset_LeaveOneOut_result.mean()\n",
    "NormalDataset_LeaveOneOut_accuracy"
   ]
  },
  {
   "cell_type": "markdown",
   "id": "b5fab767",
   "metadata": {},
   "source": [
    "# for over sampling"
   ]
  },
  {
   "cell_type": "code",
   "execution_count": 77,
   "id": "44c2d9c2",
   "metadata": {},
   "outputs": [
    {
     "data": {
      "text/plain": [
       "array([1., 0., 0., ..., 1., 1., 1.])"
      ]
     },
     "execution_count": 77,
     "metadata": {},
     "output_type": "execute_result"
    }
   ],
   "source": [
    "OverSampleingDataset_LeaveOneOut_result = cross_val_score(KNC,x_new,y_new,cv = le)\n",
    "\n",
    "OverSampleingDataset_LeaveOneOut_result"
   ]
  },
  {
   "cell_type": "code",
   "execution_count": 78,
   "id": "dd849a7b",
   "metadata": {},
   "outputs": [
    {
     "data": {
      "text/plain": [
       "0.6799381522999614"
      ]
     },
     "execution_count": 78,
     "metadata": {},
     "output_type": "execute_result"
    }
   ],
   "source": [
    "OverSampleingDataset_LeaveOneOut_accracy = OverSampleingDataset_LeaveOneOut_result.mean() \n",
    "\n",
    "OverSampleingDataset_LeaveOneOut_accracy"
   ]
  },
  {
   "cell_type": "markdown",
   "id": "0f43bed6",
   "metadata": {},
   "source": [
    "# for under sampling"
   ]
  },
  {
   "cell_type": "code",
   "execution_count": 79,
   "id": "7f97c377",
   "metadata": {},
   "outputs": [
    {
     "data": {
      "text/plain": [
       "array([0., 0., 0., ..., 1., 1., 0.])"
      ]
     },
     "execution_count": 79,
     "metadata": {},
     "output_type": "execute_result"
    }
   ],
   "source": [
    "UnderSampleingDataset_LeaveOneOut_result = cross_val_score(KNC,new_x,new_y,cv = le)\n",
    "\n",
    "UnderSampleingDataset_LeaveOneOut_result"
   ]
  },
  {
   "cell_type": "code",
   "execution_count": 80,
   "id": "01e50de1",
   "metadata": {},
   "outputs": [
    {
     "data": {
      "text/plain": [
       "0.406099518459069"
      ]
     },
     "execution_count": 80,
     "metadata": {},
     "output_type": "execute_result"
    }
   ],
   "source": [
    "UnderSampleingDataset_LeaveOneOut_accuracy = UnderSampleingDataset_LeaveOneOut_result.mean()\n",
    "\n",
    "UnderSampleingDataset_LeaveOneOut_accuracy"
   ]
  },
  {
   "cell_type": "markdown",
   "id": "f44a6024",
   "metadata": {},
   "source": [
    "# for SMOTETomek"
   ]
  },
  {
   "cell_type": "code",
   "execution_count": 81,
   "id": "fb336d6b",
   "metadata": {},
   "outputs": [
    {
     "data": {
      "text/plain": [
       "array([0., 0., 0., ..., 1., 0., 1.])"
      ]
     },
     "execution_count": 81,
     "metadata": {},
     "output_type": "execute_result"
    }
   ],
   "source": [
    "CombineSampleingDataset_LeaveOneOut_result = cross_val_score(KNC,combine_x,combine_y,cv = le)\n",
    "\n",
    "CombineSampleingDataset_LeaveOneOut_result"
   ]
  },
  {
   "cell_type": "code",
   "execution_count": 82,
   "id": "89926419",
   "metadata": {},
   "outputs": [
    {
     "data": {
      "text/plain": [
       "0.7263035676588558"
      ]
     },
     "execution_count": 82,
     "metadata": {},
     "output_type": "execute_result"
    }
   ],
   "source": [
    "CombineSampleingDataset_LeaveOneOut_accuracy = CombineSampleingDataset_LeaveOneOut_result.mean()\n",
    "\n",
    "CombineSampleingDataset_LeaveOneOut_accuracy\n",
    " "
   ]
  },
  {
   "cell_type": "code",
   "execution_count": null,
   "id": "1f3d63f6",
   "metadata": {},
   "outputs": [],
   "source": []
  },
  {
   "cell_type": "markdown",
   "id": "330ad49a",
   "metadata": {},
   "source": [
    "# Now doing Tuning"
   ]
  },
  {
   "cell_type": "code",
   "execution_count": 83,
   "id": "498e63bd",
   "metadata": {},
   "outputs": [],
   "source": [
    "from sklearn.model_selection import RandomizedSearchCV\n",
    "\n",
    "n_neighbors = [int(item) for item in np.linspace(10,100,25)]\n",
    "weight = ['uniform', 'distance']\n",
    "algorithm = ['auto', 'ball_tree', 'kd_tree', 'brute']\n",
    "\n",
    "parameters = {\n",
    "    \"n_neighbors\":n_neighbors,\n",
    "    \"weights\" : weight ,\n",
    "    \"algorithm\": algorithm\n",
    "    }\n",
    "\n",
    "rscv = RandomizedSearchCV(KNC,parameters,n_iter=200, cv = 3)"
   ]
  },
  {
   "cell_type": "code",
   "execution_count": 84,
   "id": "96cf06a2",
   "metadata": {},
   "outputs": [
    {
     "data": {
      "text/plain": [
       "RandomizedSearchCV(cv=3, estimator=KNeighborsClassifier(), n_iter=200,\n",
       "                   param_distributions={'algorithm': ['auto', 'ball_tree',\n",
       "                                                      'kd_tree', 'brute'],\n",
       "                                        'n_neighbors': [10, 13, 17, 21, 25, 28,\n",
       "                                                        32, 36, 40, 43, 47, 51,\n",
       "                                                        55, 58, 62, 66, 70, 73,\n",
       "                                                        77, 81, 85, 88, 92, 96,\n",
       "                                                        100],\n",
       "                                        'weights': ['uniform', 'distance']})"
      ]
     },
     "execution_count": 84,
     "metadata": {},
     "output_type": "execute_result"
    }
   ],
   "source": [
    "rscv.fit(xtrain,ytrain)"
   ]
  },
  {
   "cell_type": "code",
   "execution_count": 85,
   "id": "b5422573",
   "metadata": {},
   "outputs": [
    {
     "data": {
      "text/html": [
       "<div>\n",
       "<style scoped>\n",
       "    .dataframe tbody tr th:only-of-type {\n",
       "        vertical-align: middle;\n",
       "    }\n",
       "\n",
       "    .dataframe tbody tr th {\n",
       "        vertical-align: top;\n",
       "    }\n",
       "\n",
       "    .dataframe thead th {\n",
       "        text-align: right;\n",
       "    }\n",
       "</style>\n",
       "<table border=\"1\" class=\"dataframe\">\n",
       "  <thead>\n",
       "    <tr style=\"text-align: right;\">\n",
       "      <th></th>\n",
       "      <th>mean_fit_time</th>\n",
       "      <th>std_fit_time</th>\n",
       "      <th>mean_score_time</th>\n",
       "      <th>std_score_time</th>\n",
       "      <th>param_weights</th>\n",
       "      <th>param_n_neighbors</th>\n",
       "      <th>param_algorithm</th>\n",
       "      <th>params</th>\n",
       "      <th>split0_test_score</th>\n",
       "      <th>split1_test_score</th>\n",
       "      <th>split2_test_score</th>\n",
       "      <th>mean_test_score</th>\n",
       "      <th>std_test_score</th>\n",
       "      <th>rank_test_score</th>\n",
       "    </tr>\n",
       "  </thead>\n",
       "  <tbody>\n",
       "    <tr>\n",
       "      <th>0</th>\n",
       "      <td>0.008213</td>\n",
       "      <td>0.006405</td>\n",
       "      <td>0.277334</td>\n",
       "      <td>0.028340</td>\n",
       "      <td>uniform</td>\n",
       "      <td>10</td>\n",
       "      <td>auto</td>\n",
       "      <td>{'weights': 'uniform', 'n_neighbors': 10, 'alg...</td>\n",
       "      <td>0.720803</td>\n",
       "      <td>0.727937</td>\n",
       "      <td>0.710286</td>\n",
       "      <td>0.719675</td>\n",
       "      <td>0.007250</td>\n",
       "      <td>185</td>\n",
       "    </tr>\n",
       "    <tr>\n",
       "      <th>1</th>\n",
       "      <td>0.010420</td>\n",
       "      <td>0.007368</td>\n",
       "      <td>0.253023</td>\n",
       "      <td>0.046559</td>\n",
       "      <td>distance</td>\n",
       "      <td>10</td>\n",
       "      <td>auto</td>\n",
       "      <td>{'weights': 'distance', 'n_neighbors': 10, 'al...</td>\n",
       "      <td>0.714112</td>\n",
       "      <td>0.716981</td>\n",
       "      <td>0.686549</td>\n",
       "      <td>0.705881</td>\n",
       "      <td>0.013720</td>\n",
       "      <td>197</td>\n",
       "    </tr>\n",
       "    <tr>\n",
       "      <th>2</th>\n",
       "      <td>0.005210</td>\n",
       "      <td>0.007368</td>\n",
       "      <td>0.302080</td>\n",
       "      <td>0.007368</td>\n",
       "      <td>uniform</td>\n",
       "      <td>13</td>\n",
       "      <td>auto</td>\n",
       "      <td>{'weights': 'uniform', 'n_neighbors': 13, 'alg...</td>\n",
       "      <td>0.710462</td>\n",
       "      <td>0.725502</td>\n",
       "      <td>0.701156</td>\n",
       "      <td>0.712374</td>\n",
       "      <td>0.010031</td>\n",
       "      <td>193</td>\n",
       "    </tr>\n",
       "    <tr>\n",
       "      <th>3</th>\n",
       "      <td>0.005209</td>\n",
       "      <td>0.007367</td>\n",
       "      <td>0.244261</td>\n",
       "      <td>0.008115</td>\n",
       "      <td>distance</td>\n",
       "      <td>13</td>\n",
       "      <td>auto</td>\n",
       "      <td>{'weights': 'distance', 'n_neighbors': 13, 'al...</td>\n",
       "      <td>0.718978</td>\n",
       "      <td>0.725502</td>\n",
       "      <td>0.695679</td>\n",
       "      <td>0.713386</td>\n",
       "      <td>0.012801</td>\n",
       "      <td>189</td>\n",
       "    </tr>\n",
       "    <tr>\n",
       "      <th>4</th>\n",
       "      <td>0.008546</td>\n",
       "      <td>0.006464</td>\n",
       "      <td>0.307048</td>\n",
       "      <td>0.010642</td>\n",
       "      <td>uniform</td>\n",
       "      <td>17</td>\n",
       "      <td>auto</td>\n",
       "      <td>{'weights': 'uniform', 'n_neighbors': 17, 'alg...</td>\n",
       "      <td>0.720803</td>\n",
       "      <td>0.729154</td>\n",
       "      <td>0.713938</td>\n",
       "      <td>0.721298</td>\n",
       "      <td>0.006222</td>\n",
       "      <td>177</td>\n",
       "    </tr>\n",
       "    <tr>\n",
       "      <th>...</th>\n",
       "      <td>...</td>\n",
       "      <td>...</td>\n",
       "      <td>...</td>\n",
       "      <td>...</td>\n",
       "      <td>...</td>\n",
       "      <td>...</td>\n",
       "      <td>...</td>\n",
       "      <td>...</td>\n",
       "      <td>...</td>\n",
       "      <td>...</td>\n",
       "      <td>...</td>\n",
       "      <td>...</td>\n",
       "      <td>...</td>\n",
       "      <td>...</td>\n",
       "    </tr>\n",
       "    <tr>\n",
       "      <th>195</th>\n",
       "      <td>0.005210</td>\n",
       "      <td>0.007367</td>\n",
       "      <td>0.265623</td>\n",
       "      <td>0.000001</td>\n",
       "      <td>distance</td>\n",
       "      <td>92</td>\n",
       "      <td>brute</td>\n",
       "      <td>{'weights': 'distance', 'n_neighbors': 92, 'al...</td>\n",
       "      <td>0.730535</td>\n",
       "      <td>0.727328</td>\n",
       "      <td>0.727937</td>\n",
       "      <td>0.728600</td>\n",
       "      <td>0.001391</td>\n",
       "      <td>73</td>\n",
       "    </tr>\n",
       "    <tr>\n",
       "      <th>196</th>\n",
       "      <td>0.000000</td>\n",
       "      <td>0.000000</td>\n",
       "      <td>0.312497</td>\n",
       "      <td>0.012760</td>\n",
       "      <td>uniform</td>\n",
       "      <td>96</td>\n",
       "      <td>brute</td>\n",
       "      <td>{'weights': 'uniform', 'n_neighbors': 96, 'alg...</td>\n",
       "      <td>0.728102</td>\n",
       "      <td>0.727937</td>\n",
       "      <td>0.727937</td>\n",
       "      <td>0.727992</td>\n",
       "      <td>0.000078</td>\n",
       "      <td>89</td>\n",
       "    </tr>\n",
       "    <tr>\n",
       "      <th>197</th>\n",
       "      <td>0.005208</td>\n",
       "      <td>0.007366</td>\n",
       "      <td>0.265625</td>\n",
       "      <td>0.000002</td>\n",
       "      <td>distance</td>\n",
       "      <td>96</td>\n",
       "      <td>brute</td>\n",
       "      <td>{'weights': 'distance', 'n_neighbors': 96, 'al...</td>\n",
       "      <td>0.730535</td>\n",
       "      <td>0.727328</td>\n",
       "      <td>0.727937</td>\n",
       "      <td>0.728600</td>\n",
       "      <td>0.001391</td>\n",
       "      <td>73</td>\n",
       "    </tr>\n",
       "    <tr>\n",
       "      <th>198</th>\n",
       "      <td>0.005210</td>\n",
       "      <td>0.007367</td>\n",
       "      <td>0.349538</td>\n",
       "      <td>0.008190</td>\n",
       "      <td>uniform</td>\n",
       "      <td>100</td>\n",
       "      <td>brute</td>\n",
       "      <td>{'weights': 'uniform', 'n_neighbors': 100, 'al...</td>\n",
       "      <td>0.728102</td>\n",
       "      <td>0.727937</td>\n",
       "      <td>0.727937</td>\n",
       "      <td>0.727992</td>\n",
       "      <td>0.000078</td>\n",
       "      <td>89</td>\n",
       "    </tr>\n",
       "    <tr>\n",
       "      <th>199</th>\n",
       "      <td>0.010416</td>\n",
       "      <td>0.007365</td>\n",
       "      <td>0.281251</td>\n",
       "      <td>0.000003</td>\n",
       "      <td>distance</td>\n",
       "      <td>100</td>\n",
       "      <td>brute</td>\n",
       "      <td>{'weights': 'distance', 'n_neighbors': 100, 'a...</td>\n",
       "      <td>0.730535</td>\n",
       "      <td>0.727328</td>\n",
       "      <td>0.728545</td>\n",
       "      <td>0.728803</td>\n",
       "      <td>0.001322</td>\n",
       "      <td>57</td>\n",
       "    </tr>\n",
       "  </tbody>\n",
       "</table>\n",
       "<p>200 rows × 14 columns</p>\n",
       "</div>"
      ],
      "text/plain": [
       "     mean_fit_time  std_fit_time  mean_score_time  std_score_time  \\\n",
       "0         0.008213      0.006405         0.277334        0.028340   \n",
       "1         0.010420      0.007368         0.253023        0.046559   \n",
       "2         0.005210      0.007368         0.302080        0.007368   \n",
       "3         0.005209      0.007367         0.244261        0.008115   \n",
       "4         0.008546      0.006464         0.307048        0.010642   \n",
       "..             ...           ...              ...             ...   \n",
       "195       0.005210      0.007367         0.265623        0.000001   \n",
       "196       0.000000      0.000000         0.312497        0.012760   \n",
       "197       0.005208      0.007366         0.265625        0.000002   \n",
       "198       0.005210      0.007367         0.349538        0.008190   \n",
       "199       0.010416      0.007365         0.281251        0.000003   \n",
       "\n",
       "    param_weights param_n_neighbors param_algorithm  \\\n",
       "0         uniform                10            auto   \n",
       "1        distance                10            auto   \n",
       "2         uniform                13            auto   \n",
       "3        distance                13            auto   \n",
       "4         uniform                17            auto   \n",
       "..            ...               ...             ...   \n",
       "195      distance                92           brute   \n",
       "196       uniform                96           brute   \n",
       "197      distance                96           brute   \n",
       "198       uniform               100           brute   \n",
       "199      distance               100           brute   \n",
       "\n",
       "                                                params  split0_test_score  \\\n",
       "0    {'weights': 'uniform', 'n_neighbors': 10, 'alg...           0.720803   \n",
       "1    {'weights': 'distance', 'n_neighbors': 10, 'al...           0.714112   \n",
       "2    {'weights': 'uniform', 'n_neighbors': 13, 'alg...           0.710462   \n",
       "3    {'weights': 'distance', 'n_neighbors': 13, 'al...           0.718978   \n",
       "4    {'weights': 'uniform', 'n_neighbors': 17, 'alg...           0.720803   \n",
       "..                                                 ...                ...   \n",
       "195  {'weights': 'distance', 'n_neighbors': 92, 'al...           0.730535   \n",
       "196  {'weights': 'uniform', 'n_neighbors': 96, 'alg...           0.728102   \n",
       "197  {'weights': 'distance', 'n_neighbors': 96, 'al...           0.730535   \n",
       "198  {'weights': 'uniform', 'n_neighbors': 100, 'al...           0.728102   \n",
       "199  {'weights': 'distance', 'n_neighbors': 100, 'a...           0.730535   \n",
       "\n",
       "     split1_test_score  split2_test_score  mean_test_score  std_test_score  \\\n",
       "0             0.727937           0.710286         0.719675        0.007250   \n",
       "1             0.716981           0.686549         0.705881        0.013720   \n",
       "2             0.725502           0.701156         0.712374        0.010031   \n",
       "3             0.725502           0.695679         0.713386        0.012801   \n",
       "4             0.729154           0.713938         0.721298        0.006222   \n",
       "..                 ...                ...              ...             ...   \n",
       "195           0.727328           0.727937         0.728600        0.001391   \n",
       "196           0.727937           0.727937         0.727992        0.000078   \n",
       "197           0.727328           0.727937         0.728600        0.001391   \n",
       "198           0.727937           0.727937         0.727992        0.000078   \n",
       "199           0.727328           0.728545         0.728803        0.001322   \n",
       "\n",
       "     rank_test_score  \n",
       "0                185  \n",
       "1                197  \n",
       "2                193  \n",
       "3                189  \n",
       "4                177  \n",
       "..               ...  \n",
       "195               73  \n",
       "196               89  \n",
       "197               73  \n",
       "198               89  \n",
       "199               57  \n",
       "\n",
       "[200 rows x 14 columns]"
      ]
     },
     "execution_count": 85,
     "metadata": {},
     "output_type": "execute_result"
    }
   ],
   "source": [
    "result = pd.DataFrame(rscv.cv_results_)\n",
    "result"
   ]
  },
  {
   "cell_type": "code",
   "execution_count": 86,
   "id": "5e4e4010",
   "metadata": {},
   "outputs": [
    {
     "data": {
      "text/plain": [
       "0.7316427331365732"
      ]
     },
     "execution_count": 86,
     "metadata": {},
     "output_type": "execute_result"
    }
   ],
   "source": [
    "rscv.best_score_"
   ]
  },
  {
   "cell_type": "code",
   "execution_count": 87,
   "id": "3c91f48e",
   "metadata": {},
   "outputs": [],
   "source": [
    "from sklearn.model_selection import GridSearchCV"
   ]
  },
  {
   "cell_type": "code",
   "execution_count": 88,
   "id": "1a5e6f92",
   "metadata": {},
   "outputs": [
    {
     "data": {
      "text/plain": [
       "GridSearchCV(estimator=KNeighborsClassifier(),\n",
       "             param_grid={'algorithm': ['auto', 'ball_tree', 'kd_tree', 'brute'],\n",
       "                         'n_neighbors': [10, 13, 17, 21, 25, 28, 32, 36, 40, 43,\n",
       "                                         47, 51, 55, 58, 62, 66, 70, 73, 77, 81,\n",
       "                                         85, 88, 92, 96, 100],\n",
       "                         'weights': ['uniform', 'distance']})"
      ]
     },
     "execution_count": 88,
     "metadata": {},
     "output_type": "execute_result"
    }
   ],
   "source": [
    "gscv = GridSearchCV(KNC,parameters)\n",
    "gscv.fit(xtrain,ytrain)"
   ]
  },
  {
   "cell_type": "code",
   "execution_count": 89,
   "id": "59a55239",
   "metadata": {},
   "outputs": [
    {
     "data": {
      "text/html": [
       "<div>\n",
       "<style scoped>\n",
       "    .dataframe tbody tr th:only-of-type {\n",
       "        vertical-align: middle;\n",
       "    }\n",
       "\n",
       "    .dataframe tbody tr th {\n",
       "        vertical-align: top;\n",
       "    }\n",
       "\n",
       "    .dataframe thead th {\n",
       "        text-align: right;\n",
       "    }\n",
       "</style>\n",
       "<table border=\"1\" class=\"dataframe\">\n",
       "  <thead>\n",
       "    <tr style=\"text-align: right;\">\n",
       "      <th></th>\n",
       "      <th>mean_fit_time</th>\n",
       "      <th>std_fit_time</th>\n",
       "      <th>mean_score_time</th>\n",
       "      <th>std_score_time</th>\n",
       "      <th>param_algorithm</th>\n",
       "      <th>param_n_neighbors</th>\n",
       "      <th>param_weights</th>\n",
       "      <th>params</th>\n",
       "      <th>split0_test_score</th>\n",
       "      <th>split1_test_score</th>\n",
       "      <th>split2_test_score</th>\n",
       "      <th>split3_test_score</th>\n",
       "      <th>split4_test_score</th>\n",
       "      <th>mean_test_score</th>\n",
       "      <th>std_test_score</th>\n",
       "      <th>rank_test_score</th>\n",
       "    </tr>\n",
       "  </thead>\n",
       "  <tbody>\n",
       "    <tr>\n",
       "      <th>0</th>\n",
       "      <td>0.001799</td>\n",
       "      <td>0.003598</td>\n",
       "      <td>0.233830</td>\n",
       "      <td>0.024295</td>\n",
       "      <td>auto</td>\n",
       "      <td>10</td>\n",
       "      <td>uniform</td>\n",
       "      <td>{'algorithm': 'auto', 'n_neighbors': 10, 'weig...</td>\n",
       "      <td>0.720081</td>\n",
       "      <td>0.708925</td>\n",
       "      <td>0.721095</td>\n",
       "      <td>0.717039</td>\n",
       "      <td>0.712982</td>\n",
       "      <td>0.716024</td>\n",
       "      <td>0.004536</td>\n",
       "      <td>185</td>\n",
       "    </tr>\n",
       "    <tr>\n",
       "      <th>1</th>\n",
       "      <td>0.013903</td>\n",
       "      <td>0.003447</td>\n",
       "      <td>0.176105</td>\n",
       "      <td>0.011344</td>\n",
       "      <td>auto</td>\n",
       "      <td>10</td>\n",
       "      <td>distance</td>\n",
       "      <td>{'algorithm': 'auto', 'n_neighbors': 10, 'weig...</td>\n",
       "      <td>0.716024</td>\n",
       "      <td>0.703854</td>\n",
       "      <td>0.697769</td>\n",
       "      <td>0.706897</td>\n",
       "      <td>0.690669</td>\n",
       "      <td>0.703043</td>\n",
       "      <td>0.008543</td>\n",
       "      <td>197</td>\n",
       "    </tr>\n",
       "    <tr>\n",
       "      <th>2</th>\n",
       "      <td>0.003126</td>\n",
       "      <td>0.006253</td>\n",
       "      <td>0.224997</td>\n",
       "      <td>0.007655</td>\n",
       "      <td>auto</td>\n",
       "      <td>13</td>\n",
       "      <td>uniform</td>\n",
       "      <td>{'algorithm': 'auto', 'n_neighbors': 13, 'weig...</td>\n",
       "      <td>0.720081</td>\n",
       "      <td>0.701826</td>\n",
       "      <td>0.717039</td>\n",
       "      <td>0.723124</td>\n",
       "      <td>0.702840</td>\n",
       "      <td>0.712982</td>\n",
       "      <td>0.008911</td>\n",
       "      <td>189</td>\n",
       "    </tr>\n",
       "    <tr>\n",
       "      <th>3</th>\n",
       "      <td>0.000000</td>\n",
       "      <td>0.000000</td>\n",
       "      <td>0.187500</td>\n",
       "      <td>0.000001</td>\n",
       "      <td>auto</td>\n",
       "      <td>13</td>\n",
       "      <td>distance</td>\n",
       "      <td>{'algorithm': 'auto', 'n_neighbors': 13, 'weig...</td>\n",
       "      <td>0.720081</td>\n",
       "      <td>0.708925</td>\n",
       "      <td>0.705882</td>\n",
       "      <td>0.715010</td>\n",
       "      <td>0.701826</td>\n",
       "      <td>0.710345</td>\n",
       "      <td>0.006497</td>\n",
       "      <td>193</td>\n",
       "    </tr>\n",
       "    <tr>\n",
       "      <th>4</th>\n",
       "      <td>0.006252</td>\n",
       "      <td>0.007657</td>\n",
       "      <td>0.221871</td>\n",
       "      <td>0.006251</td>\n",
       "      <td>auto</td>\n",
       "      <td>17</td>\n",
       "      <td>uniform</td>\n",
       "      <td>{'algorithm': 'auto', 'n_neighbors': 17, 'weig...</td>\n",
       "      <td>0.722110</td>\n",
       "      <td>0.716024</td>\n",
       "      <td>0.726166</td>\n",
       "      <td>0.726166</td>\n",
       "      <td>0.720081</td>\n",
       "      <td>0.722110</td>\n",
       "      <td>0.003849</td>\n",
       "      <td>177</td>\n",
       "    </tr>\n",
       "    <tr>\n",
       "      <th>...</th>\n",
       "      <td>...</td>\n",
       "      <td>...</td>\n",
       "      <td>...</td>\n",
       "      <td>...</td>\n",
       "      <td>...</td>\n",
       "      <td>...</td>\n",
       "      <td>...</td>\n",
       "      <td>...</td>\n",
       "      <td>...</td>\n",
       "      <td>...</td>\n",
       "      <td>...</td>\n",
       "      <td>...</td>\n",
       "      <td>...</td>\n",
       "      <td>...</td>\n",
       "      <td>...</td>\n",
       "      <td>...</td>\n",
       "    </tr>\n",
       "    <tr>\n",
       "      <th>195</th>\n",
       "      <td>0.009376</td>\n",
       "      <td>0.007656</td>\n",
       "      <td>0.203124</td>\n",
       "      <td>0.000003</td>\n",
       "      <td>brute</td>\n",
       "      <td>92</td>\n",
       "      <td>distance</td>\n",
       "      <td>{'algorithm': 'brute', 'n_neighbors': 92, 'wei...</td>\n",
       "      <td>0.730223</td>\n",
       "      <td>0.729209</td>\n",
       "      <td>0.728195</td>\n",
       "      <td>0.728195</td>\n",
       "      <td>0.728195</td>\n",
       "      <td>0.728803</td>\n",
       "      <td>0.000811</td>\n",
       "      <td>49</td>\n",
       "    </tr>\n",
       "    <tr>\n",
       "      <th>196</th>\n",
       "      <td>0.001603</td>\n",
       "      <td>0.003205</td>\n",
       "      <td>0.253464</td>\n",
       "      <td>0.018100</td>\n",
       "      <td>brute</td>\n",
       "      <td>96</td>\n",
       "      <td>uniform</td>\n",
       "      <td>{'algorithm': 'brute', 'n_neighbors': 96, 'wei...</td>\n",
       "      <td>0.728195</td>\n",
       "      <td>0.728195</td>\n",
       "      <td>0.728195</td>\n",
       "      <td>0.728195</td>\n",
       "      <td>0.727181</td>\n",
       "      <td>0.727992</td>\n",
       "      <td>0.000406</td>\n",
       "      <td>81</td>\n",
       "    </tr>\n",
       "    <tr>\n",
       "      <th>197</th>\n",
       "      <td>0.006251</td>\n",
       "      <td>0.007656</td>\n",
       "      <td>0.196874</td>\n",
       "      <td>0.007651</td>\n",
       "      <td>brute</td>\n",
       "      <td>96</td>\n",
       "      <td>distance</td>\n",
       "      <td>{'algorithm': 'brute', 'n_neighbors': 96, 'wei...</td>\n",
       "      <td>0.730223</td>\n",
       "      <td>0.729209</td>\n",
       "      <td>0.728195</td>\n",
       "      <td>0.728195</td>\n",
       "      <td>0.728195</td>\n",
       "      <td>0.728803</td>\n",
       "      <td>0.000811</td>\n",
       "      <td>49</td>\n",
       "    </tr>\n",
       "    <tr>\n",
       "      <th>198</th>\n",
       "      <td>0.003126</td>\n",
       "      <td>0.006251</td>\n",
       "      <td>0.237497</td>\n",
       "      <td>0.011693</td>\n",
       "      <td>brute</td>\n",
       "      <td>100</td>\n",
       "      <td>uniform</td>\n",
       "      <td>{'algorithm': 'brute', 'n_neighbors': 100, 'we...</td>\n",
       "      <td>0.728195</td>\n",
       "      <td>0.728195</td>\n",
       "      <td>0.728195</td>\n",
       "      <td>0.728195</td>\n",
       "      <td>0.727181</td>\n",
       "      <td>0.727992</td>\n",
       "      <td>0.000406</td>\n",
       "      <td>81</td>\n",
       "    </tr>\n",
       "    <tr>\n",
       "      <th>199</th>\n",
       "      <td>0.006250</td>\n",
       "      <td>0.007655</td>\n",
       "      <td>0.186039</td>\n",
       "      <td>0.007781</td>\n",
       "      <td>brute</td>\n",
       "      <td>100</td>\n",
       "      <td>distance</td>\n",
       "      <td>{'algorithm': 'brute', 'n_neighbors': 100, 'we...</td>\n",
       "      <td>0.729209</td>\n",
       "      <td>0.729209</td>\n",
       "      <td>0.728195</td>\n",
       "      <td>0.728195</td>\n",
       "      <td>0.728195</td>\n",
       "      <td>0.728600</td>\n",
       "      <td>0.000497</td>\n",
       "      <td>69</td>\n",
       "    </tr>\n",
       "  </tbody>\n",
       "</table>\n",
       "<p>200 rows × 16 columns</p>\n",
       "</div>"
      ],
      "text/plain": [
       "     mean_fit_time  std_fit_time  mean_score_time  std_score_time  \\\n",
       "0         0.001799      0.003598         0.233830        0.024295   \n",
       "1         0.013903      0.003447         0.176105        0.011344   \n",
       "2         0.003126      0.006253         0.224997        0.007655   \n",
       "3         0.000000      0.000000         0.187500        0.000001   \n",
       "4         0.006252      0.007657         0.221871        0.006251   \n",
       "..             ...           ...              ...             ...   \n",
       "195       0.009376      0.007656         0.203124        0.000003   \n",
       "196       0.001603      0.003205         0.253464        0.018100   \n",
       "197       0.006251      0.007656         0.196874        0.007651   \n",
       "198       0.003126      0.006251         0.237497        0.011693   \n",
       "199       0.006250      0.007655         0.186039        0.007781   \n",
       "\n",
       "    param_algorithm param_n_neighbors param_weights  \\\n",
       "0              auto                10       uniform   \n",
       "1              auto                10      distance   \n",
       "2              auto                13       uniform   \n",
       "3              auto                13      distance   \n",
       "4              auto                17       uniform   \n",
       "..              ...               ...           ...   \n",
       "195           brute                92      distance   \n",
       "196           brute                96       uniform   \n",
       "197           brute                96      distance   \n",
       "198           brute               100       uniform   \n",
       "199           brute               100      distance   \n",
       "\n",
       "                                                params  split0_test_score  \\\n",
       "0    {'algorithm': 'auto', 'n_neighbors': 10, 'weig...           0.720081   \n",
       "1    {'algorithm': 'auto', 'n_neighbors': 10, 'weig...           0.716024   \n",
       "2    {'algorithm': 'auto', 'n_neighbors': 13, 'weig...           0.720081   \n",
       "3    {'algorithm': 'auto', 'n_neighbors': 13, 'weig...           0.720081   \n",
       "4    {'algorithm': 'auto', 'n_neighbors': 17, 'weig...           0.722110   \n",
       "..                                                 ...                ...   \n",
       "195  {'algorithm': 'brute', 'n_neighbors': 92, 'wei...           0.730223   \n",
       "196  {'algorithm': 'brute', 'n_neighbors': 96, 'wei...           0.728195   \n",
       "197  {'algorithm': 'brute', 'n_neighbors': 96, 'wei...           0.730223   \n",
       "198  {'algorithm': 'brute', 'n_neighbors': 100, 'we...           0.728195   \n",
       "199  {'algorithm': 'brute', 'n_neighbors': 100, 'we...           0.729209   \n",
       "\n",
       "     split1_test_score  split2_test_score  split3_test_score  \\\n",
       "0             0.708925           0.721095           0.717039   \n",
       "1             0.703854           0.697769           0.706897   \n",
       "2             0.701826           0.717039           0.723124   \n",
       "3             0.708925           0.705882           0.715010   \n",
       "4             0.716024           0.726166           0.726166   \n",
       "..                 ...                ...                ...   \n",
       "195           0.729209           0.728195           0.728195   \n",
       "196           0.728195           0.728195           0.728195   \n",
       "197           0.729209           0.728195           0.728195   \n",
       "198           0.728195           0.728195           0.728195   \n",
       "199           0.729209           0.728195           0.728195   \n",
       "\n",
       "     split4_test_score  mean_test_score  std_test_score  rank_test_score  \n",
       "0             0.712982         0.716024        0.004536              185  \n",
       "1             0.690669         0.703043        0.008543              197  \n",
       "2             0.702840         0.712982        0.008911              189  \n",
       "3             0.701826         0.710345        0.006497              193  \n",
       "4             0.720081         0.722110        0.003849              177  \n",
       "..                 ...              ...             ...              ...  \n",
       "195           0.728195         0.728803        0.000811               49  \n",
       "196           0.727181         0.727992        0.000406               81  \n",
       "197           0.728195         0.728803        0.000811               49  \n",
       "198           0.727181         0.727992        0.000406               81  \n",
       "199           0.728195         0.728600        0.000497               69  \n",
       "\n",
       "[200 rows x 16 columns]"
      ]
     },
     "execution_count": 89,
     "metadata": {},
     "output_type": "execute_result"
    }
   ],
   "source": [
    "result2 = pd.DataFrame(gscv.cv_results_)\n",
    "result2"
   ]
  },
  {
   "cell_type": "code",
   "execution_count": 90,
   "id": "6ecc854e",
   "metadata": {},
   "outputs": [
    {
     "data": {
      "text/plain": [
       "0.7302231237322516"
      ]
     },
     "execution_count": 90,
     "metadata": {},
     "output_type": "execute_result"
    }
   ],
   "source": [
    "gscv.best_score_"
   ]
  },
  {
   "cell_type": "code",
   "execution_count": 91,
   "id": "025410d2",
   "metadata": {},
   "outputs": [
    {
     "data": {
      "text/plain": [
       "KNeighborsClassifier(n_neighbors=51, weights='distance')"
      ]
     },
     "execution_count": 91,
     "metadata": {},
     "output_type": "execute_result"
    }
   ],
   "source": [
    "gscv.best_estimator_"
   ]
  },
  {
   "cell_type": "code",
   "execution_count": 92,
   "id": "ac975e2b",
   "metadata": {},
   "outputs": [],
   "source": [
    "KNC_Rscv_Tuning = KNeighborsClassifier(n_neighbors=43, weights='distance')\n",
    "\n",
    "KNC_Gscv_Tuning = KNeighborsClassifier(n_neighbors=51, weights='distance')"
   ]
  },
  {
   "cell_type": "code",
   "execution_count": 93,
   "id": "05dcd925",
   "metadata": {},
   "outputs": [
    {
     "data": {
      "text/plain": [
       "0.7150095984263596"
      ]
     },
     "execution_count": 93,
     "metadata": {},
     "output_type": "execute_result"
    }
   ],
   "source": [
    "CombineSampleingDataset_Sf_kfold_result_Rscv_Tuning = cross_val_score(KNC_Rscv_Tuning,combine_x,combine_y,cv = Stf_Kfold)\n",
    "\n",
    "CombineSampleingDataset_Sf_kfold_result_Rscv_Tuning.mean()"
   ]
  },
  {
   "cell_type": "code",
   "execution_count": 94,
   "id": "3a7d441e",
   "metadata": {},
   "outputs": [
    {
     "data": {
      "text/plain": [
       "0.7109994344033235"
      ]
     },
     "execution_count": 94,
     "metadata": {},
     "output_type": "execute_result"
    }
   ],
   "source": [
    "CombineSampleingDataset_Sf_kfold_result_Gscv_Tuning = cross_val_score(KNC_Gscv_Tuning,combine_x,combine_y,cv = Stf_Kfold)\n",
    "\n",
    "CombineSampleingDataset_Sf_kfold_result_Gscv_Tuning.mean()"
   ]
  },
  {
   "cell_type": "code",
   "execution_count": 95,
   "id": "4d6c8646",
   "metadata": {},
   "outputs": [
    {
     "data": {
      "text/plain": [
       "0.713533140343203"
      ]
     },
     "execution_count": 95,
     "metadata": {},
     "output_type": "execute_result"
    }
   ],
   "source": [
    "CombineSampleingDataset_Sf_kfold_accuracy"
   ]
  },
  {
   "cell_type": "code",
   "execution_count": null,
   "id": "8be43355",
   "metadata": {},
   "outputs": [],
   "source": []
  }
 ],
 "metadata": {
  "kernelspec": {
   "display_name": "Python 3 (ipykernel)",
   "language": "python",
   "name": "python3"
  },
  "language_info": {
   "codemirror_mode": {
    "name": "ipython",
    "version": 3
   },
   "file_extension": ".py",
   "mimetype": "text/x-python",
   "name": "python",
   "nbconvert_exporter": "python",
   "pygments_lexer": "ipython3",
   "version": "3.9.7"
  }
 },
 "nbformat": 4,
 "nbformat_minor": 5
}

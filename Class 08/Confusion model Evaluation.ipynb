{
 "cells": [
  {
   "cell_type": "code",
   "execution_count": 1,
   "id": "5d87a566",
   "metadata": {},
   "outputs": [],
   "source": [
    "import pandas as pd\n",
    "import numpy as np\n",
    "import seaborn as sns\n",
    "import matplotlib.pyplot as plt"
   ]
  },
  {
   "cell_type": "code",
   "execution_count": 2,
   "id": "37412e01",
   "metadata": {},
   "outputs": [],
   "source": [
    "df=pd.read_csv('heart failure.csv')   #UCI ML"
   ]
  },
  {
   "cell_type": "code",
   "execution_count": 3,
   "id": "0f1f7f7f",
   "metadata": {},
   "outputs": [
    {
     "data": {
      "text/html": [
       "<div>\n",
       "<style scoped>\n",
       "    .dataframe tbody tr th:only-of-type {\n",
       "        vertical-align: middle;\n",
       "    }\n",
       "\n",
       "    .dataframe tbody tr th {\n",
       "        vertical-align: top;\n",
       "    }\n",
       "\n",
       "    .dataframe thead th {\n",
       "        text-align: right;\n",
       "    }\n",
       "</style>\n",
       "<table border=\"1\" class=\"dataframe\">\n",
       "  <thead>\n",
       "    <tr style=\"text-align: right;\">\n",
       "      <th></th>\n",
       "      <th>age</th>\n",
       "      <th>anaemia</th>\n",
       "      <th>creatinine_phosphokinase</th>\n",
       "      <th>diabetes</th>\n",
       "      <th>ejection_fraction</th>\n",
       "      <th>high_blood_pressure</th>\n",
       "      <th>platelets</th>\n",
       "      <th>serum_creatinine</th>\n",
       "      <th>serum_sodium</th>\n",
       "      <th>sex</th>\n",
       "      <th>smoking</th>\n",
       "      <th>time</th>\n",
       "      <th>DEATH_EVENT</th>\n",
       "    </tr>\n",
       "  </thead>\n",
       "  <tbody>\n",
       "    <tr>\n",
       "      <th>0</th>\n",
       "      <td>75.0</td>\n",
       "      <td>0</td>\n",
       "      <td>582</td>\n",
       "      <td>0</td>\n",
       "      <td>20</td>\n",
       "      <td>1</td>\n",
       "      <td>265000.00</td>\n",
       "      <td>1.9</td>\n",
       "      <td>130</td>\n",
       "      <td>1</td>\n",
       "      <td>0</td>\n",
       "      <td>4</td>\n",
       "      <td>1</td>\n",
       "    </tr>\n",
       "    <tr>\n",
       "      <th>1</th>\n",
       "      <td>55.0</td>\n",
       "      <td>0</td>\n",
       "      <td>7861</td>\n",
       "      <td>0</td>\n",
       "      <td>38</td>\n",
       "      <td>0</td>\n",
       "      <td>263358.03</td>\n",
       "      <td>1.1</td>\n",
       "      <td>136</td>\n",
       "      <td>1</td>\n",
       "      <td>0</td>\n",
       "      <td>6</td>\n",
       "      <td>1</td>\n",
       "    </tr>\n",
       "    <tr>\n",
       "      <th>2</th>\n",
       "      <td>65.0</td>\n",
       "      <td>0</td>\n",
       "      <td>146</td>\n",
       "      <td>0</td>\n",
       "      <td>20</td>\n",
       "      <td>0</td>\n",
       "      <td>162000.00</td>\n",
       "      <td>1.3</td>\n",
       "      <td>129</td>\n",
       "      <td>1</td>\n",
       "      <td>1</td>\n",
       "      <td>7</td>\n",
       "      <td>1</td>\n",
       "    </tr>\n",
       "    <tr>\n",
       "      <th>3</th>\n",
       "      <td>50.0</td>\n",
       "      <td>1</td>\n",
       "      <td>111</td>\n",
       "      <td>0</td>\n",
       "      <td>20</td>\n",
       "      <td>0</td>\n",
       "      <td>210000.00</td>\n",
       "      <td>1.9</td>\n",
       "      <td>137</td>\n",
       "      <td>1</td>\n",
       "      <td>0</td>\n",
       "      <td>7</td>\n",
       "      <td>1</td>\n",
       "    </tr>\n",
       "    <tr>\n",
       "      <th>4</th>\n",
       "      <td>65.0</td>\n",
       "      <td>1</td>\n",
       "      <td>160</td>\n",
       "      <td>1</td>\n",
       "      <td>20</td>\n",
       "      <td>0</td>\n",
       "      <td>327000.00</td>\n",
       "      <td>2.7</td>\n",
       "      <td>116</td>\n",
       "      <td>0</td>\n",
       "      <td>0</td>\n",
       "      <td>8</td>\n",
       "      <td>1</td>\n",
       "    </tr>\n",
       "    <tr>\n",
       "      <th>...</th>\n",
       "      <td>...</td>\n",
       "      <td>...</td>\n",
       "      <td>...</td>\n",
       "      <td>...</td>\n",
       "      <td>...</td>\n",
       "      <td>...</td>\n",
       "      <td>...</td>\n",
       "      <td>...</td>\n",
       "      <td>...</td>\n",
       "      <td>...</td>\n",
       "      <td>...</td>\n",
       "      <td>...</td>\n",
       "      <td>...</td>\n",
       "    </tr>\n",
       "    <tr>\n",
       "      <th>294</th>\n",
       "      <td>62.0</td>\n",
       "      <td>0</td>\n",
       "      <td>61</td>\n",
       "      <td>1</td>\n",
       "      <td>38</td>\n",
       "      <td>1</td>\n",
       "      <td>155000.00</td>\n",
       "      <td>1.1</td>\n",
       "      <td>143</td>\n",
       "      <td>1</td>\n",
       "      <td>1</td>\n",
       "      <td>270</td>\n",
       "      <td>0</td>\n",
       "    </tr>\n",
       "    <tr>\n",
       "      <th>295</th>\n",
       "      <td>55.0</td>\n",
       "      <td>0</td>\n",
       "      <td>1820</td>\n",
       "      <td>0</td>\n",
       "      <td>38</td>\n",
       "      <td>0</td>\n",
       "      <td>270000.00</td>\n",
       "      <td>1.2</td>\n",
       "      <td>139</td>\n",
       "      <td>0</td>\n",
       "      <td>0</td>\n",
       "      <td>271</td>\n",
       "      <td>0</td>\n",
       "    </tr>\n",
       "    <tr>\n",
       "      <th>296</th>\n",
       "      <td>45.0</td>\n",
       "      <td>0</td>\n",
       "      <td>2060</td>\n",
       "      <td>1</td>\n",
       "      <td>60</td>\n",
       "      <td>0</td>\n",
       "      <td>742000.00</td>\n",
       "      <td>0.8</td>\n",
       "      <td>138</td>\n",
       "      <td>0</td>\n",
       "      <td>0</td>\n",
       "      <td>278</td>\n",
       "      <td>0</td>\n",
       "    </tr>\n",
       "    <tr>\n",
       "      <th>297</th>\n",
       "      <td>45.0</td>\n",
       "      <td>0</td>\n",
       "      <td>2413</td>\n",
       "      <td>0</td>\n",
       "      <td>38</td>\n",
       "      <td>0</td>\n",
       "      <td>140000.00</td>\n",
       "      <td>1.4</td>\n",
       "      <td>140</td>\n",
       "      <td>1</td>\n",
       "      <td>1</td>\n",
       "      <td>280</td>\n",
       "      <td>0</td>\n",
       "    </tr>\n",
       "    <tr>\n",
       "      <th>298</th>\n",
       "      <td>50.0</td>\n",
       "      <td>0</td>\n",
       "      <td>196</td>\n",
       "      <td>0</td>\n",
       "      <td>45</td>\n",
       "      <td>0</td>\n",
       "      <td>395000.00</td>\n",
       "      <td>1.6</td>\n",
       "      <td>136</td>\n",
       "      <td>1</td>\n",
       "      <td>1</td>\n",
       "      <td>285</td>\n",
       "      <td>0</td>\n",
       "    </tr>\n",
       "  </tbody>\n",
       "</table>\n",
       "<p>299 rows × 13 columns</p>\n",
       "</div>"
      ],
      "text/plain": [
       "      age  anaemia  creatinine_phosphokinase  diabetes  ejection_fraction  \\\n",
       "0    75.0        0                       582         0                 20   \n",
       "1    55.0        0                      7861         0                 38   \n",
       "2    65.0        0                       146         0                 20   \n",
       "3    50.0        1                       111         0                 20   \n",
       "4    65.0        1                       160         1                 20   \n",
       "..    ...      ...                       ...       ...                ...   \n",
       "294  62.0        0                        61         1                 38   \n",
       "295  55.0        0                      1820         0                 38   \n",
       "296  45.0        0                      2060         1                 60   \n",
       "297  45.0        0                      2413         0                 38   \n",
       "298  50.0        0                       196         0                 45   \n",
       "\n",
       "     high_blood_pressure  platelets  serum_creatinine  serum_sodium  sex  \\\n",
       "0                      1  265000.00               1.9           130    1   \n",
       "1                      0  263358.03               1.1           136    1   \n",
       "2                      0  162000.00               1.3           129    1   \n",
       "3                      0  210000.00               1.9           137    1   \n",
       "4                      0  327000.00               2.7           116    0   \n",
       "..                   ...        ...               ...           ...  ...   \n",
       "294                    1  155000.00               1.1           143    1   \n",
       "295                    0  270000.00               1.2           139    0   \n",
       "296                    0  742000.00               0.8           138    0   \n",
       "297                    0  140000.00               1.4           140    1   \n",
       "298                    0  395000.00               1.6           136    1   \n",
       "\n",
       "     smoking  time  DEATH_EVENT  \n",
       "0          0     4            1  \n",
       "1          0     6            1  \n",
       "2          1     7            1  \n",
       "3          0     7            1  \n",
       "4          0     8            1  \n",
       "..       ...   ...          ...  \n",
       "294        1   270            0  \n",
       "295        0   271            0  \n",
       "296        0   278            0  \n",
       "297        1   280            0  \n",
       "298        1   285            0  \n",
       "\n",
       "[299 rows x 13 columns]"
      ]
     },
     "execution_count": 3,
     "metadata": {},
     "output_type": "execute_result"
    }
   ],
   "source": [
    "df"
   ]
  },
  {
   "cell_type": "code",
   "execution_count": 4,
   "id": "f1bbea8e",
   "metadata": {},
   "outputs": [
    {
     "data": {
      "text/html": [
       "<div>\n",
       "<style scoped>\n",
       "    .dataframe tbody tr th:only-of-type {\n",
       "        vertical-align: middle;\n",
       "    }\n",
       "\n",
       "    .dataframe tbody tr th {\n",
       "        vertical-align: top;\n",
       "    }\n",
       "\n",
       "    .dataframe thead th {\n",
       "        text-align: right;\n",
       "    }\n",
       "</style>\n",
       "<table border=\"1\" class=\"dataframe\">\n",
       "  <thead>\n",
       "    <tr style=\"text-align: right;\">\n",
       "      <th></th>\n",
       "      <th>age</th>\n",
       "      <th>anaemia</th>\n",
       "      <th>creatinine_phosphokinase</th>\n",
       "      <th>diabetes</th>\n",
       "      <th>ejection_fraction</th>\n",
       "      <th>high_blood_pressure</th>\n",
       "      <th>platelets</th>\n",
       "      <th>serum_creatinine</th>\n",
       "      <th>serum_sodium</th>\n",
       "      <th>sex</th>\n",
       "      <th>smoking</th>\n",
       "      <th>time</th>\n",
       "      <th>DEATH_EVENT</th>\n",
       "    </tr>\n",
       "  </thead>\n",
       "  <tbody>\n",
       "    <tr>\n",
       "      <th>0</th>\n",
       "      <td>75.0</td>\n",
       "      <td>0</td>\n",
       "      <td>582</td>\n",
       "      <td>0</td>\n",
       "      <td>20</td>\n",
       "      <td>1</td>\n",
       "      <td>265000.00</td>\n",
       "      <td>1.9</td>\n",
       "      <td>130</td>\n",
       "      <td>1</td>\n",
       "      <td>0</td>\n",
       "      <td>4</td>\n",
       "      <td>1</td>\n",
       "    </tr>\n",
       "    <tr>\n",
       "      <th>1</th>\n",
       "      <td>55.0</td>\n",
       "      <td>0</td>\n",
       "      <td>7861</td>\n",
       "      <td>0</td>\n",
       "      <td>38</td>\n",
       "      <td>0</td>\n",
       "      <td>263358.03</td>\n",
       "      <td>1.1</td>\n",
       "      <td>136</td>\n",
       "      <td>1</td>\n",
       "      <td>0</td>\n",
       "      <td>6</td>\n",
       "      <td>1</td>\n",
       "    </tr>\n",
       "    <tr>\n",
       "      <th>2</th>\n",
       "      <td>65.0</td>\n",
       "      <td>0</td>\n",
       "      <td>146</td>\n",
       "      <td>0</td>\n",
       "      <td>20</td>\n",
       "      <td>0</td>\n",
       "      <td>162000.00</td>\n",
       "      <td>1.3</td>\n",
       "      <td>129</td>\n",
       "      <td>1</td>\n",
       "      <td>1</td>\n",
       "      <td>7</td>\n",
       "      <td>1</td>\n",
       "    </tr>\n",
       "    <tr>\n",
       "      <th>3</th>\n",
       "      <td>50.0</td>\n",
       "      <td>1</td>\n",
       "      <td>111</td>\n",
       "      <td>0</td>\n",
       "      <td>20</td>\n",
       "      <td>0</td>\n",
       "      <td>210000.00</td>\n",
       "      <td>1.9</td>\n",
       "      <td>137</td>\n",
       "      <td>1</td>\n",
       "      <td>0</td>\n",
       "      <td>7</td>\n",
       "      <td>1</td>\n",
       "    </tr>\n",
       "    <tr>\n",
       "      <th>4</th>\n",
       "      <td>65.0</td>\n",
       "      <td>1</td>\n",
       "      <td>160</td>\n",
       "      <td>1</td>\n",
       "      <td>20</td>\n",
       "      <td>0</td>\n",
       "      <td>327000.00</td>\n",
       "      <td>2.7</td>\n",
       "      <td>116</td>\n",
       "      <td>0</td>\n",
       "      <td>0</td>\n",
       "      <td>8</td>\n",
       "      <td>1</td>\n",
       "    </tr>\n",
       "  </tbody>\n",
       "</table>\n",
       "</div>"
      ],
      "text/plain": [
       "    age  anaemia  creatinine_phosphokinase  diabetes  ejection_fraction  \\\n",
       "0  75.0        0                       582         0                 20   \n",
       "1  55.0        0                      7861         0                 38   \n",
       "2  65.0        0                       146         0                 20   \n",
       "3  50.0        1                       111         0                 20   \n",
       "4  65.0        1                       160         1                 20   \n",
       "\n",
       "   high_blood_pressure  platelets  serum_creatinine  serum_sodium  sex  \\\n",
       "0                    1  265000.00               1.9           130    1   \n",
       "1                    0  263358.03               1.1           136    1   \n",
       "2                    0  162000.00               1.3           129    1   \n",
       "3                    0  210000.00               1.9           137    1   \n",
       "4                    0  327000.00               2.7           116    0   \n",
       "\n",
       "   smoking  time  DEATH_EVENT  \n",
       "0        0     4            1  \n",
       "1        0     6            1  \n",
       "2        1     7            1  \n",
       "3        0     7            1  \n",
       "4        0     8            1  "
      ]
     },
     "execution_count": 4,
     "metadata": {},
     "output_type": "execute_result"
    }
   ],
   "source": [
    "df.head()"
   ]
  },
  {
   "cell_type": "code",
   "execution_count": 5,
   "id": "630dd9ce",
   "metadata": {},
   "outputs": [
    {
     "name": "stdout",
     "output_type": "stream",
     "text": [
      "<class 'pandas.core.frame.DataFrame'>\n",
      "RangeIndex: 299 entries, 0 to 298\n",
      "Data columns (total 13 columns):\n",
      " #   Column                    Non-Null Count  Dtype  \n",
      "---  ------                    --------------  -----  \n",
      " 0   age                       299 non-null    float64\n",
      " 1   anaemia                   299 non-null    int64  \n",
      " 2   creatinine_phosphokinase  299 non-null    int64  \n",
      " 3   diabetes                  299 non-null    int64  \n",
      " 4   ejection_fraction         299 non-null    int64  \n",
      " 5   high_blood_pressure       299 non-null    int64  \n",
      " 6   platelets                 299 non-null    float64\n",
      " 7   serum_creatinine          299 non-null    float64\n",
      " 8   serum_sodium              299 non-null    int64  \n",
      " 9   sex                       299 non-null    int64  \n",
      " 10  smoking                   299 non-null    int64  \n",
      " 11  time                      299 non-null    int64  \n",
      " 12  DEATH_EVENT               299 non-null    int64  \n",
      "dtypes: float64(3), int64(10)\n",
      "memory usage: 30.5 KB\n"
     ]
    }
   ],
   "source": [
    "df.info()"
   ]
  },
  {
   "cell_type": "code",
   "execution_count": 6,
   "id": "da74254d",
   "metadata": {},
   "outputs": [
    {
     "data": {
      "text/html": [
       "<div>\n",
       "<style scoped>\n",
       "    .dataframe tbody tr th:only-of-type {\n",
       "        vertical-align: middle;\n",
       "    }\n",
       "\n",
       "    .dataframe tbody tr th {\n",
       "        vertical-align: top;\n",
       "    }\n",
       "\n",
       "    .dataframe thead th {\n",
       "        text-align: right;\n",
       "    }\n",
       "</style>\n",
       "<table border=\"1\" class=\"dataframe\">\n",
       "  <thead>\n",
       "    <tr style=\"text-align: right;\">\n",
       "      <th></th>\n",
       "      <th>age</th>\n",
       "      <th>anaemia</th>\n",
       "      <th>creatinine_phosphokinase</th>\n",
       "      <th>diabetes</th>\n",
       "      <th>ejection_fraction</th>\n",
       "      <th>high_blood_pressure</th>\n",
       "      <th>platelets</th>\n",
       "      <th>serum_creatinine</th>\n",
       "      <th>serum_sodium</th>\n",
       "      <th>sex</th>\n",
       "      <th>smoking</th>\n",
       "      <th>time</th>\n",
       "      <th>DEATH_EVENT</th>\n",
       "    </tr>\n",
       "  </thead>\n",
       "  <tbody>\n",
       "    <tr>\n",
       "      <th>294</th>\n",
       "      <td>62.0</td>\n",
       "      <td>0</td>\n",
       "      <td>61</td>\n",
       "      <td>1</td>\n",
       "      <td>38</td>\n",
       "      <td>1</td>\n",
       "      <td>155000.0</td>\n",
       "      <td>1.1</td>\n",
       "      <td>143</td>\n",
       "      <td>1</td>\n",
       "      <td>1</td>\n",
       "      <td>270</td>\n",
       "      <td>0</td>\n",
       "    </tr>\n",
       "    <tr>\n",
       "      <th>295</th>\n",
       "      <td>55.0</td>\n",
       "      <td>0</td>\n",
       "      <td>1820</td>\n",
       "      <td>0</td>\n",
       "      <td>38</td>\n",
       "      <td>0</td>\n",
       "      <td>270000.0</td>\n",
       "      <td>1.2</td>\n",
       "      <td>139</td>\n",
       "      <td>0</td>\n",
       "      <td>0</td>\n",
       "      <td>271</td>\n",
       "      <td>0</td>\n",
       "    </tr>\n",
       "    <tr>\n",
       "      <th>296</th>\n",
       "      <td>45.0</td>\n",
       "      <td>0</td>\n",
       "      <td>2060</td>\n",
       "      <td>1</td>\n",
       "      <td>60</td>\n",
       "      <td>0</td>\n",
       "      <td>742000.0</td>\n",
       "      <td>0.8</td>\n",
       "      <td>138</td>\n",
       "      <td>0</td>\n",
       "      <td>0</td>\n",
       "      <td>278</td>\n",
       "      <td>0</td>\n",
       "    </tr>\n",
       "    <tr>\n",
       "      <th>297</th>\n",
       "      <td>45.0</td>\n",
       "      <td>0</td>\n",
       "      <td>2413</td>\n",
       "      <td>0</td>\n",
       "      <td>38</td>\n",
       "      <td>0</td>\n",
       "      <td>140000.0</td>\n",
       "      <td>1.4</td>\n",
       "      <td>140</td>\n",
       "      <td>1</td>\n",
       "      <td>1</td>\n",
       "      <td>280</td>\n",
       "      <td>0</td>\n",
       "    </tr>\n",
       "    <tr>\n",
       "      <th>298</th>\n",
       "      <td>50.0</td>\n",
       "      <td>0</td>\n",
       "      <td>196</td>\n",
       "      <td>0</td>\n",
       "      <td>45</td>\n",
       "      <td>0</td>\n",
       "      <td>395000.0</td>\n",
       "      <td>1.6</td>\n",
       "      <td>136</td>\n",
       "      <td>1</td>\n",
       "      <td>1</td>\n",
       "      <td>285</td>\n",
       "      <td>0</td>\n",
       "    </tr>\n",
       "  </tbody>\n",
       "</table>\n",
       "</div>"
      ],
      "text/plain": [
       "      age  anaemia  creatinine_phosphokinase  diabetes  ejection_fraction  \\\n",
       "294  62.0        0                        61         1                 38   \n",
       "295  55.0        0                      1820         0                 38   \n",
       "296  45.0        0                      2060         1                 60   \n",
       "297  45.0        0                      2413         0                 38   \n",
       "298  50.0        0                       196         0                 45   \n",
       "\n",
       "     high_blood_pressure  platelets  serum_creatinine  serum_sodium  sex  \\\n",
       "294                    1   155000.0               1.1           143    1   \n",
       "295                    0   270000.0               1.2           139    0   \n",
       "296                    0   742000.0               0.8           138    0   \n",
       "297                    0   140000.0               1.4           140    1   \n",
       "298                    0   395000.0               1.6           136    1   \n",
       "\n",
       "     smoking  time  DEATH_EVENT  \n",
       "294        1   270            0  \n",
       "295        0   271            0  \n",
       "296        0   278            0  \n",
       "297        1   280            0  \n",
       "298        1   285            0  "
      ]
     },
     "execution_count": 6,
     "metadata": {},
     "output_type": "execute_result"
    }
   ],
   "source": [
    "df.tail()"
   ]
  },
  {
   "cell_type": "code",
   "execution_count": 7,
   "id": "a60c8615",
   "metadata": {},
   "outputs": [
    {
     "data": {
      "text/plain": [
       "0    203\n",
       "1     96\n",
       "Name: DEATH_EVENT, dtype: int64"
      ]
     },
     "execution_count": 7,
     "metadata": {},
     "output_type": "execute_result"
    }
   ],
   "source": [
    "df.DEATH_EVENT.value_counts()"
   ]
  },
  {
   "cell_type": "code",
   "execution_count": 8,
   "id": "e94a1ff1",
   "metadata": {},
   "outputs": [
    {
     "data": {
      "text/plain": [
       "<AxesSubplot:xlabel='DEATH_EVENT', ylabel='count'>"
      ]
     },
     "execution_count": 8,
     "metadata": {},
     "output_type": "execute_result"
    },
    {
     "data": {
      "image/png": "[encoded data removed]",
      "text/plain": [
       "<Figure size 432x288 with 1 Axes>"
      ]
     },
     "metadata": {
      "needs_background": "light"
     },
     "output_type": "display_data"
    }
   ],
   "source": [
    "sns.countplot(x='DEATH_EVENT',data=df,color='cyan')"
   ]
  },
  {
   "cell_type": "code",
   "execution_count": 9,
   "id": "d3200174",
   "metadata": {},
   "outputs": [
    {
     "data": {
      "text/plain": [
       "<AxesSubplot:xlabel='high_blood_pressure', ylabel='count'>"
      ]
     },
     "execution_count": 9,
     "metadata": {},
     "output_type": "execute_result"
    },
    {
     "data": {
      "image/png": "[encoded data removed]",
      "text/plain": [
       "<Figure size 432x288 with 1 Axes>"
      ]
     },
     "metadata": {
      "needs_background": "light"
     },
     "output_type": "display_data"
    }
   ],
   "source": [
    "sns.countplot(x='high_blood_pressure',data=df,color='blue')"
   ]
  },
  {
   "cell_type": "code",
   "execution_count": 10,
   "id": "4447feda",
   "metadata": {},
   "outputs": [
    {
     "data": {
      "text/plain": [
       "0    194\n",
       "1    105\n",
       "Name: high_blood_pressure, dtype: int64"
      ]
     },
     "execution_count": 10,
     "metadata": {},
     "output_type": "execute_result"
    }
   ],
   "source": [
    "df.high_blood_pressure.value_counts()"
   ]
  },
  {
   "cell_type": "code",
   "execution_count": 11,
   "id": "dbd40198",
   "metadata": {},
   "outputs": [
    {
     "data": {
      "text/plain": [
       "<AxesSubplot:xlabel='high_blood_pressure', ylabel='count'>"
      ]
     },
     "execution_count": 11,
     "metadata": {},
     "output_type": "execute_result"
    },
    {
     "data": {
      "image/png": "[encoded data removed]",
      "text/plain": [
       "<Figure size 432x288 with 1 Axes>"
      ]
     },
     "metadata": {
      "needs_background": "light"
     },
     "output_type": "display_data"
    }
   ],
   "source": [
    "sns.countplot(x='high_blood_pressure',data=df,color='cyan',hue='DEATH_EVENT')"
   ]
  },
  {
   "cell_type": "code",
   "execution_count": 12,
   "id": "6d7a5567",
   "metadata": {},
   "outputs": [
    {
     "data": {
      "text/plain": [
       "<AxesSubplot:xlabel='high_blood_pressure', ylabel='count'>"
      ]
     },
     "execution_count": 12,
     "metadata": {},
     "output_type": "execute_result"
    },
    {
     "data": {
      "image/png": "[encoded data removed]",
      "text/plain": [
       "<Figure size 432x288 with 1 Axes>"
      ]
     },
     "metadata": {
      "needs_background": "light"
     },
     "output_type": "display_data"
    }
   ],
   "source": [
    "sns.countplot(x='high_blood_pressure',data=df,hue='DEATH_EVENT')"
   ]
  },
  {
   "cell_type": "code",
   "execution_count": 13,
   "id": "43d5c6dd",
   "metadata": {},
   "outputs": [
    {
     "data": {
      "text/plain": [
       "<AxesSubplot:xlabel='anaemia', ylabel='count'>"
      ]
     },
     "execution_count": 13,
     "metadata": {},
     "output_type": "execute_result"
    },
    {
     "data": {
      "image/png": "[encoded data removed]",
      "text/plain": [
       "<Figure size 432x288 with 1 Axes>"
      ]
     },
     "metadata": {
      "needs_background": "light"
     },
     "output_type": "display_data"
    }
   ],
   "source": [
    "sns.countplot(x='anaemia',data=df,hue='DEATH_EVENT')"
   ]
  },
  {
   "cell_type": "code",
   "execution_count": 14,
   "id": "700383ba",
   "metadata": {},
   "outputs": [
    {
     "data": {
      "text/plain": [
       "0    170\n",
       "1    129\n",
       "Name: anaemia, dtype: int64"
      ]
     },
     "execution_count": 14,
     "metadata": {},
     "output_type": "execute_result"
    }
   ],
   "source": [
    "df.anaemia.value_counts()"
   ]
  },
  {
   "cell_type": "markdown",
   "id": "2572f409",
   "metadata": {},
   "source": [
    "# Model SElection"
   ]
  },
  {
   "cell_type": "code",
   "execution_count": 15,
   "id": "9e1b7c91",
   "metadata": {},
   "outputs": [],
   "source": [
    "from sklearn.model_selection import train_test_split as tts\n",
    "train,test=tts(df,test_size=.30,random_state=100)"
   ]
  },
  {
   "cell_type": "code",
   "execution_count": 16,
   "id": "07631908",
   "metadata": {},
   "outputs": [
    {
     "data": {
      "text/plain": [
       "(209, 13)"
      ]
     },
     "execution_count": 16,
     "metadata": {},
     "output_type": "execute_result"
    }
   ],
   "source": [
    "train.shape"
   ]
  },
  {
   "cell_type": "code",
   "execution_count": 17,
   "id": "38c2d0b1",
   "metadata": {},
   "outputs": [],
   "source": [
    "x=df.drop('DEATH_EVENT',axis=1)"
   ]
  },
  {
   "cell_type": "code",
   "execution_count": 18,
   "id": "a6ea8c06",
   "metadata": {},
   "outputs": [],
   "source": [
    "y=df.DEATH_EVENT"
   ]
  },
  {
   "cell_type": "code",
   "execution_count": 19,
   "id": "3f8a575b",
   "metadata": {},
   "outputs": [
    {
     "data": {
      "text/html": [
       "<div>\n",
       "<style scoped>\n",
       "    .dataframe tbody tr th:only-of-type {\n",
       "        vertical-align: middle;\n",
       "    }\n",
       "\n",
       "    .dataframe tbody tr th {\n",
       "        vertical-align: top;\n",
       "    }\n",
       "\n",
       "    .dataframe thead th {\n",
       "        text-align: right;\n",
       "    }\n",
       "</style>\n",
       "<table border=\"1\" class=\"dataframe\">\n",
       "  <thead>\n",
       "    <tr style=\"text-align: right;\">\n",
       "      <th></th>\n",
       "      <th>age</th>\n",
       "      <th>anaemia</th>\n",
       "      <th>creatinine_phosphokinase</th>\n",
       "      <th>diabetes</th>\n",
       "      <th>ejection_fraction</th>\n",
       "      <th>high_blood_pressure</th>\n",
       "      <th>platelets</th>\n",
       "      <th>serum_creatinine</th>\n",
       "      <th>serum_sodium</th>\n",
       "      <th>sex</th>\n",
       "      <th>smoking</th>\n",
       "      <th>time</th>\n",
       "    </tr>\n",
       "  </thead>\n",
       "  <tbody>\n",
       "    <tr>\n",
       "      <th>0</th>\n",
       "      <td>75.0</td>\n",
       "      <td>0</td>\n",
       "      <td>582</td>\n",
       "      <td>0</td>\n",
       "      <td>20</td>\n",
       "      <td>1</td>\n",
       "      <td>265000.00</td>\n",
       "      <td>1.9</td>\n",
       "      <td>130</td>\n",
       "      <td>1</td>\n",
       "      <td>0</td>\n",
       "      <td>4</td>\n",
       "    </tr>\n",
       "    <tr>\n",
       "      <th>1</th>\n",
       "      <td>55.0</td>\n",
       "      <td>0</td>\n",
       "      <td>7861</td>\n",
       "      <td>0</td>\n",
       "      <td>38</td>\n",
       "      <td>0</td>\n",
       "      <td>263358.03</td>\n",
       "      <td>1.1</td>\n",
       "      <td>136</td>\n",
       "      <td>1</td>\n",
       "      <td>0</td>\n",
       "      <td>6</td>\n",
       "    </tr>\n",
       "    <tr>\n",
       "      <th>2</th>\n",
       "      <td>65.0</td>\n",
       "      <td>0</td>\n",
       "      <td>146</td>\n",
       "      <td>0</td>\n",
       "      <td>20</td>\n",
       "      <td>0</td>\n",
       "      <td>162000.00</td>\n",
       "      <td>1.3</td>\n",
       "      <td>129</td>\n",
       "      <td>1</td>\n",
       "      <td>1</td>\n",
       "      <td>7</td>\n",
       "    </tr>\n",
       "    <tr>\n",
       "      <th>3</th>\n",
       "      <td>50.0</td>\n",
       "      <td>1</td>\n",
       "      <td>111</td>\n",
       "      <td>0</td>\n",
       "      <td>20</td>\n",
       "      <td>0</td>\n",
       "      <td>210000.00</td>\n",
       "      <td>1.9</td>\n",
       "      <td>137</td>\n",
       "      <td>1</td>\n",
       "      <td>0</td>\n",
       "      <td>7</td>\n",
       "    </tr>\n",
       "    <tr>\n",
       "      <th>4</th>\n",
       "      <td>65.0</td>\n",
       "      <td>1</td>\n",
       "      <td>160</td>\n",
       "      <td>1</td>\n",
       "      <td>20</td>\n",
       "      <td>0</td>\n",
       "      <td>327000.00</td>\n",
       "      <td>2.7</td>\n",
       "      <td>116</td>\n",
       "      <td>0</td>\n",
       "      <td>0</td>\n",
       "      <td>8</td>\n",
       "    </tr>\n",
       "    <tr>\n",
       "      <th>...</th>\n",
       "      <td>...</td>\n",
       "      <td>...</td>\n",
       "      <td>...</td>\n",
       "      <td>...</td>\n",
       "      <td>...</td>\n",
       "      <td>...</td>\n",
       "      <td>...</td>\n",
       "      <td>...</td>\n",
       "      <td>...</td>\n",
       "      <td>...</td>\n",
       "      <td>...</td>\n",
       "      <td>...</td>\n",
       "    </tr>\n",
       "    <tr>\n",
       "      <th>294</th>\n",
       "      <td>62.0</td>\n",
       "      <td>0</td>\n",
       "      <td>61</td>\n",
       "      <td>1</td>\n",
       "      <td>38</td>\n",
       "      <td>1</td>\n",
       "      <td>155000.00</td>\n",
       "      <td>1.1</td>\n",
       "      <td>143</td>\n",
       "      <td>1</td>\n",
       "      <td>1</td>\n",
       "      <td>270</td>\n",
       "    </tr>\n",
       "    <tr>\n",
       "      <th>295</th>\n",
       "      <td>55.0</td>\n",
       "      <td>0</td>\n",
       "      <td>1820</td>\n",
       "      <td>0</td>\n",
       "      <td>38</td>\n",
       "      <td>0</td>\n",
       "      <td>270000.00</td>\n",
       "      <td>1.2</td>\n",
       "      <td>139</td>\n",
       "      <td>0</td>\n",
       "      <td>0</td>\n",
       "      <td>271</td>\n",
       "    </tr>\n",
       "    <tr>\n",
       "      <th>296</th>\n",
       "      <td>45.0</td>\n",
       "      <td>0</td>\n",
       "      <td>2060</td>\n",
       "      <td>1</td>\n",
       "      <td>60</td>\n",
       "      <td>0</td>\n",
       "      <td>742000.00</td>\n",
       "      <td>0.8</td>\n",
       "      <td>138</td>\n",
       "      <td>0</td>\n",
       "      <td>0</td>\n",
       "      <td>278</td>\n",
       "    </tr>\n",
       "    <tr>\n",
       "      <th>297</th>\n",
       "      <td>45.0</td>\n",
       "      <td>0</td>\n",
       "      <td>2413</td>\n",
       "      <td>0</td>\n",
       "      <td>38</td>\n",
       "      <td>0</td>\n",
       "      <td>140000.00</td>\n",
       "      <td>1.4</td>\n",
       "      <td>140</td>\n",
       "      <td>1</td>\n",
       "      <td>1</td>\n",
       "      <td>280</td>\n",
       "    </tr>\n",
       "    <tr>\n",
       "      <th>298</th>\n",
       "      <td>50.0</td>\n",
       "      <td>0</td>\n",
       "      <td>196</td>\n",
       "      <td>0</td>\n",
       "      <td>45</td>\n",
       "      <td>0</td>\n",
       "      <td>395000.00</td>\n",
       "      <td>1.6</td>\n",
       "      <td>136</td>\n",
       "      <td>1</td>\n",
       "      <td>1</td>\n",
       "      <td>285</td>\n",
       "    </tr>\n",
       "  </tbody>\n",
       "</table>\n",
       "<p>299 rows × 12 columns</p>\n",
       "</div>"
      ],
      "text/plain": [
       "      age  anaemia  creatinine_phosphokinase  diabetes  ejection_fraction  \\\n",
       "0    75.0        0                       582         0                 20   \n",
       "1    55.0        0                      7861         0                 38   \n",
       "2    65.0        0                       146         0                 20   \n",
       "3    50.0        1                       111         0                 20   \n",
       "4    65.0        1                       160         1                 20   \n",
       "..    ...      ...                       ...       ...                ...   \n",
       "294  62.0        0                        61         1                 38   \n",
       "295  55.0        0                      1820         0                 38   \n",
       "296  45.0        0                      2060         1                 60   \n",
       "297  45.0        0                      2413         0                 38   \n",
       "298  50.0        0                       196         0                 45   \n",
       "\n",
       "     high_blood_pressure  platelets  serum_creatinine  serum_sodium  sex  \\\n",
       "0                      1  265000.00               1.9           130    1   \n",
       "1                      0  263358.03               1.1           136    1   \n",
       "2                      0  162000.00               1.3           129    1   \n",
       "3                      0  210000.00               1.9           137    1   \n",
       "4                      0  327000.00               2.7           116    0   \n",
       "..                   ...        ...               ...           ...  ...   \n",
       "294                    1  155000.00               1.1           143    1   \n",
       "295                    0  270000.00               1.2           139    0   \n",
       "296                    0  742000.00               0.8           138    0   \n",
       "297                    0  140000.00               1.4           140    1   \n",
       "298                    0  395000.00               1.6           136    1   \n",
       "\n",
       "     smoking  time  \n",
       "0          0     4  \n",
       "1          0     6  \n",
       "2          1     7  \n",
       "3          0     7  \n",
       "4          0     8  \n",
       "..       ...   ...  \n",
       "294        1   270  \n",
       "295        0   271  \n",
       "296        0   278  \n",
       "297        1   280  \n",
       "298        1   285  \n",
       "\n",
       "[299 rows x 12 columns]"
      ]
     },
     "execution_count": 19,
     "metadata": {},
     "output_type": "execute_result"
    }
   ],
   "source": [
    "x"
   ]
  },
  {
   "cell_type": "code",
   "execution_count": 20,
   "id": "bb7641cd",
   "metadata": {},
   "outputs": [
    {
     "data": {
      "text/plain": [
       "0      1\n",
       "1      1\n",
       "2      1\n",
       "3      1\n",
       "4      1\n",
       "      ..\n",
       "294    0\n",
       "295    0\n",
       "296    0\n",
       "297    0\n",
       "298    0\n",
       "Name: DEATH_EVENT, Length: 299, dtype: int64"
      ]
     },
     "execution_count": 20,
     "metadata": {},
     "output_type": "execute_result"
    }
   ],
   "source": [
    "y"
   ]
  },
  {
   "cell_type": "code",
   "execution_count": 21,
   "id": "b2341b8f",
   "metadata": {},
   "outputs": [
    {
     "data": {
      "text/plain": [
       "(299, 12)"
      ]
     },
     "execution_count": 21,
     "metadata": {},
     "output_type": "execute_result"
    }
   ],
   "source": [
    "x.shape"
   ]
  },
  {
   "cell_type": "code",
   "execution_count": 22,
   "id": "81958add",
   "metadata": {},
   "outputs": [
    {
     "data": {
      "text/plain": [
       "(299,)"
      ]
     },
     "execution_count": 22,
     "metadata": {},
     "output_type": "execute_result"
    }
   ],
   "source": [
    "y.shape"
   ]
  },
  {
   "cell_type": "code",
   "execution_count": 23,
   "id": "58d4f3fc",
   "metadata": {},
   "outputs": [],
   "source": [
    "xtrain,xtest,ytrain,ytest=tts(x,y,test_size=.30,random_state=100)"
   ]
  },
  {
   "cell_type": "code",
   "execution_count": 24,
   "id": "c73c5820",
   "metadata": {},
   "outputs": [
    {
     "data": {
      "text/plain": [
       "(299, 12)"
      ]
     },
     "execution_count": 24,
     "metadata": {},
     "output_type": "execute_result"
    }
   ],
   "source": [
    "x.shape"
   ]
  },
  {
   "cell_type": "code",
   "execution_count": 25,
   "id": "dbaa65ac",
   "metadata": {},
   "outputs": [
    {
     "data": {
      "text/plain": [
       "(299,)"
      ]
     },
     "execution_count": 25,
     "metadata": {},
     "output_type": "execute_result"
    }
   ],
   "source": [
    "y.shape"
   ]
  },
  {
   "cell_type": "code",
   "execution_count": 26,
   "id": "2c842ee3",
   "metadata": {},
   "outputs": [
    {
     "data": {
      "text/plain": [
       "(209, 12)"
      ]
     },
     "execution_count": 26,
     "metadata": {},
     "output_type": "execute_result"
    }
   ],
   "source": [
    "xtrain.shape"
   ]
  },
  {
   "cell_type": "code",
   "execution_count": 27,
   "id": "628f0b97",
   "metadata": {},
   "outputs": [
    {
     "data": {
      "text/plain": [
       "(90, 12)"
      ]
     },
     "execution_count": 27,
     "metadata": {},
     "output_type": "execute_result"
    }
   ],
   "source": [
    "xtest.shape"
   ]
  },
  {
   "cell_type": "code",
   "execution_count": 28,
   "id": "8655d3eb",
   "metadata": {},
   "outputs": [
    {
     "data": {
      "text/plain": [
       "(209,)"
      ]
     },
     "execution_count": 28,
     "metadata": {},
     "output_type": "execute_result"
    }
   ],
   "source": [
    "ytrain.shape"
   ]
  },
  {
   "cell_type": "code",
   "execution_count": 29,
   "id": "b6a5231f",
   "metadata": {},
   "outputs": [
    {
     "data": {
      "text/plain": [
       "(90,)"
      ]
     },
     "execution_count": 29,
     "metadata": {},
     "output_type": "execute_result"
    }
   ],
   "source": [
    "ytest.shape"
   ]
  },
  {
   "cell_type": "markdown",
   "id": "89f5a2de",
   "metadata": {},
   "source": [
    "# Decision TREE"
   ]
  },
  {
   "cell_type": "code",
   "execution_count": 30,
   "id": "6929ece1",
   "metadata": {},
   "outputs": [],
   "source": [
    "from sklearn.tree import DecisionTreeClassifier\n",
    "clf=DecisionTreeClassifier()"
   ]
  },
  {
   "cell_type": "code",
   "execution_count": 31,
   "id": "feab65c0",
   "metadata": {},
   "outputs": [
    {
     "data": {
      "text/plain": [
       "DecisionTreeClassifier()"
      ]
     },
     "execution_count": 31,
     "metadata": {},
     "output_type": "execute_result"
    }
   ],
   "source": [
    "clf.fit(xtrain,ytrain)"
   ]
  },
  {
   "cell_type": "markdown",
   "id": "c6c635b3",
   "metadata": {},
   "source": [
    "# MODEL EVALUATION"
   ]
  },
  {
   "cell_type": "code",
   "execution_count": 32,
   "id": "b9f9c660",
   "metadata": {},
   "outputs": [],
   "source": [
    "pred_y=clf.predict(xtest)###predicted y"
   ]
  },
  {
   "cell_type": "code",
   "execution_count": 33,
   "id": "9b6724ba",
   "metadata": {},
   "outputs": [
    {
     "data": {
      "text/plain": [
       "array([0, 0, 0, 0, 1, 1, 0, 0, 0, 0, 0, 1, 0, 0, 0, 1, 1, 0, 0, 0, 0, 0,\n",
       "       1, 0, 0, 0, 1, 0, 0, 0, 0, 0, 1, 0, 0, 0, 0, 0, 1, 0, 1, 0, 1, 0,\n",
       "       0, 0, 0, 1, 0, 0, 1, 1, 0, 0, 0, 0, 1, 1, 0, 0, 0, 0, 1, 1, 0, 0,\n",
       "       0, 0, 0, 1, 0, 1, 0, 0, 0, 0, 0, 0, 0, 1, 0, 0, 0, 0, 0, 0, 1, 0,\n",
       "       0, 1], dtype=int64)"
      ]
     },
     "execution_count": 33,
     "metadata": {},
     "output_type": "execute_result"
    }
   ],
   "source": [
    "pred_y"
   ]
  },
  {
   "cell_type": "code",
   "execution_count": 34,
   "id": "e2b49b18",
   "metadata": {},
   "outputs": [
    {
     "data": {
      "text/plain": [
       "array([0, 0, 0, 0, 1, 0, 0, 0, 1, 0, 0, 1, 0, 0, 0, 1, 0, 1, 1, 0, 0, 1,\n",
       "       1, 0, 0, 1, 1, 0, 0, 0, 0, 0, 1, 1, 0, 0, 0, 1, 1, 0, 1, 0, 0, 1,\n",
       "       0, 0, 1, 1, 0, 0, 0, 0, 1, 0, 0, 0, 0, 1, 0, 1, 0, 0, 1, 1, 0, 0,\n",
       "       0, 0, 0, 1, 0, 1, 0, 0, 0, 0, 0, 0, 0, 1, 0, 0, 1, 1, 0, 0, 1, 1,\n",
       "       0, 1], dtype=int64)"
      ]
     },
     "execution_count": 34,
     "metadata": {},
     "output_type": "execute_result"
    }
   ],
   "source": [
    "np.array(ytest) #### actual class  / y"
   ]
  },
  {
   "cell_type": "markdown",
   "id": "e7ec1c17",
   "metadata": {},
   "source": [
    "# Calculate accuracy"
   ]
  },
  {
   "cell_type": "code",
   "execution_count": 35,
   "id": "6add8935",
   "metadata": {},
   "outputs": [],
   "source": [
    "from sklearn.metrics import classification_report,accuracy_score,confusion_matrix,plot_roc_curve"
   ]
  },
  {
   "cell_type": "code",
   "execution_count": 36,
   "id": "c5b88b74",
   "metadata": {},
   "outputs": [
    {
     "data": {
      "text/plain": [
       "'              precision    recall  f1-score   support\\n\\n           0       0.79      0.90      0.84        59\\n           1       0.74      0.55      0.63        31\\n\\n    accuracy                           0.78        90\\n   macro avg       0.77      0.72      0.74        90\\nweighted avg       0.77      0.78      0.77        90\\n'"
      ]
     },
     "execution_count": 36,
     "metadata": {},
     "output_type": "execute_result"
    }
   ],
   "source": [
    "classification_report(ytest,pred_y)"
   ]
  },
  {
   "cell_type": "code",
   "execution_count": 37,
   "id": "6bb176d1",
   "metadata": {},
   "outputs": [
    {
     "name": "stdout",
     "output_type": "stream",
     "text": [
      "              precision    recall  f1-score   support\n",
      "\n",
      "           0       0.79      0.90      0.84        59\n",
      "           1       0.74      0.55      0.63        31\n",
      "\n",
      "    accuracy                           0.78        90\n",
      "   macro avg       0.77      0.72      0.74        90\n",
      "weighted avg       0.77      0.78      0.77        90\n",
      "\n"
     ]
    }
   ],
   "source": [
    "print(classification_report(ytest,pred_y))"
   ]
  },
  {
   "cell_type": "code",
   "execution_count": 38,
   "id": "93663526",
   "metadata": {},
   "outputs": [],
   "source": [
    "cm=confusion_matrix(ytest,pred_y)"
   ]
  },
  {
   "cell_type": "code",
   "execution_count": 39,
   "id": "848697ad",
   "metadata": {},
   "outputs": [
    {
     "data": {
      "text/plain": [
       "array([[53,  6],\n",
       "       [14, 17]], dtype=int64)"
      ]
     },
     "execution_count": 39,
     "metadata": {},
     "output_type": "execute_result"
    }
   ],
   "source": [
    "cm"
   ]
  },
  {
   "cell_type": "markdown",
   "id": "6cfe953f",
   "metadata": {},
   "source": [
    "# VISUALIZATION"
   ]
  },
  {
   "cell_type": "code",
   "execution_count": 40,
   "id": "4826f77a",
   "metadata": {},
   "outputs": [
    {
     "data": {
      "text/plain": [
       "Text(33.0, 0.5, 'Actual Value')"
      ]
     },
     "execution_count": 40,
     "metadata": {},
     "output_type": "execute_result"
    },
    {
     "data": {
      "image/png": "[encoded data removed]",
      "text/plain": [
       "<Figure size 432x288 with 2 Axes>"
      ]
     },
     "metadata": {
      "needs_background": "light"
     },
     "output_type": "display_data"
    }
   ],
   "source": [
    "sns.heatmap(cm,annot=True)\n",
    "plt.xlabel('Predicted Value')\n",
    "plt.ylabel('Actual Value')"
   ]
  },
  {
   "cell_type": "code",
   "execution_count": 41,
   "id": "77e33bfd",
   "metadata": {},
   "outputs": [],
   "source": [
    "tp,fn,fp,tn=confusion_matrix(ytest,pred_y).reshape(-1)"
   ]
  },
  {
   "cell_type": "code",
   "execution_count": 42,
   "id": "42cebdd5",
   "metadata": {},
   "outputs": [
    {
     "data": {
      "text/plain": [
       "53"
      ]
     },
     "execution_count": 42,
     "metadata": {},
     "output_type": "execute_result"
    }
   ],
   "source": [
    "tp"
   ]
  },
  {
   "cell_type": "code",
   "execution_count": 43,
   "id": "3ca7c216",
   "metadata": {},
   "outputs": [
    {
     "data": {
      "text/plain": [
       "6"
      ]
     },
     "execution_count": 43,
     "metadata": {},
     "output_type": "execute_result"
    }
   ],
   "source": [
    "fn"
   ]
  },
  {
   "cell_type": "code",
   "execution_count": 44,
   "id": "799b2cab",
   "metadata": {},
   "outputs": [
    {
     "data": {
      "text/plain": [
       "14"
      ]
     },
     "execution_count": 44,
     "metadata": {},
     "output_type": "execute_result"
    }
   ],
   "source": [
    "fp"
   ]
  },
  {
   "cell_type": "code",
   "execution_count": 45,
   "id": "193aa7b4",
   "metadata": {},
   "outputs": [
    {
     "data": {
      "text/plain": [
       "17"
      ]
     },
     "execution_count": 45,
     "metadata": {},
     "output_type": "execute_result"
    }
   ],
   "source": [
    "tn"
   ]
  },
  {
   "cell_type": "code",
   "execution_count": 46,
   "id": "bec24afe",
   "metadata": {},
   "outputs": [
    {
     "data": {
      "text/plain": [
       "70"
      ]
     },
     "execution_count": 46,
     "metadata": {},
     "output_type": "execute_result"
    }
   ],
   "source": [
    "tp+tn"
   ]
  },
  {
   "cell_type": "code",
   "execution_count": 47,
   "id": "ae86ec9f",
   "metadata": {},
   "outputs": [
    {
     "data": {
      "text/plain": [
       "0.7777777777777778"
      ]
     },
     "execution_count": 47,
     "metadata": {},
     "output_type": "execute_result"
    }
   ],
   "source": [
    "(tp+tn)/(tp+fn+fp+tn)"
   ]
  },
  {
   "cell_type": "code",
   "execution_count": 48,
   "id": "cbbf0e4c",
   "metadata": {},
   "outputs": [
    {
     "data": {
      "text/plain": [
       "0.7777777777777778"
      ]
     },
     "execution_count": 48,
     "metadata": {},
     "output_type": "execute_result"
    }
   ],
   "source": [
    "clf.score(xtest,ytest)"
   ]
  },
  {
   "cell_type": "markdown",
   "id": "02918033",
   "metadata": {},
   "source": [
    "# ROC CURVE"
   ]
  },
  {
   "cell_type": "code",
   "execution_count": 49,
   "id": "95c6493c",
   "metadata": {},
   "outputs": [
    {
     "data": {
      "text/plain": [
       "[<matplotlib.lines.Line2D at 0x13d7cde4220>]"
      ]
     },
     "execution_count": 49,
     "metadata": {},
     "output_type": "execute_result"
    },
    {
     "data": {
      "image/png": "[encoded data removed]",
      "text/plain": [
       "<Figure size 432x288 with 1 Axes>"
      ]
     },
     "metadata": {
      "needs_background": "light"
     },
     "output_type": "display_data"
    }
   ],
   "source": [
    "plot_roc_curve(clf,xtest,ytest,color='cyan')\n",
    "plt.plot([0,1],[0,1])"
   ]
  },
  {
   "cell_type": "markdown",
   "id": "1b4c79c7",
   "metadata": {},
   "source": [
    "# CLF.SCORE"
   ]
  },
  {
   "cell_type": "code",
   "execution_count": 50,
   "id": "c3917c3f",
   "metadata": {},
   "outputs": [
    {
     "data": {
      "text/plain": [
       "0.7777777777777778"
      ]
     },
     "execution_count": 50,
     "metadata": {},
     "output_type": "execute_result"
    }
   ],
   "source": [
    "clf.score(xtest,ytest)"
   ]
  },
  {
   "cell_type": "markdown",
   "id": "3b6bd214",
   "metadata": {},
   "source": [
    "# Random Forest Classifier"
   ]
  },
  {
   "cell_type": "code",
   "execution_count": 51,
   "id": "e5552b77",
   "metadata": {},
   "outputs": [],
   "source": [
    "from sklearn.ensemble import RandomForestClassifier\n",
    "rfc=RandomForestClassifier()"
   ]
  },
  {
   "cell_type": "code",
   "execution_count": 52,
   "id": "6374dc2a",
   "metadata": {},
   "outputs": [
    {
     "data": {
      "text/plain": [
       "RandomForestClassifier()"
      ]
     },
     "execution_count": 52,
     "metadata": {},
     "output_type": "execute_result"
    }
   ],
   "source": [
    "rfc.fit(xtrain,ytrain)"
   ]
  },
  {
   "cell_type": "code",
   "execution_count": 53,
   "id": "423bad8f",
   "metadata": {},
   "outputs": [
    {
     "data": {
      "text/plain": [
       "0.8555555555555555"
      ]
     },
     "execution_count": 53,
     "metadata": {},
     "output_type": "execute_result"
    }
   ],
   "source": [
    "rfc.score(xtest,ytest)"
   ]
  },
  {
   "cell_type": "markdown",
   "id": "e97dba9c",
   "metadata": {},
   "source": [
    "# Optimize Machine Learning algorithmTuning Random forestvusing Randomized Search CV"
   ]
  },
  {
   "cell_type": "code",
   "execution_count": 54,
   "id": "9b6084fb",
   "metadata": {},
   "outputs": [],
   "source": [
    "from sklearn.model_selection import RandomizedSearchCV\n"
   ]
  },
  {
   "cell_type": "markdown",
   "id": "f3c11d26",
   "metadata": {},
   "source": [
    "# Assign parameters"
   ]
  },
  {
   "cell_type": "code",
   "execution_count": 55,
   "id": "10e674eb",
   "metadata": {},
   "outputs": [],
   "source": [
    "n_estimators=[int(x) for x in np.linspace(start=15,stop=200,num=20)]\n",
    "criterion=['gini','entropy']\n",
    "max_features=['auto','sqrt','log2']\n",
    "max_depth=np.random.randint(1,12,20)\n",
    "min_samples_split=np.random.randint(1,12,15)\n",
    "\n",
    "parameters={\n",
    "    'n_estimators':n_estimators,\n",
    "    'criterion':criterion,\n",
    "    'max_features':max_features,\n",
    "    'max_depth':max_depth,\n",
    "    'min_samples_split':min_samples_split\n",
    "    \n",
    "}"
   ]
  },
  {
   "cell_type": "code",
   "execution_count": 56,
   "id": "d64959ff",
   "metadata": {},
   "outputs": [
    {
     "name": "stdout",
     "output_type": "stream",
     "text": [
      "{'n_estimators': [15, 24, 34, 44, 53, 63, 73, 83, 92, 102, 112, 122, 131, 141, 151, 161, 170, 180, 190, 200], 'criterion': ['gini', 'entropy'], 'max_features': ['auto', 'sqrt', 'log2'], 'max_depth': array([10,  7,  5,  1,  2,  2, 11,  9, 11,  7,  4,  7,  2,  4,  7,  6,  2,\n",
      "        9, 11, 10]), 'min_samples_split': array([ 2,  1,  7,  5,  7,  3,  4,  2,  4, 10,  4, 11,  2,  9,  4])}\n"
     ]
    }
   ],
   "source": [
    "print(parameters)"
   ]
  },
  {
   "cell_type": "code",
   "execution_count": 57,
   "id": "693507b2",
   "metadata": {},
   "outputs": [
    {
     "data": {
      "text/plain": [
       "RandomizedSearchCV(cv=3, estimator=RandomForestClassifier(), n_iter=100,\n",
       "                   param_distributions={'criterion': ['gini', 'entropy'],\n",
       "                                        'max_depth': array([10,  7,  5,  1,  2,  2, 11,  9, 11,  7,  4,  7,  2,  4,  7,  6,  2,\n",
       "        9, 11, 10]),\n",
       "                                        'max_features': ['auto', 'sqrt',\n",
       "                                                         'log2'],\n",
       "                                        'min_samples_split': array([ 2,  1,  7,  5,  7,  3,  4,  2,  4, 10,  4, 11,  2,  9,  4]),\n",
       "                                        'n_estimators': [15, 24, 34, 44, 53, 63,\n",
       "                                                         73, 83, 92, 102, 112,\n",
       "                                                         122, 131, 141, 151,\n",
       "                                                         161, 170, 180, 190,\n",
       "                                                         200]})"
      ]
     },
     "execution_count": 57,
     "metadata": {},
     "output_type": "execute_result"
    }
   ],
   "source": [
    "import warnings\n",
    "warnings.filterwarnings('ignore')\n",
    "r=RandomizedSearchCV(rfc,parameters,n_iter=100,cv=3)\n",
    "r.fit(xtrain,ytrain)"
   ]
  },
  {
   "cell_type": "code",
   "execution_count": 58,
   "id": "575da9db",
   "metadata": {},
   "outputs": [
    {
     "data": {
      "text/plain": [
       "{'mean_fit_time': array([0.08921806, 0.20577741, 0.11081306, 0.2392017 , 0.20055628,\n",
       "        0.08985829, 0.07943726, 0.39592187, 0.10549076, 0.12982194,\n",
       "        0.14412427, 0.20576485, 0.25700068, 0.1849393 , 0.12329276,\n",
       "        0.16713556, 0.07206877, 0.05426025, 0.34470185, 0.02822375,\n",
       "        0.05122423, 0.24440893, 0.11808475, 0.10028529, 0.16496587,\n",
       "        0.31646689, 0.35207582, 0.22648144, 0.33309555, 0.12849148,\n",
       "        0.12632402, 0.2652421 , 0.18494296, 0.16930636, 0.09507132,\n",
       "        0.37218348, 0.33730992, 0.19839931, 0.11590783, 0.2747937 ,\n",
       "        0.36465899, 0.17704066, 0.38026619, 0.36986375, 0.21836241,\n",
       "        0.19656467, 0.05972282, 0.06072211, 0.15206003, 0.44557309,\n",
       "        0.25178719, 0.1849335 , 0.25603596, 0.15246844, 0.26426808,\n",
       "        0.41411503, 0.1441319 , 0.36581755, 0.03560177, 0.52600567,\n",
       "        0.03863788, 0.03038573, 0.56523538, 0.54186813, 0.41624236,\n",
       "        0.1128703 , 0.11590902, 0.42536974, 0.52418701, 0.16930405,\n",
       "        0.04905311, 0.18953307, 0.08451541, 0.1567138 , 0.14027333,\n",
       "        0.27036365, 0.21020627, 0.3362937 , 0.08465203, 0.19150329,\n",
       "        0.09893107, 0.02821755, 0.10062313, 0.24580868, 0.06027079,\n",
       "        0.05576762, 0.13067269, 0.2600499 , 0.17451914, 0.03863716,\n",
       "        0.2442855 , 0.19015137, 0.35200445, 0.45019404, 0.10028124,\n",
       "        0.12850444, 0.3528014 , 0.16410708, 0.08618919, 0.35727612]),\n",
       " 'std_fit_time': array([9.34286306e-03, 7.36558572e-03, 5.30336536e-03, 6.40278906e-03,\n",
       "        2.54561383e-06, 7.36440342e-03, 7.36440315e-03, 4.83078349e-02,\n",
       "        7.36350428e-03, 2.43182651e-03, 4.30302810e-03, 7.36468415e-03,\n",
       "        4.29442682e-03, 3.31698048e-06, 6.40798839e-03, 3.07273004e-03,\n",
       "        4.29403526e-03, 6.40314584e-03, 4.27037713e-03, 4.29038084e-03,\n",
       "        3.07806914e-03, 4.29887067e-03, 3.07851999e-03, 3.27482188e-06,\n",
       "        3.07284528e-03, 3.21251280e-06, 3.08026803e-03, 4.16020888e-03,\n",
       "        4.14925949e-03, 4.29397718e-03, 7.37255245e-03, 3.07183627e-03,\n",
       "        2.16773060e-06, 3.78143859e-06, 7.37451861e-03, 6.54934850e-03,\n",
       "        7.36771889e-03, 3.07368598e-03, 1.76637258e-06, 7.36434706e-03,\n",
       "        7.36772029e-03, 6.37987158e-03, 7.35448996e-03, 4.49004074e-06,\n",
       "        3.07582091e-03, 1.33117379e-02, 4.71988518e-04, 9.43584252e-04,\n",
       "        1.57584835e-02, 1.42330167e-01, 3.07454798e-03, 1.32507737e-06,\n",
       "        8.39582480e-02, 3.93803148e-03, 5.24631825e-03, 1.68705966e-01,\n",
       "        4.29948444e-03, 2.74899964e-02, 3.07733906e-03, 9.53791751e-02,\n",
       "        6.40991946e-03, 6.40883088e-03, 1.89086813e-01, 1.58503830e-01,\n",
       "        7.81144669e-02, 4.29229369e-03, 8.50396735e-06, 7.42581381e-02,\n",
       "        1.38739942e-01, 3.35107941e-06, 3.07677632e-03, 2.64456541e-02,\n",
       "        1.56518887e-04, 4.30229904e-03, 1.37795318e-02, 1.01101773e-03,\n",
       "        6.43484255e-02, 2.97159797e-02, 1.83992972e-06, 9.63070140e-03,\n",
       "        1.87177099e-03, 4.29088664e-03, 1.02619017e-02, 3.43794359e-02,\n",
       "        1.28719590e-02, 8.42122618e-03, 1.04392694e-02, 4.29212870e-03,\n",
       "        7.36417977e-03, 6.40995124e-03, 4.21849449e-03, 7.38165555e-03,\n",
       "        1.03004861e-02, 1.02210119e-02, 2.03239311e-06, 9.29312446e-03,\n",
       "        7.17165417e-03, 7.37418239e-03, 5.66589965e-03, 4.28672822e-03]),\n",
       " 'mean_score_time': array([0.01926359, 0.02173901, 0.00586732, 0.02301002, 0.01562746,\n",
       "        0.00520897, 0.        , 0.02083707, 0.01259383, 0.01425687,\n",
       "        0.00738446, 0.02300596, 0.02604461, 0.01562532, 0.01041873,\n",
       "        0.01259104, 0.00520913, 0.0073839 , 0.03342239, 0.01041547,\n",
       "        0.00521032, 0.01780319, 0.01041627, 0.        , 0.01779795,\n",
       "        0.0230062 , 0.02822177, 0.01779763, 0.02398515, 0.00521183,\n",
       "        0.01258977, 0.01780486, 0.01562723, 0.01042144, 0.00521262,\n",
       "        0.02364333, 0.02301009, 0.01476542, 0.00520865, 0.02083659,\n",
       "        0.02831578, 0.0156347 , 0.0260493 , 0.03125183, 0.02084104,\n",
       "        0.016886  , 0.        , 0.00800721, 0.01957345, 0.02714356,\n",
       "        0.0208385 , 0.01562707, 0.0245622 , 0.00520945, 0.01563048,\n",
       "        0.024803  , 0.01562842, 0.03384535, 0.01041873, 0.04619598,\n",
       "        0.0052073 , 0.01042231, 0.03568339, 0.04341682, 0.03342573,\n",
       "        0.01563215, 0.01258969, 0.04603489, 0.04819552, 0.01041722,\n",
       "        0.00520897, 0.02189223, 0.01038329, 0.01563001, 0.01354861,\n",
       "        0.03903365, 0.01301193, 0.01857527, 0.01562699, 0.01536504,\n",
       "        0.01780081, 0.        , 0.00667183, 0.01552836, 0.        ,\n",
       "        0.        , 0.01042263, 0.02300453, 0.01041913, 0.        ,\n",
       "        0.02300946, 0.01562548, 0.023012  , 0.03646286, 0.00738041,\n",
       "        0.01041698, 0.03038843, 0.01713896, 0.00738335, 0.03125207]),\n",
       " 'std_score_time': array([5.53921576e-03, 8.63589202e-03, 4.37831150e-03, 6.40451879e-03,\n",
       "        9.19964862e-07, 7.36659477e-03, 0.00000000e+00, 7.36423521e-03,\n",
       "        4.29600327e-03, 1.93819316e-03, 6.41465371e-03, 6.40842598e-03,\n",
       "        7.36625769e-03, 1.57348234e-06, 7.36715674e-03, 4.29453908e-03,\n",
       "        7.36681955e-03, 6.41337248e-03, 3.06952703e-03, 7.36485278e-03,\n",
       "        7.36850543e-03, 3.07082339e-03, 7.36541484e-03, 0.00000000e+00,\n",
       "        3.07132514e-03, 6.40664976e-03, 9.29954138e-03, 3.06817820e-03,\n",
       "        6.41986746e-03, 7.37064087e-03, 9.29103741e-03, 3.07048722e-03,\n",
       "        2.97360213e-07, 7.36906852e-03, 7.37176478e-03, 2.12616829e-03,\n",
       "        6.40709473e-03, 6.40741445e-03, 7.36614520e-03, 7.36558325e-03,\n",
       "        9.39152211e-03, 4.38038946e-06, 7.36856304e-03, 1.67836444e-06,\n",
       "        7.37120295e-03, 9.79913780e-04, 0.00000000e+00, 1.41624672e-03,\n",
       "        7.50970606e-03, 3.76604940e-03, 7.36474129e-03, 2.97360213e-07,\n",
       "        1.16699235e-02, 7.36726912e-03, 2.70441366e-06, 4.58478500e-03,\n",
       "        7.95364126e-06, 3.67003569e-03, 7.36715675e-03, 2.11256866e-02,\n",
       "        7.36423455e-03, 7.36968935e-03, 3.13475904e-03, 1.28670019e-02,\n",
       "        3.07509028e-03, 4.10190833e-06, 4.29526964e-03, 1.65163617e-02,\n",
       "        2.39578422e-02, 7.36608909e-03, 7.36659477e-03, 9.29047734e-03,\n",
       "        7.34227876e-03, 3.39415177e-06, 1.52474566e-03, 2.12340881e-02,\n",
       "        8.72931469e-03, 2.26691021e-03, 6.83651389e-07, 3.76909754e-04,\n",
       "        3.06863022e-03, 0.00000000e+00, 4.99289039e-03, 5.77214257e-03,\n",
       "        0.00000000e+00, 0.00000000e+00, 7.36991338e-03, 6.40779666e-03,\n",
       "        7.36743774e-03, 0.00000000e+00, 6.41355548e-03, 1.94667955e-07,\n",
       "        6.40397449e-03, 7.36468424e-03, 1.04374703e-02, 7.36592048e-03,\n",
       "        1.04394946e-02, 2.14139765e-03, 6.41265658e-03, 1.62093465e-06]),\n",
       " 'param_n_estimators': masked_array(data=[44, 102, 53, 122, 102, 44, 131, 190, 53, 63, 73, 112,\n",
       "                    131, 92, 63, 83, 34, 24, 190, 15, 24, 131, 63, 44, 83,\n",
       "                    161, 180, 122, 170, 63, 63, 131, 92, 83, 44, 190, 170,\n",
       "                    102, 53, 141, 190, 92, 200, 190, 112, 92, 83, 24, 73,\n",
       "                    170, 131, 92, 83, 73, 131, 141, 73, 161, 15, 190, 15,\n",
       "                    15, 190, 190, 170, 53, 53, 161, 200, 83, 24, 83, 44,\n",
       "                    83, 63, 112, 83, 161, 44, 92, 53, 44, 44, 92, 63, 24,\n",
       "                    63, 131, 83, 15, 122, 92, 151, 190, 44, 53, 161, 73,\n",
       "                    34, 151],\n",
       "              mask=[False, False, False, False, False, False, False, False,\n",
       "                    False, False, False, False, False, False, False, False,\n",
       "                    False, False, False, False, False, False, False, False,\n",
       "                    False, False, False, False, False, False, False, False,\n",
       "                    False, False, False, False, False, False, False, False,\n",
       "                    False, False, False, False, False, False, False, False,\n",
       "                    False, False, False, False, False, False, False, False,\n",
       "                    False, False, False, False, False, False, False, False,\n",
       "                    False, False, False, False, False, False, False, False,\n",
       "                    False, False, False, False, False, False, False, False,\n",
       "                    False, False, False, False, False, False, False, False,\n",
       "                    False, False, False, False, False, False, False, False,\n",
       "                    False, False, False, False],\n",
       "        fill_value='?',\n",
       "             dtype=object),\n",
       " 'param_min_samples_split': masked_array(data=[4, 7, 9, 4, 2, 10, 1, 5, 7, 7, 4, 9, 4, 2, 7, 9, 5, 2,\n",
       "                    3, 4, 2, 2, 2, 2, 2, 4, 4, 4, 2, 9, 7, 4, 5, 4, 2, 2,\n",
       "                    11, 2, 4, 2, 7, 2, 11, 11, 4, 3, 1, 11, 4, 11, 4, 10,\n",
       "                    4, 11, 9, 7, 3, 7, 9, 7, 7, 4, 2, 5, 7, 2, 7, 7, 2, 11,\n",
       "                    2, 11, 9, 2, 3, 10, 11, 4, 7, 3, 3, 1, 4, 11, 1, 4, 2,\n",
       "                    5, 3, 2, 5, 2, 7, 2, 3, 3, 2, 9, 7, 2],\n",
       "              mask=[False, False, False, False, False, False, False, False,\n",
       "                    False, False, False, False, False, False, False, False,\n",
       "                    False, False, False, False, False, False, False, False,\n",
       "                    False, False, False, False, False, False, False, False,\n",
       "                    False, False, False, False, False, False, False, False,\n",
       "                    False, False, False, False, False, False, False, False,\n",
       "                    False, False, False, False, False, False, False, False,\n",
       "                    False, False, False, False, False, False, False, False,\n",
       "                    False, False, False, False, False, False, False, False,\n",
       "                    False, False, False, False, False, False, False, False,\n",
       "                    False, False, False, False, False, False, False, False,\n",
       "                    False, False, False, False, False, False, False, False,\n",
       "                    False, False, False, False],\n",
       "        fill_value='?',\n",
       "             dtype=object),\n",
       " 'param_max_features': masked_array(data=['log2', 'log2', 'auto', 'log2', 'sqrt', 'auto', 'auto',\n",
       "                    'auto', 'sqrt', 'sqrt', 'log2', 'sqrt', 'auto', 'log2',\n",
       "                    'log2', 'log2', 'sqrt', 'auto', 'sqrt', 'auto', 'sqrt',\n",
       "                    'sqrt', 'auto', 'log2', 'log2', 'sqrt', 'log2', 'log2',\n",
       "                    'sqrt', 'sqrt', 'auto', 'auto', 'sqrt', 'auto', 'sqrt',\n",
       "                    'auto', 'sqrt', 'sqrt', 'log2', 'log2', 'auto', 'auto',\n",
       "                    'auto', 'sqrt', 'sqrt', 'sqrt', 'sqrt', 'sqrt', 'auto',\n",
       "                    'auto', 'auto', 'auto', 'sqrt', 'sqrt', 'log2', 'log2',\n",
       "                    'sqrt', 'sqrt', 'sqrt', 'auto', 'auto', 'log2', 'log2',\n",
       "                    'auto', 'auto', 'auto', 'sqrt', 'log2', 'log2', 'sqrt',\n",
       "                    'auto', 'sqrt', 'auto', 'log2', 'auto', 'sqrt', 'sqrt',\n",
       "                    'sqrt', 'log2', 'auto', 'sqrt', 'log2', 'sqrt', 'sqrt',\n",
       "                    'log2', 'sqrt', 'sqrt', 'log2', 'log2', 'sqrt', 'log2',\n",
       "                    'sqrt', 'auto', 'auto', 'sqrt', 'sqrt', 'auto', 'log2',\n",
       "                    'sqrt', 'auto'],\n",
       "              mask=[False, False, False, False, False, False, False, False,\n",
       "                    False, False, False, False, False, False, False, False,\n",
       "                    False, False, False, False, False, False, False, False,\n",
       "                    False, False, False, False, False, False, False, False,\n",
       "                    False, False, False, False, False, False, False, False,\n",
       "                    False, False, False, False, False, False, False, False,\n",
       "                    False, False, False, False, False, False, False, False,\n",
       "                    False, False, False, False, False, False, False, False,\n",
       "                    False, False, False, False, False, False, False, False,\n",
       "                    False, False, False, False, False, False, False, False,\n",
       "                    False, False, False, False, False, False, False, False,\n",
       "                    False, False, False, False, False, False, False, False,\n",
       "                    False, False, False, False],\n",
       "        fill_value='?',\n",
       "             dtype=object),\n",
       " 'param_max_depth': masked_array(data=[10, 10, 11, 7, 11, 2, 11, 2, 9, 7, 4, 2, 6, 11, 10, 5,\n",
       "                    7, 7, 1, 7, 2, 1, 2, 5, 9, 4, 11, 1, 4, 2, 10, 11, 10,\n",
       "                    9, 4, 4, 7, 2, 7, 11, 2, 4, 4, 4, 7, 2, 5, 6, 11, 9, 4,\n",
       "                    7, 4, 6, 7, 5, 7, 7, 7, 7, 7, 2, 7, 10, 2, 1, 2, 11,\n",
       "                    10, 9, 1, 2, 2, 2, 11, 10, 9, 2, 6, 5, 6, 10, 5, 11, 1,\n",
       "                    11, 7, 11, 7, 2, 4, 7, 9, 9, 2, 9, 2, 1, 10, 7],\n",
       "              mask=[False, False, False, False, False, False, False, False,\n",
       "                    False, False, False, False, False, False, False, False,\n",
       "                    False, False, False, False, False, False, False, False,\n",
       "                    False, False, False, False, False, False, False, False,\n",
       "                    False, False, False, False, False, False, False, False,\n",
       "                    False, False, False, False, False, False, False, False,\n",
       "                    False, False, False, False, False, False, False, False,\n",
       "                    False, False, False, False, False, False, False, False,\n",
       "                    False, False, False, False, False, False, False, False,\n",
       "                    False, False, False, False, False, False, False, False,\n",
       "                    False, False, False, False, False, False, False, False,\n",
       "                    False, False, False, False, False, False, False, False,\n",
       "                    False, False, False, False],\n",
       "        fill_value='?',\n",
       "             dtype=object),\n",
       " 'param_criterion': masked_array(data=['gini', 'entropy', 'gini', 'gini', 'gini', 'entropy',\n",
       "                    'entropy', 'entropy', 'entropy', 'entropy', 'gini',\n",
       "                    'gini', 'entropy', 'entropy', 'entropy', 'entropy',\n",
       "                    'gini', 'entropy', 'gini', 'gini', 'gini', 'entropy',\n",
       "                    'gini', 'entropy', 'gini', 'entropy', 'gini', 'gini',\n",
       "                    'entropy', 'entropy', 'entropy', 'entropy', 'gini',\n",
       "                    'entropy', 'entropy', 'gini', 'gini', 'entropy',\n",
       "                    'entropy', 'gini', 'entropy', 'gini', 'gini',\n",
       "                    'entropy', 'entropy', 'entropy', 'gini', 'entropy',\n",
       "                    'gini', 'entropy', 'gini', 'entropy', 'entropy',\n",
       "                    'entropy', 'gini', 'gini', 'gini', 'entropy',\n",
       "                    'entropy', 'entropy', 'entropy', 'entropy', 'entropy',\n",
       "                    'entropy', 'gini', 'entropy', 'entropy', 'gini',\n",
       "                    'gini', 'gini', 'entropy', 'entropy', 'gini', 'gini',\n",
       "                    'entropy', 'gini', 'entropy', 'gini', 'gini', 'gini',\n",
       "                    'gini', 'entropy', 'gini', 'entropy', 'entropy',\n",
       "                    'gini', 'gini', 'gini', 'entropy', 'entropy',\n",
       "                    'entropy', 'gini', 'gini', 'entropy', 'entropy',\n",
       "                    'entropy', 'gini', 'entropy', 'gini', 'entropy'],\n",
       "              mask=[False, False, False, False, False, False, False, False,\n",
       "                    False, False, False, False, False, False, False, False,\n",
       "                    False, False, False, False, False, False, False, False,\n",
       "                    False, False, False, False, False, False, False, False,\n",
       "                    False, False, False, False, False, False, False, False,\n",
       "                    False, False, False, False, False, False, False, False,\n",
       "                    False, False, False, False, False, False, False, False,\n",
       "                    False, False, False, False, False, False, False, False,\n",
       "                    False, False, False, False, False, False, False, False,\n",
       "                    False, False, False, False, False, False, False, False,\n",
       "                    False, False, False, False, False, False, False, False,\n",
       "                    False, False, False, False, False, False, False, False,\n",
       "                    False, False, False, False],\n",
       "        fill_value='?',\n",
       "             dtype=object),\n",
       " 'params': [{'n_estimators': 44,\n",
       "   'min_samples_split': 4,\n",
       "   'max_features': 'log2',\n",
       "   'max_depth': 10,\n",
       "   'criterion': 'gini'},\n",
       "  {'n_estimators': 102,\n",
       "   'min_samples_split': 7,\n",
       "   'max_features': 'log2',\n",
       "   'max_depth': 10,\n",
       "   'criterion': 'entropy'},\n",
       "  {'n_estimators': 53,\n",
       "   'min_samples_split': 9,\n",
       "   'max_features': 'auto',\n",
       "   'max_depth': 11,\n",
       "   'criterion': 'gini'},\n",
       "  {'n_estimators': 122,\n",
       "   'min_samples_split': 4,\n",
       "   'max_features': 'log2',\n",
       "   'max_depth': 7,\n",
       "   'criterion': 'gini'},\n",
       "  {'n_estimators': 102,\n",
       "   'min_samples_split': 2,\n",
       "   'max_features': 'sqrt',\n",
       "   'max_depth': 11,\n",
       "   'criterion': 'gini'},\n",
       "  {'n_estimators': 44,\n",
       "   'min_samples_split': 10,\n",
       "   'max_features': 'auto',\n",
       "   'max_depth': 2,\n",
       "   'criterion': 'entropy'},\n",
       "  {'n_estimators': 131,\n",
       "   'min_samples_split': 1,\n",
       "   'max_features': 'auto',\n",
       "   'max_depth': 11,\n",
       "   'criterion': 'entropy'},\n",
       "  {'n_estimators': 190,\n",
       "   'min_samples_split': 5,\n",
       "   'max_features': 'auto',\n",
       "   'max_depth': 2,\n",
       "   'criterion': 'entropy'},\n",
       "  {'n_estimators': 53,\n",
       "   'min_samples_split': 7,\n",
       "   'max_features': 'sqrt',\n",
       "   'max_depth': 9,\n",
       "   'criterion': 'entropy'},\n",
       "  {'n_estimators': 63,\n",
       "   'min_samples_split': 7,\n",
       "   'max_features': 'sqrt',\n",
       "   'max_depth': 7,\n",
       "   'criterion': 'entropy'},\n",
       "  {'n_estimators': 73,\n",
       "   'min_samples_split': 4,\n",
       "   'max_features': 'log2',\n",
       "   'max_depth': 4,\n",
       "   'criterion': 'gini'},\n",
       "  {'n_estimators': 112,\n",
       "   'min_samples_split': 9,\n",
       "   'max_features': 'sqrt',\n",
       "   'max_depth': 2,\n",
       "   'criterion': 'gini'},\n",
       "  {'n_estimators': 131,\n",
       "   'min_samples_split': 4,\n",
       "   'max_features': 'auto',\n",
       "   'max_depth': 6,\n",
       "   'criterion': 'entropy'},\n",
       "  {'n_estimators': 92,\n",
       "   'min_samples_split': 2,\n",
       "   'max_features': 'log2',\n",
       "   'max_depth': 11,\n",
       "   'criterion': 'entropy'},\n",
       "  {'n_estimators': 63,\n",
       "   'min_samples_split': 7,\n",
       "   'max_features': 'log2',\n",
       "   'max_depth': 10,\n",
       "   'criterion': 'entropy'},\n",
       "  {'n_estimators': 83,\n",
       "   'min_samples_split': 9,\n",
       "   'max_features': 'log2',\n",
       "   'max_depth': 5,\n",
       "   'criterion': 'entropy'},\n",
       "  {'n_estimators': 34,\n",
       "   'min_samples_split': 5,\n",
       "   'max_features': 'sqrt',\n",
       "   'max_depth': 7,\n",
       "   'criterion': 'gini'},\n",
       "  {'n_estimators': 24,\n",
       "   'min_samples_split': 2,\n",
       "   'max_features': 'auto',\n",
       "   'max_depth': 7,\n",
       "   'criterion': 'entropy'},\n",
       "  {'n_estimators': 190,\n",
       "   'min_samples_split': 3,\n",
       "   'max_features': 'sqrt',\n",
       "   'max_depth': 1,\n",
       "   'criterion': 'gini'},\n",
       "  {'n_estimators': 15,\n",
       "   'min_samples_split': 4,\n",
       "   'max_features': 'auto',\n",
       "   'max_depth': 7,\n",
       "   'criterion': 'gini'},\n",
       "  {'n_estimators': 24,\n",
       "   'min_samples_split': 2,\n",
       "   'max_features': 'sqrt',\n",
       "   'max_depth': 2,\n",
       "   'criterion': 'gini'},\n",
       "  {'n_estimators': 131,\n",
       "   'min_samples_split': 2,\n",
       "   'max_features': 'sqrt',\n",
       "   'max_depth': 1,\n",
       "   'criterion': 'entropy'},\n",
       "  {'n_estimators': 63,\n",
       "   'min_samples_split': 2,\n",
       "   'max_features': 'auto',\n",
       "   'max_depth': 2,\n",
       "   'criterion': 'gini'},\n",
       "  {'n_estimators': 44,\n",
       "   'min_samples_split': 2,\n",
       "   'max_features': 'log2',\n",
       "   'max_depth': 5,\n",
       "   'criterion': 'entropy'},\n",
       "  {'n_estimators': 83,\n",
       "   'min_samples_split': 2,\n",
       "   'max_features': 'log2',\n",
       "   'max_depth': 9,\n",
       "   'criterion': 'gini'},\n",
       "  {'n_estimators': 161,\n",
       "   'min_samples_split': 4,\n",
       "   'max_features': 'sqrt',\n",
       "   'max_depth': 4,\n",
       "   'criterion': 'entropy'},\n",
       "  {'n_estimators': 180,\n",
       "   'min_samples_split': 4,\n",
       "   'max_features': 'log2',\n",
       "   'max_depth': 11,\n",
       "   'criterion': 'gini'},\n",
       "  {'n_estimators': 122,\n",
       "   'min_samples_split': 4,\n",
       "   'max_features': 'log2',\n",
       "   'max_depth': 1,\n",
       "   'criterion': 'gini'},\n",
       "  {'n_estimators': 170,\n",
       "   'min_samples_split': 2,\n",
       "   'max_features': 'sqrt',\n",
       "   'max_depth': 4,\n",
       "   'criterion': 'entropy'},\n",
       "  {'n_estimators': 63,\n",
       "   'min_samples_split': 9,\n",
       "   'max_features': 'sqrt',\n",
       "   'max_depth': 2,\n",
       "   'criterion': 'entropy'},\n",
       "  {'n_estimators': 63,\n",
       "   'min_samples_split': 7,\n",
       "   'max_features': 'auto',\n",
       "   'max_depth': 10,\n",
       "   'criterion': 'entropy'},\n",
       "  {'n_estimators': 131,\n",
       "   'min_samples_split': 4,\n",
       "   'max_features': 'auto',\n",
       "   'max_depth': 11,\n",
       "   'criterion': 'entropy'},\n",
       "  {'n_estimators': 92,\n",
       "   'min_samples_split': 5,\n",
       "   'max_features': 'sqrt',\n",
       "   'max_depth': 10,\n",
       "   'criterion': 'gini'},\n",
       "  {'n_estimators': 83,\n",
       "   'min_samples_split': 4,\n",
       "   'max_features': 'auto',\n",
       "   'max_depth': 9,\n",
       "   'criterion': 'entropy'},\n",
       "  {'n_estimators': 44,\n",
       "   'min_samples_split': 2,\n",
       "   'max_features': 'sqrt',\n",
       "   'max_depth': 4,\n",
       "   'criterion': 'entropy'},\n",
       "  {'n_estimators': 190,\n",
       "   'min_samples_split': 2,\n",
       "   'max_features': 'auto',\n",
       "   'max_depth': 4,\n",
       "   'criterion': 'gini'},\n",
       "  {'n_estimators': 170,\n",
       "   'min_samples_split': 11,\n",
       "   'max_features': 'sqrt',\n",
       "   'max_depth': 7,\n",
       "   'criterion': 'gini'},\n",
       "  {'n_estimators': 102,\n",
       "   'min_samples_split': 2,\n",
       "   'max_features': 'sqrt',\n",
       "   'max_depth': 2,\n",
       "   'criterion': 'entropy'},\n",
       "  {'n_estimators': 53,\n",
       "   'min_samples_split': 4,\n",
       "   'max_features': 'log2',\n",
       "   'max_depth': 7,\n",
       "   'criterion': 'entropy'},\n",
       "  {'n_estimators': 141,\n",
       "   'min_samples_split': 2,\n",
       "   'max_features': 'log2',\n",
       "   'max_depth': 11,\n",
       "   'criterion': 'gini'},\n",
       "  {'n_estimators': 190,\n",
       "   'min_samples_split': 7,\n",
       "   'max_features': 'auto',\n",
       "   'max_depth': 2,\n",
       "   'criterion': 'entropy'},\n",
       "  {'n_estimators': 92,\n",
       "   'min_samples_split': 2,\n",
       "   'max_features': 'auto',\n",
       "   'max_depth': 4,\n",
       "   'criterion': 'gini'},\n",
       "  {'n_estimators': 200,\n",
       "   'min_samples_split': 11,\n",
       "   'max_features': 'auto',\n",
       "   'max_depth': 4,\n",
       "   'criterion': 'gini'},\n",
       "  {'n_estimators': 190,\n",
       "   'min_samples_split': 11,\n",
       "   'max_features': 'sqrt',\n",
       "   'max_depth': 4,\n",
       "   'criterion': 'entropy'},\n",
       "  {'n_estimators': 112,\n",
       "   'min_samples_split': 4,\n",
       "   'max_features': 'sqrt',\n",
       "   'max_depth': 7,\n",
       "   'criterion': 'entropy'},\n",
       "  {'n_estimators': 92,\n",
       "   'min_samples_split': 3,\n",
       "   'max_features': 'sqrt',\n",
       "   'max_depth': 2,\n",
       "   'criterion': 'entropy'},\n",
       "  {'n_estimators': 83,\n",
       "   'min_samples_split': 1,\n",
       "   'max_features': 'sqrt',\n",
       "   'max_depth': 5,\n",
       "   'criterion': 'gini'},\n",
       "  {'n_estimators': 24,\n",
       "   'min_samples_split': 11,\n",
       "   'max_features': 'sqrt',\n",
       "   'max_depth': 6,\n",
       "   'criterion': 'entropy'},\n",
       "  {'n_estimators': 73,\n",
       "   'min_samples_split': 4,\n",
       "   'max_features': 'auto',\n",
       "   'max_depth': 11,\n",
       "   'criterion': 'gini'},\n",
       "  {'n_estimators': 170,\n",
       "   'min_samples_split': 11,\n",
       "   'max_features': 'auto',\n",
       "   'max_depth': 9,\n",
       "   'criterion': 'entropy'},\n",
       "  {'n_estimators': 131,\n",
       "   'min_samples_split': 4,\n",
       "   'max_features': 'auto',\n",
       "   'max_depth': 4,\n",
       "   'criterion': 'gini'},\n",
       "  {'n_estimators': 92,\n",
       "   'min_samples_split': 10,\n",
       "   'max_features': 'auto',\n",
       "   'max_depth': 7,\n",
       "   'criterion': 'entropy'},\n",
       "  {'n_estimators': 83,\n",
       "   'min_samples_split': 4,\n",
       "   'max_features': 'sqrt',\n",
       "   'max_depth': 4,\n",
       "   'criterion': 'entropy'},\n",
       "  {'n_estimators': 73,\n",
       "   'min_samples_split': 11,\n",
       "   'max_features': 'sqrt',\n",
       "   'max_depth': 6,\n",
       "   'criterion': 'entropy'},\n",
       "  {'n_estimators': 131,\n",
       "   'min_samples_split': 9,\n",
       "   'max_features': 'log2',\n",
       "   'max_depth': 7,\n",
       "   'criterion': 'gini'},\n",
       "  {'n_estimators': 141,\n",
       "   'min_samples_split': 7,\n",
       "   'max_features': 'log2',\n",
       "   'max_depth': 5,\n",
       "   'criterion': 'gini'},\n",
       "  {'n_estimators': 73,\n",
       "   'min_samples_split': 3,\n",
       "   'max_features': 'sqrt',\n",
       "   'max_depth': 7,\n",
       "   'criterion': 'gini'},\n",
       "  {'n_estimators': 161,\n",
       "   'min_samples_split': 7,\n",
       "   'max_features': 'sqrt',\n",
       "   'max_depth': 7,\n",
       "   'criterion': 'entropy'},\n",
       "  {'n_estimators': 15,\n",
       "   'min_samples_split': 9,\n",
       "   'max_features': 'sqrt',\n",
       "   'max_depth': 7,\n",
       "   'criterion': 'entropy'},\n",
       "  {'n_estimators': 190,\n",
       "   'min_samples_split': 7,\n",
       "   'max_features': 'auto',\n",
       "   'max_depth': 7,\n",
       "   'criterion': 'entropy'},\n",
       "  {'n_estimators': 15,\n",
       "   'min_samples_split': 7,\n",
       "   'max_features': 'auto',\n",
       "   'max_depth': 7,\n",
       "   'criterion': 'entropy'},\n",
       "  {'n_estimators': 15,\n",
       "   'min_samples_split': 4,\n",
       "   'max_features': 'log2',\n",
       "   'max_depth': 2,\n",
       "   'criterion': 'entropy'},\n",
       "  {'n_estimators': 190,\n",
       "   'min_samples_split': 2,\n",
       "   'max_features': 'log2',\n",
       "   'max_depth': 7,\n",
       "   'criterion': 'entropy'},\n",
       "  {'n_estimators': 190,\n",
       "   'min_samples_split': 5,\n",
       "   'max_features': 'auto',\n",
       "   'max_depth': 10,\n",
       "   'criterion': 'entropy'},\n",
       "  {'n_estimators': 170,\n",
       "   'min_samples_split': 7,\n",
       "   'max_features': 'auto',\n",
       "   'max_depth': 2,\n",
       "   'criterion': 'gini'},\n",
       "  {'n_estimators': 53,\n",
       "   'min_samples_split': 2,\n",
       "   'max_features': 'auto',\n",
       "   'max_depth': 1,\n",
       "   'criterion': 'entropy'},\n",
       "  {'n_estimators': 53,\n",
       "   'min_samples_split': 7,\n",
       "   'max_features': 'sqrt',\n",
       "   'max_depth': 2,\n",
       "   'criterion': 'entropy'},\n",
       "  {'n_estimators': 161,\n",
       "   'min_samples_split': 7,\n",
       "   'max_features': 'log2',\n",
       "   'max_depth': 11,\n",
       "   'criterion': 'gini'},\n",
       "  {'n_estimators': 200,\n",
       "   'min_samples_split': 2,\n",
       "   'max_features': 'log2',\n",
       "   'max_depth': 10,\n",
       "   'criterion': 'gini'},\n",
       "  {'n_estimators': 83,\n",
       "   'min_samples_split': 11,\n",
       "   'max_features': 'sqrt',\n",
       "   'max_depth': 9,\n",
       "   'criterion': 'gini'},\n",
       "  {'n_estimators': 24,\n",
       "   'min_samples_split': 2,\n",
       "   'max_features': 'auto',\n",
       "   'max_depth': 1,\n",
       "   'criterion': 'entropy'},\n",
       "  {'n_estimators': 83,\n",
       "   'min_samples_split': 11,\n",
       "   'max_features': 'sqrt',\n",
       "   'max_depth': 2,\n",
       "   'criterion': 'entropy'},\n",
       "  {'n_estimators': 44,\n",
       "   'min_samples_split': 9,\n",
       "   'max_features': 'auto',\n",
       "   'max_depth': 2,\n",
       "   'criterion': 'gini'},\n",
       "  {'n_estimators': 83,\n",
       "   'min_samples_split': 2,\n",
       "   'max_features': 'log2',\n",
       "   'max_depth': 2,\n",
       "   'criterion': 'gini'},\n",
       "  {'n_estimators': 63,\n",
       "   'min_samples_split': 3,\n",
       "   'max_features': 'auto',\n",
       "   'max_depth': 11,\n",
       "   'criterion': 'entropy'},\n",
       "  {'n_estimators': 112,\n",
       "   'min_samples_split': 10,\n",
       "   'max_features': 'sqrt',\n",
       "   'max_depth': 10,\n",
       "   'criterion': 'gini'},\n",
       "  {'n_estimators': 83,\n",
       "   'min_samples_split': 11,\n",
       "   'max_features': 'sqrt',\n",
       "   'max_depth': 9,\n",
       "   'criterion': 'entropy'},\n",
       "  {'n_estimators': 161,\n",
       "   'min_samples_split': 4,\n",
       "   'max_features': 'sqrt',\n",
       "   'max_depth': 2,\n",
       "   'criterion': 'gini'},\n",
       "  {'n_estimators': 44,\n",
       "   'min_samples_split': 7,\n",
       "   'max_features': 'log2',\n",
       "   'max_depth': 6,\n",
       "   'criterion': 'gini'},\n",
       "  {'n_estimators': 92,\n",
       "   'min_samples_split': 3,\n",
       "   'max_features': 'auto',\n",
       "   'max_depth': 5,\n",
       "   'criterion': 'gini'},\n",
       "  {'n_estimators': 53,\n",
       "   'min_samples_split': 3,\n",
       "   'max_features': 'sqrt',\n",
       "   'max_depth': 6,\n",
       "   'criterion': 'gini'},\n",
       "  {'n_estimators': 44,\n",
       "   'min_samples_split': 1,\n",
       "   'max_features': 'log2',\n",
       "   'max_depth': 10,\n",
       "   'criterion': 'entropy'},\n",
       "  {'n_estimators': 44,\n",
       "   'min_samples_split': 4,\n",
       "   'max_features': 'sqrt',\n",
       "   'max_depth': 5,\n",
       "   'criterion': 'gini'},\n",
       "  {'n_estimators': 92,\n",
       "   'min_samples_split': 11,\n",
       "   'max_features': 'sqrt',\n",
       "   'max_depth': 11,\n",
       "   'criterion': 'entropy'},\n",
       "  {'n_estimators': 63,\n",
       "   'min_samples_split': 1,\n",
       "   'max_features': 'log2',\n",
       "   'max_depth': 1,\n",
       "   'criterion': 'entropy'},\n",
       "  {'n_estimators': 24,\n",
       "   'min_samples_split': 4,\n",
       "   'max_features': 'sqrt',\n",
       "   'max_depth': 11,\n",
       "   'criterion': 'gini'},\n",
       "  {'n_estimators': 63,\n",
       "   'min_samples_split': 2,\n",
       "   'max_features': 'sqrt',\n",
       "   'max_depth': 7,\n",
       "   'criterion': 'gini'},\n",
       "  {'n_estimators': 131,\n",
       "   'min_samples_split': 5,\n",
       "   'max_features': 'log2',\n",
       "   'max_depth': 11,\n",
       "   'criterion': 'gini'},\n",
       "  {'n_estimators': 83,\n",
       "   'min_samples_split': 3,\n",
       "   'max_features': 'log2',\n",
       "   'max_depth': 7,\n",
       "   'criterion': 'entropy'},\n",
       "  {'n_estimators': 15,\n",
       "   'min_samples_split': 2,\n",
       "   'max_features': 'sqrt',\n",
       "   'max_depth': 2,\n",
       "   'criterion': 'entropy'},\n",
       "  {'n_estimators': 122,\n",
       "   'min_samples_split': 5,\n",
       "   'max_features': 'log2',\n",
       "   'max_depth': 4,\n",
       "   'criterion': 'entropy'},\n",
       "  {'n_estimators': 92,\n",
       "   'min_samples_split': 2,\n",
       "   'max_features': 'sqrt',\n",
       "   'max_depth': 7,\n",
       "   'criterion': 'gini'},\n",
       "  {'n_estimators': 151,\n",
       "   'min_samples_split': 7,\n",
       "   'max_features': 'auto',\n",
       "   'max_depth': 9,\n",
       "   'criterion': 'gini'},\n",
       "  {'n_estimators': 190,\n",
       "   'min_samples_split': 2,\n",
       "   'max_features': 'auto',\n",
       "   'max_depth': 9,\n",
       "   'criterion': 'entropy'},\n",
       "  {'n_estimators': 44,\n",
       "   'min_samples_split': 3,\n",
       "   'max_features': 'sqrt',\n",
       "   'max_depth': 2,\n",
       "   'criterion': 'entropy'},\n",
       "  {'n_estimators': 53,\n",
       "   'min_samples_split': 3,\n",
       "   'max_features': 'sqrt',\n",
       "   'max_depth': 9,\n",
       "   'criterion': 'entropy'},\n",
       "  {'n_estimators': 161,\n",
       "   'min_samples_split': 2,\n",
       "   'max_features': 'auto',\n",
       "   'max_depth': 2,\n",
       "   'criterion': 'gini'},\n",
       "  {'n_estimators': 73,\n",
       "   'min_samples_split': 9,\n",
       "   'max_features': 'log2',\n",
       "   'max_depth': 1,\n",
       "   'criterion': 'entropy'},\n",
       "  {'n_estimators': 34,\n",
       "   'min_samples_split': 7,\n",
       "   'max_features': 'sqrt',\n",
       "   'max_depth': 10,\n",
       "   'criterion': 'gini'},\n",
       "  {'n_estimators': 151,\n",
       "   'min_samples_split': 2,\n",
       "   'max_features': 'auto',\n",
       "   'max_depth': 7,\n",
       "   'criterion': 'entropy'}],\n",
       " 'split0_test_score': array([0.84285714, 0.85714286, 0.9       , 0.87142857, 0.85714286,\n",
       "        0.82857143,        nan, 0.82857143, 0.88571429, 0.88571429,\n",
       "        0.85714286, 0.82857143, 0.87142857, 0.87142857, 0.84285714,\n",
       "        0.87142857, 0.88571429, 0.82857143, 0.72857143, 0.88571429,\n",
       "        0.82857143, 0.72857143, 0.87142857, 0.84285714, 0.84285714,\n",
       "        0.87142857, 0.87142857, 0.75714286, 0.85714286, 0.82857143,\n",
       "        0.88571429, 0.84285714, 0.87142857, 0.84285714, 0.84285714,\n",
       "        0.87142857, 0.85714286, 0.81428571, 0.85714286, 0.84285714,\n",
       "        0.8       , 0.88571429, 0.87142857, 0.87142857, 0.87142857,\n",
       "        0.8       ,        nan, 0.87142857, 0.84285714, 0.85714286,\n",
       "        0.85714286, 0.9       , 0.87142857, 0.85714286, 0.87142857,\n",
       "        0.82857143, 0.85714286, 0.87142857, 0.87142857, 0.85714286,\n",
       "        0.87142857, 0.78571429, 0.85714286, 0.85714286, 0.81428571,\n",
       "        0.72857143, 0.82857143, 0.87142857, 0.84285714, 0.87142857,\n",
       "        0.8       , 0.81428571, 0.77142857, 0.82857143, 0.85714286,\n",
       "        0.9       , 0.85714286, 0.81428571, 0.85714286, 0.84285714,\n",
       "        0.82857143,        nan, 0.87142857, 0.85714286,        nan,\n",
       "        0.85714286, 0.88571429, 0.85714286, 0.87142857, 0.88571429,\n",
       "        0.84285714, 0.87142857, 0.85714286, 0.82857143, 0.81428571,\n",
       "        0.88571429, 0.82857143, 0.72857143, 0.81428571, 0.87142857]),\n",
       " 'split1_test_score': array([0.78571429, 0.8       , 0.78571429, 0.77142857, 0.78571429,\n",
       "        0.8       ,        nan, 0.8       , 0.78571429, 0.78571429,\n",
       "        0.78571429, 0.8       , 0.8       , 0.75714286, 0.78571429,\n",
       "        0.78571429, 0.75714286, 0.78571429, 0.74285714, 0.81428571,\n",
       "        0.8       , 0.77142857, 0.8       , 0.75714286, 0.78571429,\n",
       "        0.8       , 0.77142857, 0.77142857, 0.78571429, 0.8       ,\n",
       "        0.77142857, 0.78571429, 0.77142857, 0.77142857, 0.8       ,\n",
       "        0.78571429, 0.78571429, 0.81428571, 0.78571429, 0.78571429,\n",
       "        0.8       , 0.78571429, 0.78571429, 0.8       , 0.8       ,\n",
       "        0.8       ,        nan, 0.77142857, 0.8       , 0.78571429,\n",
       "        0.8       , 0.8       , 0.8       , 0.78571429, 0.8       ,\n",
       "        0.77142857, 0.77142857, 0.8       , 0.77142857, 0.8       ,\n",
       "        0.78571429, 0.77142857, 0.8       , 0.78571429, 0.8       ,\n",
       "        0.75714286, 0.78571429, 0.78571429, 0.78571429, 0.78571429,\n",
       "        0.78571429, 0.8       , 0.8       , 0.8       , 0.77142857,\n",
       "        0.77142857, 0.78571429, 0.8       , 0.75714286, 0.78571429,\n",
       "        0.78571429,        nan, 0.8       , 0.78571429,        nan,\n",
       "        0.81428571, 0.74285714, 0.81428571, 0.77142857, 0.77142857,\n",
       "        0.8       , 0.78571429, 0.78571429, 0.78571429, 0.81428571,\n",
       "        0.78571429, 0.8       , 0.71428571, 0.8       , 0.78571429]),\n",
       " 'split2_test_score': array([0.82608696, 0.86956522, 0.85507246, 0.84057971, 0.84057971,\n",
       "        0.82608696,        nan, 0.7826087 , 0.84057971, 0.85507246,\n",
       "        0.85507246, 0.7826087 , 0.82608696, 0.85507246, 0.85507246,\n",
       "        0.84057971, 0.82608696, 0.76811594, 0.73913043, 0.82608696,\n",
       "        0.75362319, 0.75362319, 0.75362319, 0.8115942 , 0.84057971,\n",
       "        0.88405797, 0.85507246, 0.73913043, 0.82608696, 0.79710145,\n",
       "        0.82608696, 0.85507246, 0.86956522, 0.85507246, 0.7826087 ,\n",
       "        0.8115942 , 0.86956522, 0.85507246, 0.85507246, 0.88405797,\n",
       "        0.8115942 , 0.84057971, 0.82608696, 0.79710145, 0.84057971,\n",
       "        0.75362319,        nan, 0.84057971, 0.89855072, 0.84057971,\n",
       "        0.85507246, 0.86956522, 0.84057971, 0.84057971, 0.85507246,\n",
       "        0.85507246, 0.86956522, 0.86956522, 0.8115942 , 0.85507246,\n",
       "        0.82608696, 0.7826087 , 0.86956522, 0.84057971, 0.8115942 ,\n",
       "        0.73913043, 0.79710145, 0.85507246, 0.82608696, 0.86956522,\n",
       "        0.76811594, 0.84057971, 0.84057971, 0.75362319, 0.84057971,\n",
       "        0.84057971, 0.86956522, 0.8115942 , 0.84057971, 0.84057971,\n",
       "        0.84057971,        nan, 0.8115942 , 0.82608696,        nan,\n",
       "        0.8115942 , 0.86956522, 0.86956522, 0.82608696, 0.73913043,\n",
       "        0.8115942 , 0.86956522, 0.84057971, 0.85507246, 0.75362319,\n",
       "        0.82608696, 0.7826087 , 0.73913043, 0.8115942 , 0.86956522]),\n",
       " 'mean_test_score': array([0.81821946, 0.84223602, 0.84692892, 0.82781228, 0.82781228,\n",
       "        0.81821946,        nan, 0.80372671, 0.83733609, 0.84216701,\n",
       "        0.8326432 , 0.80372671, 0.83250518, 0.8278813 , 0.8278813 ,\n",
       "        0.83257419, 0.82298137, 0.79413389, 0.736853  , 0.84202899,\n",
       "        0.79406487, 0.75120773, 0.80835059, 0.80386473, 0.82305038,\n",
       "        0.85182885, 0.8326432 , 0.75590062, 0.82298137, 0.80855763,\n",
       "        0.82774327, 0.8278813 , 0.83747412, 0.82311939, 0.80848861,\n",
       "        0.82291235, 0.83747412, 0.8278813 , 0.8326432 , 0.83754313,\n",
       "        0.80386473, 0.83733609, 0.82774327, 0.82284334, 0.83733609,\n",
       "        0.78454106,        nan, 0.82781228, 0.84713596, 0.82781228,\n",
       "        0.83740511, 0.85652174, 0.83733609, 0.82781228, 0.84216701,\n",
       "        0.81835749, 0.83271222, 0.84699793, 0.81815045, 0.83740511,\n",
       "        0.82774327, 0.77991718, 0.84223602, 0.82781228, 0.80862664,\n",
       "        0.74161491, 0.80379572, 0.83740511, 0.81821946, 0.84223602,\n",
       "        0.78461008, 0.81828847, 0.80400276, 0.79406487, 0.82305038,\n",
       "        0.83733609, 0.83747412, 0.80862664, 0.81828847, 0.82305038,\n",
       "        0.81828847,        nan, 0.82767426, 0.82298137,        nan,\n",
       "        0.82767426, 0.83271222, 0.84699793, 0.82298137, 0.79875776,\n",
       "        0.81815045, 0.84223602, 0.82781228, 0.82311939, 0.79406487,\n",
       "        0.83250518, 0.80372671, 0.72732919, 0.80862664, 0.84223602]),\n",
       " 'std_test_score': array([0.02398263, 0.0302929 , 0.04701095, 0.04181113, 0.03052612,\n",
       "        0.01292297,        nan, 0.01894834, 0.04088921, 0.04183231,\n",
       "        0.03319452, 0.01894834, 0.02951164, 0.05046336, 0.03023074,\n",
       "        0.03544762, 0.05253498, 0.02538876, 0.00605037, 0.03126363,\n",
       "        0.03088397, 0.01757952, 0.04845497, 0.03541698, 0.02641697,\n",
       "        0.03700944, 0.04379729, 0.01321488, 0.02924316, 0.01420128,\n",
       "        0.04667164, 0.03023074, 0.04670745, 0.03688956, 0.02531813,\n",
       "        0.03589624, 0.03694942, 0.01922706, 0.03319452, 0.0403241 ,\n",
       "        0.00546556, 0.04088921, 0.0350123 , 0.03437532, 0.02925065,\n",
       "        0.02186224,        nan, 0.04181113, 0.04034677, 0.03052612,\n",
       "        0.02646291, 0.04185371, 0.02925065, 0.03052612, 0.03055512,\n",
       "        0.0349029 , 0.04362983, 0.03324126, 0.04108721, 0.02646291,\n",
       "        0.0350123 , 0.0061348 , 0.0302929 , 0.03052612, 0.00619813,\n",
       "        0.01179579, 0.01812537, 0.03715585, 0.02398263, 0.03997414,\n",
       "        0.01304001, 0.01680664, 0.02837236, 0.03088397, 0.03712315,\n",
       "        0.05253915, 0.03694942, 0.00619813, 0.04376204, 0.02641697,\n",
       "        0.02354935,        nan, 0.03129895, 0.02924316,        nan,\n",
       "        0.0208664 , 0.06387826, 0.02368045, 0.04088385, 0.06288545,\n",
       "        0.01810013, 0.03997414, 0.03052612, 0.0285766 , 0.02859659,\n",
       "        0.04107631, 0.01894834, 0.01018078, 0.00619813, 0.03997414]),\n",
       " 'rank_test_score': array([ 66,   7,   6,  39,  39,  66, 100,  81,  25,  13,  29,  81,  33,\n",
       "         35,  35,  32,  56,  85,  95,  14,  86,  93,  76,  78,  53,   2,\n",
       "         29,  92,  56,  74,  46,  35,  16,  51,  75,  60,  16,  35,  29,\n",
       "         15,  78,  25,  46,  61,  22,  90,  97,  39,   3,  39,  19,   1,\n",
       "         22,  39,  12,  62,  27,   4,  69,  19,  46,  91,   7,  39,  71,\n",
       "         94,  80,  19,  66,   7,  89,  63,  77,  86,  53,  22,  16,  71,\n",
       "         63,  53,  63,  99,  49,  56,  98,  50,  27,   5,  56,  84,  69,\n",
       "          7,  39,  51,  86,  33,  81,  96,  71,   7])}"
      ]
     },
     "execution_count": 58,
     "metadata": {},
     "output_type": "execute_result"
    }
   ],
   "source": [
    "r.cv_results_"
   ]
  },
  {
   "cell_type": "code",
   "execution_count": 59,
   "id": "4de22a5b",
   "metadata": {},
   "outputs": [
    {
     "data": {
      "text/html": [
       "<div>\n",
       "<style scoped>\n",
       "    .dataframe tbody tr th:only-of-type {\n",
       "        vertical-align: middle;\n",
       "    }\n",
       "\n",
       "    .dataframe tbody tr th {\n",
       "        vertical-align: top;\n",
       "    }\n",
       "\n",
       "    .dataframe thead th {\n",
       "        text-align: right;\n",
       "    }\n",
       "</style>\n",
       "<table border=\"1\" class=\"dataframe\">\n",
       "  <thead>\n",
       "    <tr style=\"text-align: right;\">\n",
       "      <th></th>\n",
       "      <th>mean_fit_time</th>\n",
       "      <th>std_fit_time</th>\n",
       "      <th>mean_score_time</th>\n",
       "      <th>std_score_time</th>\n",
       "      <th>param_n_estimators</th>\n",
       "      <th>param_min_samples_split</th>\n",
       "      <th>param_max_features</th>\n",
       "      <th>param_max_depth</th>\n",
       "      <th>param_criterion</th>\n",
       "      <th>params</th>\n",
       "      <th>split0_test_score</th>\n",
       "      <th>split1_test_score</th>\n",
       "      <th>split2_test_score</th>\n",
       "      <th>mean_test_score</th>\n",
       "      <th>std_test_score</th>\n",
       "      <th>rank_test_score</th>\n",
       "    </tr>\n",
       "  </thead>\n",
       "  <tbody>\n",
       "    <tr>\n",
       "      <th>0</th>\n",
       "      <td>0.089218</td>\n",
       "      <td>0.009343</td>\n",
       "      <td>0.019264</td>\n",
       "      <td>5.539216e-03</td>\n",
       "      <td>44</td>\n",
       "      <td>4</td>\n",
       "      <td>log2</td>\n",
       "      <td>10</td>\n",
       "      <td>gini</td>\n",
       "      <td>{'n_estimators': 44, 'min_samples_split': 4, '...</td>\n",
       "      <td>0.842857</td>\n",
       "      <td>0.785714</td>\n",
       "      <td>0.826087</td>\n",
       "      <td>0.818219</td>\n",
       "      <td>0.023983</td>\n",
       "      <td>66</td>\n",
       "    </tr>\n",
       "    <tr>\n",
       "      <th>1</th>\n",
       "      <td>0.205777</td>\n",
       "      <td>0.007366</td>\n",
       "      <td>0.021739</td>\n",
       "      <td>8.635892e-03</td>\n",
       "      <td>102</td>\n",
       "      <td>7</td>\n",
       "      <td>log2</td>\n",
       "      <td>10</td>\n",
       "      <td>entropy</td>\n",
       "      <td>{'n_estimators': 102, 'min_samples_split': 7, ...</td>\n",
       "      <td>0.857143</td>\n",
       "      <td>0.800000</td>\n",
       "      <td>0.869565</td>\n",
       "      <td>0.842236</td>\n",
       "      <td>0.030293</td>\n",
       "      <td>7</td>\n",
       "    </tr>\n",
       "    <tr>\n",
       "      <th>2</th>\n",
       "      <td>0.110813</td>\n",
       "      <td>0.005303</td>\n",
       "      <td>0.005867</td>\n",
       "      <td>4.378312e-03</td>\n",
       "      <td>53</td>\n",
       "      <td>9</td>\n",
       "      <td>auto</td>\n",
       "      <td>11</td>\n",
       "      <td>gini</td>\n",
       "      <td>{'n_estimators': 53, 'min_samples_split': 9, '...</td>\n",
       "      <td>0.900000</td>\n",
       "      <td>0.785714</td>\n",
       "      <td>0.855072</td>\n",
       "      <td>0.846929</td>\n",
       "      <td>0.047011</td>\n",
       "      <td>6</td>\n",
       "    </tr>\n",
       "    <tr>\n",
       "      <th>3</th>\n",
       "      <td>0.239202</td>\n",
       "      <td>0.006403</td>\n",
       "      <td>0.023010</td>\n",
       "      <td>6.404519e-03</td>\n",
       "      <td>122</td>\n",
       "      <td>4</td>\n",
       "      <td>log2</td>\n",
       "      <td>7</td>\n",
       "      <td>gini</td>\n",
       "      <td>{'n_estimators': 122, 'min_samples_split': 4, ...</td>\n",
       "      <td>0.871429</td>\n",
       "      <td>0.771429</td>\n",
       "      <td>0.840580</td>\n",
       "      <td>0.827812</td>\n",
       "      <td>0.041811</td>\n",
       "      <td>39</td>\n",
       "    </tr>\n",
       "    <tr>\n",
       "      <th>4</th>\n",
       "      <td>0.200556</td>\n",
       "      <td>0.000003</td>\n",
       "      <td>0.015627</td>\n",
       "      <td>9.199649e-07</td>\n",
       "      <td>102</td>\n",
       "      <td>2</td>\n",
       "      <td>sqrt</td>\n",
       "      <td>11</td>\n",
       "      <td>gini</td>\n",
       "      <td>{'n_estimators': 102, 'min_samples_split': 2, ...</td>\n",
       "      <td>0.857143</td>\n",
       "      <td>0.785714</td>\n",
       "      <td>0.840580</td>\n",
       "      <td>0.827812</td>\n",
       "      <td>0.030526</td>\n",
       "      <td>39</td>\n",
       "    </tr>\n",
       "    <tr>\n",
       "      <th>...</th>\n",
       "      <td>...</td>\n",
       "      <td>...</td>\n",
       "      <td>...</td>\n",
       "      <td>...</td>\n",
       "      <td>...</td>\n",
       "      <td>...</td>\n",
       "      <td>...</td>\n",
       "      <td>...</td>\n",
       "      <td>...</td>\n",
       "      <td>...</td>\n",
       "      <td>...</td>\n",
       "      <td>...</td>\n",
       "      <td>...</td>\n",
       "      <td>...</td>\n",
       "      <td>...</td>\n",
       "      <td>...</td>\n",
       "    </tr>\n",
       "    <tr>\n",
       "      <th>95</th>\n",
       "      <td>0.128504</td>\n",
       "      <td>0.009293</td>\n",
       "      <td>0.010417</td>\n",
       "      <td>7.365920e-03</td>\n",
       "      <td>53</td>\n",
       "      <td>3</td>\n",
       "      <td>sqrt</td>\n",
       "      <td>9</td>\n",
       "      <td>entropy</td>\n",
       "      <td>{'n_estimators': 53, 'min_samples_split': 3, '...</td>\n",
       "      <td>0.885714</td>\n",
       "      <td>0.785714</td>\n",
       "      <td>0.826087</td>\n",
       "      <td>0.832505</td>\n",
       "      <td>0.041076</td>\n",
       "      <td>33</td>\n",
       "    </tr>\n",
       "    <tr>\n",
       "      <th>96</th>\n",
       "      <td>0.352801</td>\n",
       "      <td>0.007172</td>\n",
       "      <td>0.030388</td>\n",
       "      <td>1.043949e-02</td>\n",
       "      <td>161</td>\n",
       "      <td>2</td>\n",
       "      <td>auto</td>\n",
       "      <td>2</td>\n",
       "      <td>gini</td>\n",
       "      <td>{'n_estimators': 161, 'min_samples_split': 2, ...</td>\n",
       "      <td>0.828571</td>\n",
       "      <td>0.800000</td>\n",
       "      <td>0.782609</td>\n",
       "      <td>0.803727</td>\n",
       "      <td>0.018948</td>\n",
       "      <td>81</td>\n",
       "    </tr>\n",
       "    <tr>\n",
       "      <th>97</th>\n",
       "      <td>0.164107</td>\n",
       "      <td>0.007374</td>\n",
       "      <td>0.017139</td>\n",
       "      <td>2.141398e-03</td>\n",
       "      <td>73</td>\n",
       "      <td>9</td>\n",
       "      <td>log2</td>\n",
       "      <td>1</td>\n",
       "      <td>entropy</td>\n",
       "      <td>{'n_estimators': 73, 'min_samples_split': 9, '...</td>\n",
       "      <td>0.728571</td>\n",
       "      <td>0.714286</td>\n",
       "      <td>0.739130</td>\n",
       "      <td>0.727329</td>\n",
       "      <td>0.010181</td>\n",
       "      <td>96</td>\n",
       "    </tr>\n",
       "    <tr>\n",
       "      <th>98</th>\n",
       "      <td>0.086189</td>\n",
       "      <td>0.005666</td>\n",
       "      <td>0.007383</td>\n",
       "      <td>6.412657e-03</td>\n",
       "      <td>34</td>\n",
       "      <td>7</td>\n",
       "      <td>sqrt</td>\n",
       "      <td>10</td>\n",
       "      <td>gini</td>\n",
       "      <td>{'n_estimators': 34, 'min_samples_split': 7, '...</td>\n",
       "      <td>0.814286</td>\n",
       "      <td>0.800000</td>\n",
       "      <td>0.811594</td>\n",
       "      <td>0.808627</td>\n",
       "      <td>0.006198</td>\n",
       "      <td>71</td>\n",
       "    </tr>\n",
       "    <tr>\n",
       "      <th>99</th>\n",
       "      <td>0.357276</td>\n",
       "      <td>0.004287</td>\n",
       "      <td>0.031252</td>\n",
       "      <td>1.620935e-06</td>\n",
       "      <td>151</td>\n",
       "      <td>2</td>\n",
       "      <td>auto</td>\n",
       "      <td>7</td>\n",
       "      <td>entropy</td>\n",
       "      <td>{'n_estimators': 151, 'min_samples_split': 2, ...</td>\n",
       "      <td>0.871429</td>\n",
       "      <td>0.785714</td>\n",
       "      <td>0.869565</td>\n",
       "      <td>0.842236</td>\n",
       "      <td>0.039974</td>\n",
       "      <td>7</td>\n",
       "    </tr>\n",
       "  </tbody>\n",
       "</table>\n",
       "<p>100 rows × 16 columns</p>\n",
       "</div>"
      ],
      "text/plain": [
       "    mean_fit_time  std_fit_time  mean_score_time  std_score_time  \\\n",
       "0        0.089218      0.009343         0.019264    5.539216e-03   \n",
       "1        0.205777      0.007366         0.021739    8.635892e-03   \n",
       "2        0.110813      0.005303         0.005867    4.378312e-03   \n",
       "3        0.239202      0.006403         0.023010    6.404519e-03   \n",
       "4        0.200556      0.000003         0.015627    9.199649e-07   \n",
       "..            ...           ...              ...             ...   \n",
       "95       0.128504      0.009293         0.010417    7.365920e-03   \n",
       "96       0.352801      0.007172         0.030388    1.043949e-02   \n",
       "97       0.164107      0.007374         0.017139    2.141398e-03   \n",
       "98       0.086189      0.005666         0.007383    6.412657e-03   \n",
       "99       0.357276      0.004287         0.031252    1.620935e-06   \n",
       "\n",
       "   param_n_estimators param_min_samples_split param_max_features  \\\n",
       "0                  44                       4               log2   \n",
       "1                 102                       7               log2   \n",
       "2                  53                       9               auto   \n",
       "3                 122                       4               log2   \n",
       "4                 102                       2               sqrt   \n",
       "..                ...                     ...                ...   \n",
       "95                 53                       3               sqrt   \n",
       "96                161                       2               auto   \n",
       "97                 73                       9               log2   \n",
       "98                 34                       7               sqrt   \n",
       "99                151                       2               auto   \n",
       "\n",
       "   param_max_depth param_criterion  \\\n",
       "0               10            gini   \n",
       "1               10         entropy   \n",
       "2               11            gini   \n",
       "3                7            gini   \n",
       "4               11            gini   \n",
       "..             ...             ...   \n",
       "95               9         entropy   \n",
       "96               2            gini   \n",
       "97               1         entropy   \n",
       "98              10            gini   \n",
       "99               7         entropy   \n",
       "\n",
       "                                               params  split0_test_score  \\\n",
       "0   {'n_estimators': 44, 'min_samples_split': 4, '...           0.842857   \n",
       "1   {'n_estimators': 102, 'min_samples_split': 7, ...           0.857143   \n",
       "2   {'n_estimators': 53, 'min_samples_split': 9, '...           0.900000   \n",
       "3   {'n_estimators': 122, 'min_samples_split': 4, ...           0.871429   \n",
       "4   {'n_estimators': 102, 'min_samples_split': 2, ...           0.857143   \n",
       "..                                                ...                ...   \n",
       "95  {'n_estimators': 53, 'min_samples_split': 3, '...           0.885714   \n",
       "96  {'n_estimators': 161, 'min_samples_split': 2, ...           0.828571   \n",
       "97  {'n_estimators': 73, 'min_samples_split': 9, '...           0.728571   \n",
       "98  {'n_estimators': 34, 'min_samples_split': 7, '...           0.814286   \n",
       "99  {'n_estimators': 151, 'min_samples_split': 2, ...           0.871429   \n",
       "\n",
       "    split1_test_score  split2_test_score  mean_test_score  std_test_score  \\\n",
       "0            0.785714           0.826087         0.818219        0.023983   \n",
       "1            0.800000           0.869565         0.842236        0.030293   \n",
       "2            0.785714           0.855072         0.846929        0.047011   \n",
       "3            0.771429           0.840580         0.827812        0.041811   \n",
       "4            0.785714           0.840580         0.827812        0.030526   \n",
       "..                ...                ...              ...             ...   \n",
       "95           0.785714           0.826087         0.832505        0.041076   \n",
       "96           0.800000           0.782609         0.803727        0.018948   \n",
       "97           0.714286           0.739130         0.727329        0.010181   \n",
       "98           0.800000           0.811594         0.808627        0.006198   \n",
       "99           0.785714           0.869565         0.842236        0.039974   \n",
       "\n",
       "    rank_test_score  \n",
       "0                66  \n",
       "1                 7  \n",
       "2                 6  \n",
       "3                39  \n",
       "4                39  \n",
       "..              ...  \n",
       "95               33  \n",
       "96               81  \n",
       "97               96  \n",
       "98               71  \n",
       "99                7  \n",
       "\n",
       "[100 rows x 16 columns]"
      ]
     },
     "execution_count": 59,
     "metadata": {},
     "output_type": "execute_result"
    }
   ],
   "source": [
    "result=pd.DataFrame(r.cv_results_)\n",
    "result"
   ]
  },
  {
   "cell_type": "code",
   "execution_count": 60,
   "id": "2c9b77ee",
   "metadata": {},
   "outputs": [
    {
     "data": {
      "text/plain": [
       "0.8565217391304348"
      ]
     },
     "execution_count": 60,
     "metadata": {},
     "output_type": "execute_result"
    }
   ],
   "source": [
    "r.best_score_"
   ]
  },
  {
   "cell_type": "code",
   "execution_count": 61,
   "id": "dd2689cf",
   "metadata": {},
   "outputs": [
    {
     "data": {
      "text/plain": [
       "RandomForestClassifier(criterion='entropy', max_depth=7, min_samples_split=10,\n",
       "                       n_estimators=92)"
      ]
     },
     "execution_count": 61,
     "metadata": {},
     "output_type": "execute_result"
    }
   ],
   "source": [
    "r.best_estimator_"
   ]
  },
  {
   "cell_type": "code",
   "execution_count": 62,
   "id": "25f6b99e",
   "metadata": {},
   "outputs": [],
   "source": [
    "new_r=r.best_estimator_"
   ]
  },
  {
   "cell_type": "code",
   "execution_count": 63,
   "id": "48fd0578",
   "metadata": {},
   "outputs": [
    {
     "data": {
      "text/plain": [
       "RandomForestClassifier(criterion='entropy', max_depth=7, min_samples_split=10,\n",
       "                       n_estimators=92)"
      ]
     },
     "execution_count": 63,
     "metadata": {},
     "output_type": "execute_result"
    }
   ],
   "source": [
    "new_r"
   ]
  },
  {
   "cell_type": "code",
   "execution_count": 64,
   "id": "6571c69f",
   "metadata": {},
   "outputs": [
    {
     "data": {
      "text/plain": [
       "RandomForestClassifier(criterion='entropy', max_depth=7, min_samples_split=10,\n",
       "                       n_estimators=92)"
      ]
     },
     "execution_count": 64,
     "metadata": {},
     "output_type": "execute_result"
    }
   ],
   "source": [
    "new_r.fit(xtrain,ytrain)"
   ]
  },
  {
   "cell_type": "code",
   "execution_count": 65,
   "id": "56c23ead",
   "metadata": {},
   "outputs": [
    {
     "data": {
      "text/plain": [
       "RandomForestClassifier(criterion='entropy', max_depth=7, min_samples_split=10,\n",
       "                       n_estimators=92)"
      ]
     },
     "execution_count": 65,
     "metadata": {},
     "output_type": "execute_result"
    }
   ],
   "source": [
    "new_r.fit(xtrain,ytrain)"
   ]
  },
  {
   "cell_type": "code",
   "execution_count": 66,
   "id": "b94f750c",
   "metadata": {},
   "outputs": [
    {
     "data": {
      "text/plain": [
       "0.8555555555555555"
      ]
     },
     "execution_count": 66,
     "metadata": {},
     "output_type": "execute_result"
    }
   ],
   "source": [
    "new_r.score(xtest,ytest)"
   ]
  },
  {
   "cell_type": "code",
   "execution_count": null,
   "id": "a8249d74",
   "metadata": {},
   "outputs": [],
   "source": []
  }
 ],
 "metadata": {
  "kernelspec": {
   "display_name": "Python 3 (ipykernel)",
   "language": "python",
   "name": "python3"
  },
  "language_info": {
   "codemirror_mode": {
    "name": "ipython",
    "version": 3
   },
   "file_extension": ".py",
   "mimetype": "text/x-python",
   "name": "python",
   "nbconvert_exporter": "python",
   "pygments_lexer": "ipython3",
   "version": "3.9.7"
  }
 },
 "nbformat": 4,
 "nbformat_minor": 5
}
